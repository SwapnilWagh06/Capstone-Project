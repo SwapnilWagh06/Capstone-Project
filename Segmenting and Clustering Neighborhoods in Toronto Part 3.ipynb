{
 "cells": [
  {
   "cell_type": "markdown",
   "metadata": {},
   "source": [
    "# Segmenting and Clustering Neighborhoods in Toronto Part 3"
   ]
  },
  {
   "cell_type": "markdown",
   "metadata": {},
   "source": [
    "##                   PART 1"
   ]
  },
  {
   "cell_type": "markdown",
   "metadata": {},
   "source": [
    "#### Installing important package"
   ]
  },
  {
   "cell_type": "code",
   "execution_count": 1,
   "metadata": {},
   "outputs": [
    {
     "name": "stdout",
     "output_type": "stream",
     "text": [
      "Collecting package metadata (current_repodata.json): ...working... done\n",
      "Solving environment: ...working... done\n",
      "\n",
      "# All requested packages already installed.\n",
      "\n",
      "Collecting package metadata (current_repodata.json): ...working... done\n",
      "Solving environment: ...working... done\n",
      "\n",
      "# All requested packages already installed.\n",
      "\n"
     ]
    }
   ],
   "source": [
    "# install beautifulsoup4\n",
    "!conda install -c conda-forge beautifulsoup4 --yes\n",
    "\n",
    "# Install lxml parser\n",
    "!conda install -c conda-forge lxml --yes"
   ]
  },
  {
   "cell_type": "markdown",
   "metadata": {},
   "source": [
    "#### Importing Liberary"
   ]
  },
  {
   "cell_type": "code",
   "execution_count": 2,
   "metadata": {},
   "outputs": [],
   "source": [
    "import warnings\n",
    "warnings.filterwarnings('ignore')\n",
    "from bs4 import BeautifulSoup\n",
    "import requests\n",
    "import numpy as np \n",
    "import pandas as pd\n",
    "import matplotlib.pyplot as plt \n",
    "import seaborn as sns"
   ]
  },
  {
   "cell_type": "markdown",
   "metadata": {},
   "source": [
    "##### 2. Scrape the Toronto post codes Wikipedia page with Beautiful Soup\n",
    " * Read the Toronto post codes wikipedia page with Beautiful Soup"
   ]
  },
  {
   "cell_type": "code",
   "execution_count": 3,
   "metadata": {},
   "outputs": [],
   "source": [
    "\n",
    "url = 'https://en.wikipedia.org/wiki/List_of_postal_codes_of_Canada:_M'\n",
    "source = requests.get(url).text\n",
    "soup = BeautifulSoup(source, 'lxml')\n",
    "\n",
    "# Get the table with the postal codes [class = 'wikitable sortable']\n",
    "table = soup.find('table', class_='wikitable sortable')"
   ]
  },
  {
   "cell_type": "markdown",
   "metadata": {},
   "source": [
    "#### converting into Dataframe"
   ]
  },
  {
   "cell_type": "code",
   "execution_count": 4,
   "metadata": {},
   "outputs": [],
   "source": [
    "postal_codes_initial_df = pd.read_html(str(table))[0]\n"
   ]
  },
  {
   "cell_type": "code",
   "execution_count": 5,
   "metadata": {},
   "outputs": [
    {
     "name": "stdout",
     "output_type": "stream",
     "text": [
      "  Postal code           Borough                                  Neighborhood\n",
      "0         M1A      Not assigned                                           NaN\n",
      "1         M2A      Not assigned                                           NaN\n",
      "2         M3A        North York                                     Parkwoods\n",
      "3         M4A        North York                              Victoria Village\n",
      "4         M5A  Downtown Toronto                    Regent Park / Harbourfront\n",
      "5         M6A        North York             Lawrence Manor / Lawrence Heights\n",
      "6         M7A  Downtown Toronto  Queen's Park / Ontario Provincial Government\n",
      "7         M8A      Not assigned                                           NaN\n",
      "8         M9A         Etobicoke                              Islington Avenue\n",
      "9         M1B       Scarborough                               Malvern / Rouge \n",
      "\n",
      "Initial Toronto postal codes dataframe shape:  (180, 3) \n",
      "\n"
     ]
    }
   ],
   "source": [
    "#3 replacing name\n",
    "postal_codes_initial_df.rename(columns={'Postcode': 'PostalCode', 'Neighbourhood': 'Neighborhood'}, inplace=True)\n",
    "print(postal_codes_initial_df.head(10), '\\n')\n",
    "print('Initial Toronto postal codes dataframe shape: ', postal_codes_initial_df.shape, '\\n')"
   ]
  },
  {
   "cell_type": "markdown",
   "metadata": {},
   "source": [
    "#### 3. Process the initial Toronto post codes Data Frame\n",
    "* Drop the rows with the 'Borough' value 'Not Assigned'"
   ]
  },
  {
   "cell_type": "code",
   "execution_count": 6,
   "metadata": {},
   "outputs": [],
   "source": [
    "\n",
    "postal_codes_initial_df.drop(postal_codes_initial_df[postal_codes_initial_df['Borough'] == 'Not assigned'].index,\n",
    "                             axis=0, inplace=True)"
   ]
  },
  {
   "cell_type": "markdown",
   "metadata": {},
   "source": [
    "* Replace the 'Not assigned' value in 'Neighborhood' with the corresponding value of 'Borough'"
   ]
  },
  {
   "cell_type": "code",
   "execution_count": 7,
   "metadata": {},
   "outputs": [
    {
     "data": {
      "text/html": [
       "<div>\n",
       "<style scoped>\n",
       "    .dataframe tbody tr th:only-of-type {\n",
       "        vertical-align: middle;\n",
       "    }\n",
       "\n",
       "    .dataframe tbody tr th {\n",
       "        vertical-align: top;\n",
       "    }\n",
       "\n",
       "    .dataframe thead th {\n",
       "        text-align: right;\n",
       "    }\n",
       "</style>\n",
       "<table border=\"1\" class=\"dataframe\">\n",
       "  <thead>\n",
       "    <tr style=\"text-align: right;\">\n",
       "      <th></th>\n",
       "      <th>Postal code</th>\n",
       "      <th>Borough</th>\n",
       "      <th>Neighborhood</th>\n",
       "    </tr>\n",
       "  </thead>\n",
       "  <tbody>\n",
       "    <tr>\n",
       "      <th>2</th>\n",
       "      <td>M3A</td>\n",
       "      <td>North York</td>\n",
       "      <td>Parkwoods</td>\n",
       "    </tr>\n",
       "    <tr>\n",
       "      <th>3</th>\n",
       "      <td>M4A</td>\n",
       "      <td>North York</td>\n",
       "      <td>Victoria Village</td>\n",
       "    </tr>\n",
       "    <tr>\n",
       "      <th>4</th>\n",
       "      <td>M5A</td>\n",
       "      <td>Downtown Toronto</td>\n",
       "      <td>Regent Park / Harbourfront</td>\n",
       "    </tr>\n",
       "    <tr>\n",
       "      <th>5</th>\n",
       "      <td>M6A</td>\n",
       "      <td>North York</td>\n",
       "      <td>Lawrence Manor / Lawrence Heights</td>\n",
       "    </tr>\n",
       "    <tr>\n",
       "      <th>6</th>\n",
       "      <td>M7A</td>\n",
       "      <td>Downtown Toronto</td>\n",
       "      <td>Queen's Park / Ontario Provincial Government</td>\n",
       "    </tr>\n",
       "    <tr>\n",
       "      <th>8</th>\n",
       "      <td>M9A</td>\n",
       "      <td>Etobicoke</td>\n",
       "      <td>Islington Avenue</td>\n",
       "    </tr>\n",
       "    <tr>\n",
       "      <th>9</th>\n",
       "      <td>M1B</td>\n",
       "      <td>Scarborough</td>\n",
       "      <td>Malvern / Rouge</td>\n",
       "    </tr>\n",
       "    <tr>\n",
       "      <th>11</th>\n",
       "      <td>M3B</td>\n",
       "      <td>North York</td>\n",
       "      <td>Don Mills</td>\n",
       "    </tr>\n",
       "    <tr>\n",
       "      <th>12</th>\n",
       "      <td>M4B</td>\n",
       "      <td>East York</td>\n",
       "      <td>Parkview Hill / Woodbine Gardens</td>\n",
       "    </tr>\n",
       "    <tr>\n",
       "      <th>13</th>\n",
       "      <td>M5B</td>\n",
       "      <td>Downtown Toronto</td>\n",
       "      <td>Garden District, Ryerson</td>\n",
       "    </tr>\n",
       "  </tbody>\n",
       "</table>\n",
       "</div>"
      ],
      "text/plain": [
       "   Postal code           Borough                                  Neighborhood\n",
       "2          M3A        North York                                     Parkwoods\n",
       "3          M4A        North York                              Victoria Village\n",
       "4          M5A  Downtown Toronto                    Regent Park / Harbourfront\n",
       "5          M6A        North York             Lawrence Manor / Lawrence Heights\n",
       "6          M7A  Downtown Toronto  Queen's Park / Ontario Provincial Government\n",
       "8          M9A         Etobicoke                              Islington Avenue\n",
       "9          M1B       Scarborough                               Malvern / Rouge\n",
       "11         M3B        North York                                     Don Mills\n",
       "12         M4B         East York              Parkview Hill / Woodbine Gardens\n",
       "13         M5B  Downtown Toronto                      Garden District, Ryerson"
      ]
     },
     "execution_count": 7,
     "metadata": {},
     "output_type": "execute_result"
    }
   ],
   "source": [
    "\n",
    "postal_codes_initial_df.loc[postal_codes_initial_df['Neighborhood'] == 'Not assigned', 'Neighborhood'] = postal_codes_initial_df.loc[postal_codes_initial_df['Neighborhood'] == 'Not assigned']['Borough']\n",
    "postal_codes_initial_df.head(10) # Notice the Queen's Park Neighborhood"
   ]
  },
  {
   "cell_type": "markdown",
   "metadata": {},
   "source": [
    "* Create a new Data Frame to combine the neighborhoods of the same postal code"
   ]
  },
  {
   "cell_type": "code",
   "execution_count": 8,
   "metadata": {},
   "outputs": [],
   "source": [
    "\n",
    "postal_codes_grouped_df = pd.DataFrame(postal_codes_initial_df.groupby('Postal code')['Neighborhood'].apply(lambda tags: ', '.join(tags))).reset_index()"
   ]
  },
  {
   "cell_type": "code",
   "execution_count": 9,
   "metadata": {},
   "outputs": [
    {
     "data": {
      "text/html": [
       "<div>\n",
       "<style scoped>\n",
       "    .dataframe tbody tr th:only-of-type {\n",
       "        vertical-align: middle;\n",
       "    }\n",
       "\n",
       "    .dataframe tbody tr th {\n",
       "        vertical-align: top;\n",
       "    }\n",
       "\n",
       "    .dataframe thead th {\n",
       "        text-align: right;\n",
       "    }\n",
       "</style>\n",
       "<table border=\"1\" class=\"dataframe\">\n",
       "  <thead>\n",
       "    <tr style=\"text-align: right;\">\n",
       "      <th></th>\n",
       "      <th>Postal code</th>\n",
       "      <th>Neighborhood</th>\n",
       "    </tr>\n",
       "  </thead>\n",
       "  <tbody>\n",
       "    <tr>\n",
       "      <th>0</th>\n",
       "      <td>M1B</td>\n",
       "      <td>Malvern / Rouge</td>\n",
       "    </tr>\n",
       "    <tr>\n",
       "      <th>1</th>\n",
       "      <td>M1C</td>\n",
       "      <td>Rouge Hill / Port Union / Highland Creek</td>\n",
       "    </tr>\n",
       "    <tr>\n",
       "      <th>2</th>\n",
       "      <td>M1E</td>\n",
       "      <td>Guildwood / Morningside / West Hill</td>\n",
       "    </tr>\n",
       "    <tr>\n",
       "      <th>3</th>\n",
       "      <td>M1G</td>\n",
       "      <td>Woburn</td>\n",
       "    </tr>\n",
       "    <tr>\n",
       "      <th>4</th>\n",
       "      <td>M1H</td>\n",
       "      <td>Cedarbrae</td>\n",
       "    </tr>\n",
       "    <tr>\n",
       "      <th>5</th>\n",
       "      <td>M1J</td>\n",
       "      <td>Scarborough Village</td>\n",
       "    </tr>\n",
       "    <tr>\n",
       "      <th>6</th>\n",
       "      <td>M1K</td>\n",
       "      <td>Kennedy Park / Ionview / East Birchmount Park</td>\n",
       "    </tr>\n",
       "    <tr>\n",
       "      <th>7</th>\n",
       "      <td>M1L</td>\n",
       "      <td>Golden Mile / Clairlea / Oakridge</td>\n",
       "    </tr>\n",
       "    <tr>\n",
       "      <th>8</th>\n",
       "      <td>M1M</td>\n",
       "      <td>Cliffside / Cliffcrest / Scarborough Village West</td>\n",
       "    </tr>\n",
       "    <tr>\n",
       "      <th>9</th>\n",
       "      <td>M1N</td>\n",
       "      <td>Birch Cliff / Cliffside West</td>\n",
       "    </tr>\n",
       "    <tr>\n",
       "      <th>10</th>\n",
       "      <td>M1P</td>\n",
       "      <td>Dorset Park / Wexford Heights / Scarborough To...</td>\n",
       "    </tr>\n",
       "    <tr>\n",
       "      <th>11</th>\n",
       "      <td>M1R</td>\n",
       "      <td>Wexford / Maryvale</td>\n",
       "    </tr>\n",
       "    <tr>\n",
       "      <th>12</th>\n",
       "      <td>M1S</td>\n",
       "      <td>Agincourt</td>\n",
       "    </tr>\n",
       "    <tr>\n",
       "      <th>13</th>\n",
       "      <td>M1T</td>\n",
       "      <td>Clarks Corners / Tam O'Shanter / Sullivan</td>\n",
       "    </tr>\n",
       "    <tr>\n",
       "      <th>14</th>\n",
       "      <td>M1V</td>\n",
       "      <td>Milliken / Agincourt North / Steeles East / L'...</td>\n",
       "    </tr>\n",
       "  </tbody>\n",
       "</table>\n",
       "</div>"
      ],
      "text/plain": [
       "   Postal code                                       Neighborhood\n",
       "0          M1B                                    Malvern / Rouge\n",
       "1          M1C           Rouge Hill / Port Union / Highland Creek\n",
       "2          M1E                Guildwood / Morningside / West Hill\n",
       "3          M1G                                             Woburn\n",
       "4          M1H                                          Cedarbrae\n",
       "5          M1J                                Scarborough Village\n",
       "6          M1K      Kennedy Park / Ionview / East Birchmount Park\n",
       "7          M1L                  Golden Mile / Clairlea / Oakridge\n",
       "8          M1M  Cliffside / Cliffcrest / Scarborough Village West\n",
       "9          M1N                       Birch Cliff / Cliffside West\n",
       "10         M1P  Dorset Park / Wexford Heights / Scarborough To...\n",
       "11         M1R                                 Wexford / Maryvale\n",
       "12         M1S                                          Agincourt\n",
       "13         M1T          Clarks Corners / Tam O'Shanter / Sullivan\n",
       "14         M1V  Milliken / Agincourt North / Steeles East / L'..."
      ]
     },
     "execution_count": 9,
     "metadata": {},
     "output_type": "execute_result"
    }
   ],
   "source": [
    "postal_codes_grouped_df.head(15)"
   ]
  },
  {
   "cell_type": "markdown",
   "metadata": {},
   "source": [
    "* Now merge the initial and combined neighborhoods data frames to the final data frame"
   ]
  },
  {
   "cell_type": "code",
   "execution_count": 10,
   "metadata": {},
   "outputs": [],
   "source": [
    "\n",
    "toronto_postal_codes_df = pd.merge(postal_codes_initial_df, postal_codes_grouped_df, how='inner', \n",
    "                                   on=['Postal code', 'Postal code'])\n",
    "\n",
    "# Drop the single neighborhood column\n",
    "toronto_postal_codes_df.drop('Neighborhood_x', axis=1, inplace=True)\n",
    "\n",
    "# Now drop the created duplicate rows\n",
    "toronto_postal_codes_df.drop_duplicates(inplace=True)\n",
    "\n",
    "# Rename the created Neighborhood_y to Neighborhood\n",
    "toronto_postal_codes_df.rename(columns={'Neighborhood_y': 'Neighborhood'}, inplace=True)\n",
    "\n",
    "# Reset the data frame index\n",
    "toronto_postal_codes_df.reset_index(drop=True, inplace=True)"
   ]
  },
  {
   "cell_type": "markdown",
   "metadata": {},
   "source": [
    "* Check an example from the instruction where one postal code has many neighborhoods"
   ]
  },
  {
   "cell_type": "code",
   "execution_count": 11,
   "metadata": {},
   "outputs": [
    {
     "data": {
      "text/html": [
       "<div>\n",
       "<style scoped>\n",
       "    .dataframe tbody tr th:only-of-type {\n",
       "        vertical-align: middle;\n",
       "    }\n",
       "\n",
       "    .dataframe tbody tr th {\n",
       "        vertical-align: top;\n",
       "    }\n",
       "\n",
       "    .dataframe thead th {\n",
       "        text-align: right;\n",
       "    }\n",
       "</style>\n",
       "<table border=\"1\" class=\"dataframe\">\n",
       "  <thead>\n",
       "    <tr style=\"text-align: right;\">\n",
       "      <th></th>\n",
       "      <th>Postal code</th>\n",
       "      <th>Borough</th>\n",
       "      <th>Neighborhood</th>\n",
       "    </tr>\n",
       "  </thead>\n",
       "  <tbody>\n",
       "    <tr>\n",
       "      <th>87</th>\n",
       "      <td>M5V</td>\n",
       "      <td>Downtown Toronto</td>\n",
       "      <td>CN Tower / King and Spadina / Railway Lands / Harbourfront West / Bathurst Quay / South Niagara / Island airport</td>\n",
       "    </tr>\n",
       "  </tbody>\n",
       "</table>\n",
       "</div>"
      ],
      "text/plain": [
       "   Postal code           Borough  \\\n",
       "87  M5V         Downtown Toronto   \n",
       "\n",
       "                                                                                                        Neighborhood  \n",
       "87  CN Tower / King and Spadina / Railway Lands / Harbourfront West / Bathurst Quay / South Niagara / Island airport  "
      ]
     },
     "execution_count": 11,
     "metadata": {},
     "output_type": "execute_result"
    }
   ],
   "source": [
    "\n",
    "# Set the pandas dataframe display.max_colwidth to -1 so that the full data frame columns are shown\n",
    "pd.set_option('display.max_colwidth', -1)\n",
    "toronto_postal_codes_df[toronto_postal_codes_df['Postal code'] == 'M5V']"
   ]
  },
  {
   "cell_type": "code",
   "execution_count": 12,
   "metadata": {},
   "outputs": [
    {
     "data": {
      "text/html": [
       "<div>\n",
       "<style scoped>\n",
       "    .dataframe tbody tr th:only-of-type {\n",
       "        vertical-align: middle;\n",
       "    }\n",
       "\n",
       "    .dataframe tbody tr th {\n",
       "        vertical-align: top;\n",
       "    }\n",
       "\n",
       "    .dataframe thead th {\n",
       "        text-align: right;\n",
       "    }\n",
       "</style>\n",
       "<table border=\"1\" class=\"dataframe\">\n",
       "  <thead>\n",
       "    <tr style=\"text-align: right;\">\n",
       "      <th></th>\n",
       "      <th>Postal code</th>\n",
       "      <th>Borough</th>\n",
       "      <th>Neighborhood</th>\n",
       "    </tr>\n",
       "  </thead>\n",
       "  <tbody>\n",
       "    <tr>\n",
       "      <th>0</th>\n",
       "      <td>M3A</td>\n",
       "      <td>North York</td>\n",
       "      <td>Parkwoods</td>\n",
       "    </tr>\n",
       "    <tr>\n",
       "      <th>1</th>\n",
       "      <td>M4A</td>\n",
       "      <td>North York</td>\n",
       "      <td>Victoria Village</td>\n",
       "    </tr>\n",
       "    <tr>\n",
       "      <th>2</th>\n",
       "      <td>M5A</td>\n",
       "      <td>Downtown Toronto</td>\n",
       "      <td>Regent Park / Harbourfront</td>\n",
       "    </tr>\n",
       "    <tr>\n",
       "      <th>3</th>\n",
       "      <td>M6A</td>\n",
       "      <td>North York</td>\n",
       "      <td>Lawrence Manor / Lawrence Heights</td>\n",
       "    </tr>\n",
       "    <tr>\n",
       "      <th>4</th>\n",
       "      <td>M7A</td>\n",
       "      <td>Downtown Toronto</td>\n",
       "      <td>Queen's Park / Ontario Provincial Government</td>\n",
       "    </tr>\n",
       "    <tr>\n",
       "      <th>5</th>\n",
       "      <td>M9A</td>\n",
       "      <td>Etobicoke</td>\n",
       "      <td>Islington Avenue</td>\n",
       "    </tr>\n",
       "    <tr>\n",
       "      <th>6</th>\n",
       "      <td>M1B</td>\n",
       "      <td>Scarborough</td>\n",
       "      <td>Malvern / Rouge</td>\n",
       "    </tr>\n",
       "    <tr>\n",
       "      <th>7</th>\n",
       "      <td>M3B</td>\n",
       "      <td>North York</td>\n",
       "      <td>Don Mills</td>\n",
       "    </tr>\n",
       "    <tr>\n",
       "      <th>8</th>\n",
       "      <td>M4B</td>\n",
       "      <td>East York</td>\n",
       "      <td>Parkview Hill / Woodbine Gardens</td>\n",
       "    </tr>\n",
       "    <tr>\n",
       "      <th>9</th>\n",
       "      <td>M5B</td>\n",
       "      <td>Downtown Toronto</td>\n",
       "      <td>Garden District, Ryerson</td>\n",
       "    </tr>\n",
       "    <tr>\n",
       "      <th>10</th>\n",
       "      <td>M6B</td>\n",
       "      <td>North York</td>\n",
       "      <td>Glencairn</td>\n",
       "    </tr>\n",
       "    <tr>\n",
       "      <th>11</th>\n",
       "      <td>M9B</td>\n",
       "      <td>Etobicoke</td>\n",
       "      <td>West Deane Park / Princess Gardens / Martin Grove / Islington / Cloverdale</td>\n",
       "    </tr>\n",
       "    <tr>\n",
       "      <th>12</th>\n",
       "      <td>M1C</td>\n",
       "      <td>Scarborough</td>\n",
       "      <td>Rouge Hill / Port Union / Highland Creek</td>\n",
       "    </tr>\n",
       "    <tr>\n",
       "      <th>13</th>\n",
       "      <td>M3C</td>\n",
       "      <td>North York</td>\n",
       "      <td>Don Mills</td>\n",
       "    </tr>\n",
       "    <tr>\n",
       "      <th>14</th>\n",
       "      <td>M4C</td>\n",
       "      <td>East York</td>\n",
       "      <td>Woodbine Heights</td>\n",
       "    </tr>\n",
       "    <tr>\n",
       "      <th>15</th>\n",
       "      <td>M5C</td>\n",
       "      <td>Downtown Toronto</td>\n",
       "      <td>St. James Town</td>\n",
       "    </tr>\n",
       "    <tr>\n",
       "      <th>16</th>\n",
       "      <td>M6C</td>\n",
       "      <td>York</td>\n",
       "      <td>Humewood-Cedarvale</td>\n",
       "    </tr>\n",
       "    <tr>\n",
       "      <th>17</th>\n",
       "      <td>M9C</td>\n",
       "      <td>Etobicoke</td>\n",
       "      <td>Eringate / Bloordale Gardens / Old Burnhamthorpe / Markland Wood</td>\n",
       "    </tr>\n",
       "    <tr>\n",
       "      <th>18</th>\n",
       "      <td>M1E</td>\n",
       "      <td>Scarborough</td>\n",
       "      <td>Guildwood / Morningside / West Hill</td>\n",
       "    </tr>\n",
       "    <tr>\n",
       "      <th>19</th>\n",
       "      <td>M4E</td>\n",
       "      <td>East Toronto</td>\n",
       "      <td>The Beaches</td>\n",
       "    </tr>\n",
       "  </tbody>\n",
       "</table>\n",
       "</div>"
      ],
      "text/plain": [
       "   Postal code           Borough  \\\n",
       "0   M3A         North York         \n",
       "1   M4A         North York         \n",
       "2   M5A         Downtown Toronto   \n",
       "3   M6A         North York         \n",
       "4   M7A         Downtown Toronto   \n",
       "5   M9A         Etobicoke          \n",
       "6   M1B         Scarborough        \n",
       "7   M3B         North York         \n",
       "8   M4B         East York          \n",
       "9   M5B         Downtown Toronto   \n",
       "10  M6B         North York         \n",
       "11  M9B         Etobicoke          \n",
       "12  M1C         Scarborough        \n",
       "13  M3C         North York         \n",
       "14  M4C         East York          \n",
       "15  M5C         Downtown Toronto   \n",
       "16  M6C         York               \n",
       "17  M9C         Etobicoke          \n",
       "18  M1E         Scarborough        \n",
       "19  M4E         East Toronto       \n",
       "\n",
       "                                                                  Neighborhood  \n",
       "0   Parkwoods                                                                   \n",
       "1   Victoria Village                                                            \n",
       "2   Regent Park / Harbourfront                                                  \n",
       "3   Lawrence Manor / Lawrence Heights                                           \n",
       "4   Queen's Park / Ontario Provincial Government                                \n",
       "5   Islington Avenue                                                            \n",
       "6   Malvern / Rouge                                                             \n",
       "7   Don Mills                                                                   \n",
       "8   Parkview Hill / Woodbine Gardens                                            \n",
       "9   Garden District, Ryerson                                                    \n",
       "10  Glencairn                                                                   \n",
       "11  West Deane Park / Princess Gardens / Martin Grove / Islington / Cloverdale  \n",
       "12  Rouge Hill / Port Union / Highland Creek                                    \n",
       "13  Don Mills                                                                   \n",
       "14  Woodbine Heights                                                            \n",
       "15  St. James Town                                                              \n",
       "16  Humewood-Cedarvale                                                          \n",
       "17  Eringate / Bloordale Gardens / Old Burnhamthorpe / Markland Wood            \n",
       "18  Guildwood / Morningside / West Hill                                         \n",
       "19  The Beaches                                                                 "
      ]
     },
     "execution_count": 12,
     "metadata": {},
     "output_type": "execute_result"
    }
   ],
   "source": [
    "toronto_postal_codes_df.head(20)"
   ]
  },
  {
   "cell_type": "markdown",
   "metadata": {},
   "source": [
    "#### Finally print the shape of the final data frame"
   ]
  },
  {
   "cell_type": "code",
   "execution_count": 13,
   "metadata": {},
   "outputs": [
    {
     "name": "stdout",
     "output_type": "stream",
     "text": [
      "The final dataframe has 103 rows.\n"
     ]
    }
   ],
   "source": [
    "print('The final dataframe has {} rows.'.format(toronto_postal_codes_df.shape[0]))"
   ]
  },
  {
   "cell_type": "code",
   "execution_count": null,
   "metadata": {},
   "outputs": [],
   "source": []
  },
  {
   "cell_type": "markdown",
   "metadata": {},
   "source": [
    "## PART 2"
   ]
  },
  {
   "cell_type": "markdown",
   "metadata": {},
   "source": [
    "##### 1. Read the geospatial coordinates file\n",
    "* I tried to use the geocoder package but it was not working properly. So I downloaded 'Geospatial_Coordinates.csv' (manually on my PC - I don't have wget installed)\n",
    "\n",
    "* Read the geospatial coordinates file into a data frame"
   ]
  },
  {
   "cell_type": "code",
   "execution_count": 14,
   "metadata": {},
   "outputs": [
    {
     "data": {
      "text/html": [
       "<div>\n",
       "<style scoped>\n",
       "    .dataframe tbody tr th:only-of-type {\n",
       "        vertical-align: middle;\n",
       "    }\n",
       "\n",
       "    .dataframe tbody tr th {\n",
       "        vertical-align: top;\n",
       "    }\n",
       "\n",
       "    .dataframe thead th {\n",
       "        text-align: right;\n",
       "    }\n",
       "</style>\n",
       "<table border=\"1\" class=\"dataframe\">\n",
       "  <thead>\n",
       "    <tr style=\"text-align: right;\">\n",
       "      <th></th>\n",
       "      <th>Postal Code</th>\n",
       "      <th>Latitude</th>\n",
       "      <th>Longitude</th>\n",
       "    </tr>\n",
       "  </thead>\n",
       "  <tbody>\n",
       "    <tr>\n",
       "      <th>0</th>\n",
       "      <td>M1B</td>\n",
       "      <td>43.806686</td>\n",
       "      <td>-79.194353</td>\n",
       "    </tr>\n",
       "    <tr>\n",
       "      <th>1</th>\n",
       "      <td>M1C</td>\n",
       "      <td>43.784535</td>\n",
       "      <td>-79.160497</td>\n",
       "    </tr>\n",
       "    <tr>\n",
       "      <th>2</th>\n",
       "      <td>M1E</td>\n",
       "      <td>43.763573</td>\n",
       "      <td>-79.188711</td>\n",
       "    </tr>\n",
       "    <tr>\n",
       "      <th>3</th>\n",
       "      <td>M1G</td>\n",
       "      <td>43.770992</td>\n",
       "      <td>-79.216917</td>\n",
       "    </tr>\n",
       "    <tr>\n",
       "      <th>4</th>\n",
       "      <td>M1H</td>\n",
       "      <td>43.773136</td>\n",
       "      <td>-79.239476</td>\n",
       "    </tr>\n",
       "  </tbody>\n",
       "</table>\n",
       "</div>"
      ],
      "text/plain": [
       "  Postal Code   Latitude  Longitude\n",
       "0  M1B         43.806686 -79.194353\n",
       "1  M1C         43.784535 -79.160497\n",
       "2  M1E         43.763573 -79.188711\n",
       "3  M1G         43.770992 -79.216917\n",
       "4  M1H         43.773136 -79.239476"
      ]
     },
     "execution_count": 14,
     "metadata": {},
     "output_type": "execute_result"
    }
   ],
   "source": [
    "toronto_latlng_df = pd.read_csv('Geospatial_Coordinates.csv')\n",
    "\n",
    "# Check the created dataframe\n",
    "toronto_latlng_df.head()"
   ]
  },
  {
   "cell_type": "markdown",
   "metadata": {},
   "source": [
    "* Merge the two data neighborhood and geospatial coordinates data frame"
   ]
  },
  {
   "cell_type": "code",
   "execution_count": 15,
   "metadata": {},
   "outputs": [
    {
     "data": {
      "text/html": [
       "<div>\n",
       "<style scoped>\n",
       "    .dataframe tbody tr th:only-of-type {\n",
       "        vertical-align: middle;\n",
       "    }\n",
       "\n",
       "    .dataframe tbody tr th {\n",
       "        vertical-align: top;\n",
       "    }\n",
       "\n",
       "    .dataframe thead th {\n",
       "        text-align: right;\n",
       "    }\n",
       "</style>\n",
       "<table border=\"1\" class=\"dataframe\">\n",
       "  <thead>\n",
       "    <tr style=\"text-align: right;\">\n",
       "      <th></th>\n",
       "      <th>Borough</th>\n",
       "      <th>Neighborhood</th>\n",
       "      <th>Postal Code</th>\n",
       "      <th>Latitude</th>\n",
       "      <th>Longitude</th>\n",
       "    </tr>\n",
       "  </thead>\n",
       "  <tbody>\n",
       "    <tr>\n",
       "      <th>0</th>\n",
       "      <td>North York</td>\n",
       "      <td>Parkwoods</td>\n",
       "      <td>M3A</td>\n",
       "      <td>43.753259</td>\n",
       "      <td>-79.329656</td>\n",
       "    </tr>\n",
       "    <tr>\n",
       "      <th>1</th>\n",
       "      <td>North York</td>\n",
       "      <td>Victoria Village</td>\n",
       "      <td>M4A</td>\n",
       "      <td>43.725882</td>\n",
       "      <td>-79.315572</td>\n",
       "    </tr>\n",
       "    <tr>\n",
       "      <th>2</th>\n",
       "      <td>Downtown Toronto</td>\n",
       "      <td>Regent Park / Harbourfront</td>\n",
       "      <td>M5A</td>\n",
       "      <td>43.654260</td>\n",
       "      <td>-79.360636</td>\n",
       "    </tr>\n",
       "    <tr>\n",
       "      <th>3</th>\n",
       "      <td>North York</td>\n",
       "      <td>Lawrence Manor / Lawrence Heights</td>\n",
       "      <td>M6A</td>\n",
       "      <td>43.718518</td>\n",
       "      <td>-79.464763</td>\n",
       "    </tr>\n",
       "    <tr>\n",
       "      <th>4</th>\n",
       "      <td>Downtown Toronto</td>\n",
       "      <td>Queen's Park / Ontario Provincial Government</td>\n",
       "      <td>M7A</td>\n",
       "      <td>43.662301</td>\n",
       "      <td>-79.389494</td>\n",
       "    </tr>\n",
       "    <tr>\n",
       "      <th>5</th>\n",
       "      <td>Etobicoke</td>\n",
       "      <td>Islington Avenue</td>\n",
       "      <td>M9A</td>\n",
       "      <td>43.667856</td>\n",
       "      <td>-79.532242</td>\n",
       "    </tr>\n",
       "    <tr>\n",
       "      <th>6</th>\n",
       "      <td>Scarborough</td>\n",
       "      <td>Malvern / Rouge</td>\n",
       "      <td>M1B</td>\n",
       "      <td>43.806686</td>\n",
       "      <td>-79.194353</td>\n",
       "    </tr>\n",
       "    <tr>\n",
       "      <th>7</th>\n",
       "      <td>North York</td>\n",
       "      <td>Don Mills</td>\n",
       "      <td>M3B</td>\n",
       "      <td>43.745906</td>\n",
       "      <td>-79.352188</td>\n",
       "    </tr>\n",
       "    <tr>\n",
       "      <th>8</th>\n",
       "      <td>East York</td>\n",
       "      <td>Parkview Hill / Woodbine Gardens</td>\n",
       "      <td>M4B</td>\n",
       "      <td>43.706397</td>\n",
       "      <td>-79.309937</td>\n",
       "    </tr>\n",
       "    <tr>\n",
       "      <th>9</th>\n",
       "      <td>Downtown Toronto</td>\n",
       "      <td>Garden District, Ryerson</td>\n",
       "      <td>M5B</td>\n",
       "      <td>43.657162</td>\n",
       "      <td>-79.378937</td>\n",
       "    </tr>\n",
       "    <tr>\n",
       "      <th>10</th>\n",
       "      <td>North York</td>\n",
       "      <td>Glencairn</td>\n",
       "      <td>M6B</td>\n",
       "      <td>43.709577</td>\n",
       "      <td>-79.445073</td>\n",
       "    </tr>\n",
       "    <tr>\n",
       "      <th>11</th>\n",
       "      <td>Etobicoke</td>\n",
       "      <td>West Deane Park / Princess Gardens / Martin Grove / Islington / Cloverdale</td>\n",
       "      <td>M9B</td>\n",
       "      <td>43.650943</td>\n",
       "      <td>-79.554724</td>\n",
       "    </tr>\n",
       "    <tr>\n",
       "      <th>12</th>\n",
       "      <td>Scarborough</td>\n",
       "      <td>Rouge Hill / Port Union / Highland Creek</td>\n",
       "      <td>M1C</td>\n",
       "      <td>43.784535</td>\n",
       "      <td>-79.160497</td>\n",
       "    </tr>\n",
       "    <tr>\n",
       "      <th>13</th>\n",
       "      <td>North York</td>\n",
       "      <td>Don Mills</td>\n",
       "      <td>M3C</td>\n",
       "      <td>43.725900</td>\n",
       "      <td>-79.340923</td>\n",
       "    </tr>\n",
       "    <tr>\n",
       "      <th>14</th>\n",
       "      <td>East York</td>\n",
       "      <td>Woodbine Heights</td>\n",
       "      <td>M4C</td>\n",
       "      <td>43.695344</td>\n",
       "      <td>-79.318389</td>\n",
       "    </tr>\n",
       "    <tr>\n",
       "      <th>15</th>\n",
       "      <td>Downtown Toronto</td>\n",
       "      <td>St. James Town</td>\n",
       "      <td>M5C</td>\n",
       "      <td>43.651494</td>\n",
       "      <td>-79.375418</td>\n",
       "    </tr>\n",
       "    <tr>\n",
       "      <th>16</th>\n",
       "      <td>York</td>\n",
       "      <td>Humewood-Cedarvale</td>\n",
       "      <td>M6C</td>\n",
       "      <td>43.693781</td>\n",
       "      <td>-79.428191</td>\n",
       "    </tr>\n",
       "    <tr>\n",
       "      <th>17</th>\n",
       "      <td>Etobicoke</td>\n",
       "      <td>Eringate / Bloordale Gardens / Old Burnhamthorpe / Markland Wood</td>\n",
       "      <td>M9C</td>\n",
       "      <td>43.643515</td>\n",
       "      <td>-79.577201</td>\n",
       "    </tr>\n",
       "    <tr>\n",
       "      <th>18</th>\n",
       "      <td>Scarborough</td>\n",
       "      <td>Guildwood / Morningside / West Hill</td>\n",
       "      <td>M1E</td>\n",
       "      <td>43.763573</td>\n",
       "      <td>-79.188711</td>\n",
       "    </tr>\n",
       "    <tr>\n",
       "      <th>19</th>\n",
       "      <td>East Toronto</td>\n",
       "      <td>The Beaches</td>\n",
       "      <td>M4E</td>\n",
       "      <td>43.676357</td>\n",
       "      <td>-79.293031</td>\n",
       "    </tr>\n",
       "  </tbody>\n",
       "</table>\n",
       "</div>"
      ],
      "text/plain": [
       "             Borough  \\\n",
       "0   North York         \n",
       "1   North York         \n",
       "2   Downtown Toronto   \n",
       "3   North York         \n",
       "4   Downtown Toronto   \n",
       "5   Etobicoke          \n",
       "6   Scarborough        \n",
       "7   North York         \n",
       "8   East York          \n",
       "9   Downtown Toronto   \n",
       "10  North York         \n",
       "11  Etobicoke          \n",
       "12  Scarborough        \n",
       "13  North York         \n",
       "14  East York          \n",
       "15  Downtown Toronto   \n",
       "16  York               \n",
       "17  Etobicoke          \n",
       "18  Scarborough        \n",
       "19  East Toronto       \n",
       "\n",
       "                                                                  Neighborhood  \\\n",
       "0   Parkwoods                                                                    \n",
       "1   Victoria Village                                                             \n",
       "2   Regent Park / Harbourfront                                                   \n",
       "3   Lawrence Manor / Lawrence Heights                                            \n",
       "4   Queen's Park / Ontario Provincial Government                                 \n",
       "5   Islington Avenue                                                             \n",
       "6   Malvern / Rouge                                                              \n",
       "7   Don Mills                                                                    \n",
       "8   Parkview Hill / Woodbine Gardens                                             \n",
       "9   Garden District, Ryerson                                                     \n",
       "10  Glencairn                                                                    \n",
       "11  West Deane Park / Princess Gardens / Martin Grove / Islington / Cloverdale   \n",
       "12  Rouge Hill / Port Union / Highland Creek                                     \n",
       "13  Don Mills                                                                    \n",
       "14  Woodbine Heights                                                             \n",
       "15  St. James Town                                                               \n",
       "16  Humewood-Cedarvale                                                           \n",
       "17  Eringate / Bloordale Gardens / Old Burnhamthorpe / Markland Wood             \n",
       "18  Guildwood / Morningside / West Hill                                          \n",
       "19  The Beaches                                                                  \n",
       "\n",
       "   Postal Code   Latitude  Longitude  \n",
       "0   M3A         43.753259 -79.329656  \n",
       "1   M4A         43.725882 -79.315572  \n",
       "2   M5A         43.654260 -79.360636  \n",
       "3   M6A         43.718518 -79.464763  \n",
       "4   M7A         43.662301 -79.389494  \n",
       "5   M9A         43.667856 -79.532242  \n",
       "6   M1B         43.806686 -79.194353  \n",
       "7   M3B         43.745906 -79.352188  \n",
       "8   M4B         43.706397 -79.309937  \n",
       "9   M5B         43.657162 -79.378937  \n",
       "10  M6B         43.709577 -79.445073  \n",
       "11  M9B         43.650943 -79.554724  \n",
       "12  M1C         43.784535 -79.160497  \n",
       "13  M3C         43.725900 -79.340923  \n",
       "14  M4C         43.695344 -79.318389  \n",
       "15  M5C         43.651494 -79.375418  \n",
       "16  M6C         43.693781 -79.428191  \n",
       "17  M9C         43.643515 -79.577201  \n",
       "18  M1E         43.763573 -79.188711  \n",
       "19  M4E         43.676357 -79.293031  "
      ]
     },
     "execution_count": 15,
     "metadata": {},
     "output_type": "execute_result"
    }
   ],
   "source": [
    "\n",
    "# Merge data frames\n",
    "toronto_postal_latlng_df = pd.merge(toronto_postal_codes_df, toronto_latlng_df, how='inner', left_on='Postal code', right_on='Postal Code')\n",
    "toronto_postal_latlng_df.drop('Postal code', axis=1, inplace=True)\n",
    "toronto_postal_latlng_df.head(20)"
   ]
  },
  {
   "cell_type": "markdown",
   "metadata": {},
   "source": [
    "## PART 3\n",
    "\n",
    "* In this part of the assignment we will segment the boroughs of Toronto and explore them based ON POSTAL CODES INSTEAD OF NEIGHBORHOODS, since we only have geospatial data corresponding to postal codes. As we saw in the previous parts of the assignment, one postal code may correspond to many neighborhoods. The data is contained in the data frame that was previously created: toronto_postal_latlng_df"
   ]
  },
  {
   "cell_type": "markdown",
   "metadata": {},
   "source": [
    "### 1. Install and import the necessary libraries\n",
    "* Install necessary libraries [geopy, folium]"
   ]
  },
  {
   "cell_type": "code",
   "execution_count": 16,
   "metadata": {},
   "outputs": [
    {
     "name": "stdout",
     "output_type": "stream",
     "text": [
      "Collecting package metadata (current_repodata.json): ...working... done\n",
      "Solving environment: ...working... done\n",
      "\n",
      "# All requested packages already installed.\n",
      "\n",
      "Collecting package metadata (current_repodata.json): ...working... done\n",
      "Solving environment: ...working... done\n",
      "\n",
      "# All requested packages already installed.\n",
      "\n"
     ]
    }
   ],
   "source": [
    "\n",
    "!conda install -c conda-forge geopy --yes\n",
    "\n",
    "#!conda install -c conda-forge folium=0.5.0\n",
    "!conda install -c conda-forge folium --yes"
   ]
  },
  {
   "cell_type": "code",
   "execution_count": 17,
   "metadata": {},
   "outputs": [],
   "source": [
    "import numpy as np # library to handle data in a vectorized manner\n",
    "\n",
    "from geopy.geocoders import Nominatim # convert an address into latitude and longitude values\n",
    "\n",
    "# Matplotlib and associated plotting modules\n",
    "import matplotlib.cm as cm\n",
    "import matplotlib.colors as colors\n",
    "\n",
    "import folium # map rendering library\n",
    "\n",
    "# import k-means from clustering stage\n",
    "from sklearn.cluster import KMeans\n",
    "\n",
    "# Set pandas options\n",
    "pd.set_option('display.max_columns', None)\n",
    "pd.set_option('display.max_rows', None)\n"
   ]
  },
  {
   "cell_type": "markdown",
   "metadata": {},
   "source": [
    "### 2. Create a map of Toronto with boroughs superimposed on top.\n",
    "* Use geopy library to get the latitude and longitude values of Toronto.\n",
    "* In order to define an instance of the geocoder, we need to define a user_agent. We will name our agent toronto_explorer"
   ]
  },
  {
   "cell_type": "code",
   "execution_count": 18,
   "metadata": {},
   "outputs": [
    {
     "name": "stdout",
     "output_type": "stream",
     "text": [
      "The geograpical coordinate of Toronto are 43.6534817, -79.3839347.\n"
     ]
    }
   ],
   "source": [
    "\n",
    "address = 'Toronto, Ontario'\n",
    "\n",
    "geolocator = Nominatim(user_agent=\"ny_explorer\")\n",
    "location = geolocator.geocode(address)\n",
    "latitude = location.latitude\n",
    "longitude = location.longitude\n",
    "print('The geograpical coordinate of Toronto are {}, {}.'.format(latitude, longitude))"
   ]
  },
  {
   "cell_type": "markdown",
   "metadata": {},
   "source": [
    "* Now, let's create the map of Toronto and its boroughs"
   ]
  },
  {
   "cell_type": "code",
   "execution_count": 48,
   "metadata": {},
   "outputs": [
    {
     "data": {
      "text/html": [
       "<div style=\"width:100%;\"><div style=\"position:relative;width:100%;height:0;padding-bottom:60%;\"><iframe src=\"about:blank\" style=\"position:absolute;width:100%;height:100%;left:0;top:0;border:none !important;\" data-html=PCFET0NUWVBFIGh0bWw+CjxoZWFkPiAgICAKICAgIDxtZXRhIGh0dHAtZXF1aXY9ImNvbnRlbnQtdHlwZSIgY29udGVudD0idGV4dC9odG1sOyBjaGFyc2V0PVVURi04IiAvPgogICAgCiAgICAgICAgPHNjcmlwdD4KICAgICAgICAgICAgTF9OT19UT1VDSCA9IGZhbHNlOwogICAgICAgICAgICBMX0RJU0FCTEVfM0QgPSBmYWxzZTsKICAgICAgICA8L3NjcmlwdD4KICAgIAogICAgPHNjcmlwdCBzcmM9Imh0dHBzOi8vY2RuLmpzZGVsaXZyLm5ldC9ucG0vbGVhZmxldEAxLjUuMS9kaXN0L2xlYWZsZXQuanMiPjwvc2NyaXB0PgogICAgPHNjcmlwdCBzcmM9Imh0dHBzOi8vY29kZS5qcXVlcnkuY29tL2pxdWVyeS0xLjEyLjQubWluLmpzIj48L3NjcmlwdD4KICAgIDxzY3JpcHQgc3JjPSJodHRwczovL21heGNkbi5ib290c3RyYXBjZG4uY29tL2Jvb3RzdHJhcC8zLjIuMC9qcy9ib290c3RyYXAubWluLmpzIj48L3NjcmlwdD4KICAgIDxzY3JpcHQgc3JjPSJodHRwczovL2NkbmpzLmNsb3VkZmxhcmUuY29tL2FqYXgvbGlicy9MZWFmbGV0LmF3ZXNvbWUtbWFya2Vycy8yLjAuMi9sZWFmbGV0LmF3ZXNvbWUtbWFya2Vycy5qcyI+PC9zY3JpcHQ+CiAgICA8bGluayByZWw9InN0eWxlc2hlZXQiIGhyZWY9Imh0dHBzOi8vY2RuLmpzZGVsaXZyLm5ldC9ucG0vbGVhZmxldEAxLjUuMS9kaXN0L2xlYWZsZXQuY3NzIi8+CiAgICA8bGluayByZWw9InN0eWxlc2hlZXQiIGhyZWY9Imh0dHBzOi8vbWF4Y2RuLmJvb3RzdHJhcGNkbi5jb20vYm9vdHN0cmFwLzMuMi4wL2Nzcy9ib290c3RyYXAubWluLmNzcyIvPgogICAgPGxpbmsgcmVsPSJzdHlsZXNoZWV0IiBocmVmPSJodHRwczovL21heGNkbi5ib290c3RyYXBjZG4uY29tL2Jvb3RzdHJhcC8zLjIuMC9jc3MvYm9vdHN0cmFwLXRoZW1lLm1pbi5jc3MiLz4KICAgIDxsaW5rIHJlbD0ic3R5bGVzaGVldCIgaHJlZj0iaHR0cHM6Ly9tYXhjZG4uYm9vdHN0cmFwY2RuLmNvbS9mb250LWF3ZXNvbWUvNC42LjMvY3NzL2ZvbnQtYXdlc29tZS5taW4uY3NzIi8+CiAgICA8bGluayByZWw9InN0eWxlc2hlZXQiIGhyZWY9Imh0dHBzOi8vY2RuanMuY2xvdWRmbGFyZS5jb20vYWpheC9saWJzL0xlYWZsZXQuYXdlc29tZS1tYXJrZXJzLzIuMC4yL2xlYWZsZXQuYXdlc29tZS1tYXJrZXJzLmNzcyIvPgogICAgPGxpbmsgcmVsPSJzdHlsZXNoZWV0IiBocmVmPSJodHRwczovL3Jhd2Nkbi5naXRoYWNrLmNvbS9weXRob24tdmlzdWFsaXphdGlvbi9mb2xpdW0vbWFzdGVyL2ZvbGl1bS90ZW1wbGF0ZXMvbGVhZmxldC5hd2Vzb21lLnJvdGF0ZS5jc3MiLz4KICAgIDxzdHlsZT5odG1sLCBib2R5IHt3aWR0aDogMTAwJTtoZWlnaHQ6IDEwMCU7bWFyZ2luOiAwO3BhZGRpbmc6IDA7fTwvc3R5bGU+CiAgICA8c3R5bGU+I21hcCB7cG9zaXRpb246YWJzb2x1dGU7dG9wOjA7Ym90dG9tOjA7cmlnaHQ6MDtsZWZ0OjA7fTwvc3R5bGU+CiAgICAKICAgICAgICAgICAgPG1ldGEgbmFtZT0idmlld3BvcnQiIGNvbnRlbnQ9IndpZHRoPWRldmljZS13aWR0aCwKICAgICAgICAgICAgICAgIGluaXRpYWwtc2NhbGU9MS4wLCBtYXhpbXVtLXNjYWxlPTEuMCwgdXNlci1zY2FsYWJsZT1ubyIgLz4KICAgICAgICAgICAgPHN0eWxlPgogICAgICAgICAgICAgICAgI21hcF9jMjFmYTE2MTM3ZDE0N2RiYTU5ZmZlYjIxMTk5Yzc3ZiB7CiAgICAgICAgICAgICAgICAgICAgcG9zaXRpb246IHJlbGF0aXZlOwogICAgICAgICAgICAgICAgICAgIHdpZHRoOiAxMDAuMCU7CiAgICAgICAgICAgICAgICAgICAgaGVpZ2h0OiAxMDAuMCU7CiAgICAgICAgICAgICAgICAgICAgbGVmdDogMC4wJTsKICAgICAgICAgICAgICAgICAgICB0b3A6IDAuMCU7CiAgICAgICAgICAgICAgICB9CiAgICAgICAgICAgIDwvc3R5bGU+CiAgICAgICAgCjwvaGVhZD4KPGJvZHk+ICAgIAogICAgCiAgICAgICAgICAgIDxkaXYgY2xhc3M9ImZvbGl1bS1tYXAiIGlkPSJtYXBfYzIxZmExNjEzN2QxNDdkYmE1OWZmZWIyMTE5OWM3N2YiID48L2Rpdj4KICAgICAgICAKPC9ib2R5Pgo8c2NyaXB0PiAgICAKICAgIAogICAgICAgICAgICB2YXIgbWFwX2MyMWZhMTYxMzdkMTQ3ZGJhNTlmZmViMjExOTljNzdmID0gTC5tYXAoCiAgICAgICAgICAgICAgICAibWFwX2MyMWZhMTYxMzdkMTQ3ZGJhNTlmZmViMjExOTljNzdmIiwKICAgICAgICAgICAgICAgIHsKICAgICAgICAgICAgICAgICAgICBjZW50ZXI6IFs0My42NTM0ODE3LCAtNzkuMzgzOTM0N10sCiAgICAgICAgICAgICAgICAgICAgY3JzOiBMLkNSUy5FUFNHMzg1NywKICAgICAgICAgICAgICAgICAgICB6b29tOiAxMCwKICAgICAgICAgICAgICAgICAgICB6b29tQ29udHJvbDogdHJ1ZSwKICAgICAgICAgICAgICAgICAgICBwcmVmZXJDYW52YXM6IGZhbHNlLAogICAgICAgICAgICAgICAgfQogICAgICAgICAgICApOwoKICAgICAgICAgICAgCgogICAgICAgIAogICAgCiAgICAgICAgICAgIHZhciB0aWxlX2xheWVyXzA1OGVkMDBhYWI1MzRlYTE4ZmVmNjk5NGFiYTg4NWZmID0gTC50aWxlTGF5ZXIoCiAgICAgICAgICAgICAgICAiaHR0cHM6Ly97c30udGlsZS5vcGVuc3RyZWV0bWFwLm9yZy97en0ve3h9L3t5fS5wbmciLAogICAgICAgICAgICAgICAgeyJhdHRyaWJ1dGlvbiI6ICJEYXRhIGJ5IFx1MDAyNmNvcHk7IFx1MDAzY2EgaHJlZj1cImh0dHA6Ly9vcGVuc3RyZWV0bWFwLm9yZ1wiXHUwMDNlT3BlblN0cmVldE1hcFx1MDAzYy9hXHUwMDNlLCB1bmRlciBcdTAwM2NhIGhyZWY9XCJodHRwOi8vd3d3Lm9wZW5zdHJlZXRtYXAub3JnL2NvcHlyaWdodFwiXHUwMDNlT0RiTFx1MDAzYy9hXHUwMDNlLiIsICJkZXRlY3RSZXRpbmEiOiBmYWxzZSwgIm1heE5hdGl2ZVpvb20iOiAxOCwgIm1heFpvb20iOiAxOCwgIm1pblpvb20iOiAwLCAibm9XcmFwIjogZmFsc2UsICJvcGFjaXR5IjogMSwgInN1YmRvbWFpbnMiOiAiYWJjIiwgInRtcyI6IGZhbHNlfQogICAgICAgICAgICApLmFkZFRvKG1hcF9jMjFmYTE2MTM3ZDE0N2RiYTU5ZmZlYjIxMTk5Yzc3Zik7CiAgICAgICAgCiAgICAKICAgICAgICAgICAgdmFyIGNpcmNsZV9tYXJrZXJfYTdjODMwMzYxZWVhNGVjMTlhM2Y1N2VjYzBkM2YyNmMgPSBMLmNpcmNsZU1hcmtlcigKICAgICAgICAgICAgICAgIFs0My43NTMyNTg2LCAtNzkuMzI5NjU2NV0sCiAgICAgICAgICAgICAgICB7ImJ1YmJsaW5nTW91c2VFdmVudHMiOiB0cnVlLCAiY29sb3IiOiAicmVkIiwgImRhc2hBcnJheSI6IG51bGwsICJkYXNoT2Zmc2V0IjogbnVsbCwgImZpbGwiOiB0cnVlLCAiZmlsbENvbG9yIjogIiMzMTg2Y2MiLCAiZmlsbE9wYWNpdHkiOiAwLjcsICJmaWxsUnVsZSI6ICJldmVub2RkIiwgImxpbmVDYXAiOiAicm91bmQiLCAibGluZUpvaW4iOiAicm91bmQiLCAib3BhY2l0eSI6IDEuMCwgInJhZGl1cyI6IDQsICJzdHJva2UiOiB0cnVlLCAid2VpZ2h0IjogM30KICAgICAgICAgICAgKS5hZGRUbyhtYXBfYzIxZmExNjEzN2QxNDdkYmE1OWZmZWIyMTE5OWM3N2YpOwogICAgICAgIAogICAgCiAgICAgICAgdmFyIHBvcHVwX2Q0MWUyYzIzNTE4MzQ0NzI4YzcxNDY4OWNmMWMwZDgwID0gTC5wb3B1cCh7Im1heFdpZHRoIjogIjEwMCUifSk7CgogICAgICAgIAogICAgICAgICAgICB2YXIgaHRtbF81MTg2MDhkY2E2ZDQ0MjljYWRhYmY0ZDUzN2MwMDRiMSA9ICQoYDxkaXYgaWQ9Imh0bWxfNTE4NjA4ZGNhNmQ0NDI5Y2FkYWJmNGQ1MzdjMDA0YjEiIHN0eWxlPSJ3aWR0aDogMTAwLjAlOyBoZWlnaHQ6IDEwMC4wJTsiPk5vcnRoIFlvcmssIE0zQSwgUGFya3dvb2RzPC9kaXY+YClbMF07CiAgICAgICAgICAgIHBvcHVwX2Q0MWUyYzIzNTE4MzQ0NzI4YzcxNDY4OWNmMWMwZDgwLnNldENvbnRlbnQoaHRtbF81MTg2MDhkY2E2ZDQ0MjljYWRhYmY0ZDUzN2MwMDRiMSk7CiAgICAgICAgCgogICAgICAgIGNpcmNsZV9tYXJrZXJfYTdjODMwMzYxZWVhNGVjMTlhM2Y1N2VjYzBkM2YyNmMuYmluZFBvcHVwKHBvcHVwX2Q0MWUyYzIzNTE4MzQ0NzI4YzcxNDY4OWNmMWMwZDgwKQogICAgICAgIDsKCiAgICAgICAgCiAgICAKICAgIAogICAgICAgICAgICB2YXIgY2lyY2xlX21hcmtlcl8wNDgwN2ZmMThiN2Y0MWEyYmQ4Y2RjNDRkODZiZTc1MyA9IEwuY2lyY2xlTWFya2VyKAogICAgICAgICAgICAgICAgWzQzLjcyNTg4MjI5OTk5OTk5NSwgLTc5LjMxNTU3MTU5OTk5OTk4XSwKICAgICAgICAgICAgICAgIHsiYnViYmxpbmdNb3VzZUV2ZW50cyI6IHRydWUsICJjb2xvciI6ICJyZWQiLCAiZGFzaEFycmF5IjogbnVsbCwgImRhc2hPZmZzZXQiOiBudWxsLCAiZmlsbCI6IHRydWUsICJmaWxsQ29sb3IiOiAiIzMxODZjYyIsICJmaWxsT3BhY2l0eSI6IDAuNywgImZpbGxSdWxlIjogImV2ZW5vZGQiLCAibGluZUNhcCI6ICJyb3VuZCIsICJsaW5lSm9pbiI6ICJyb3VuZCIsICJvcGFjaXR5IjogMS4wLCAicmFkaXVzIjogNCwgInN0cm9rZSI6IHRydWUsICJ3ZWlnaHQiOiAzfQogICAgICAgICAgICApLmFkZFRvKG1hcF9jMjFmYTE2MTM3ZDE0N2RiYTU5ZmZlYjIxMTk5Yzc3Zik7CiAgICAgICAgCiAgICAKICAgICAgICB2YXIgcG9wdXBfYmNhZmM4YTg0MzkxNGQyNTgxMWY0MTEzZGMzNmM1YzYgPSBMLnBvcHVwKHsibWF4V2lkdGgiOiAiMTAwJSJ9KTsKCiAgICAgICAgCiAgICAgICAgICAgIHZhciBodG1sX2VmNmZkZTc4ZjRmODRkY2M5NDNlZDBjNGQ1ODVjOTJjID0gJChgPGRpdiBpZD0iaHRtbF9lZjZmZGU3OGY0Zjg0ZGNjOTQzZWQwYzRkNTg1YzkyYyIgc3R5bGU9IndpZHRoOiAxMDAuMCU7IGhlaWdodDogMTAwLjAlOyI+Tm9ydGggWW9yaywgTTRBLCBWaWN0b3JpYSBWaWxsYWdlPC9kaXY+YClbMF07CiAgICAgICAgICAgIHBvcHVwX2JjYWZjOGE4NDM5MTRkMjU4MTFmNDExM2RjMzZjNWM2LnNldENvbnRlbnQoaHRtbF9lZjZmZGU3OGY0Zjg0ZGNjOTQzZWQwYzRkNTg1YzkyYyk7CiAgICAgICAgCgogICAgICAgIGNpcmNsZV9tYXJrZXJfMDQ4MDdmZjE4YjdmNDFhMmJkOGNkYzQ0ZDg2YmU3NTMuYmluZFBvcHVwKHBvcHVwX2JjYWZjOGE4NDM5MTRkMjU4MTFmNDExM2RjMzZjNWM2KQogICAgICAgIDsKCiAgICAgICAgCiAgICAKICAgIAogICAgICAgICAgICB2YXIgY2lyY2xlX21hcmtlcl9lMTkyYTI0NjBkNGI0MmQ5ODRmMDJkZWE3Y2U0ZjdlZSA9IEwuY2lyY2xlTWFya2VyKAogICAgICAgICAgICAgICAgWzQzLjY1NDI1OTksIC03OS4zNjA2MzU5XSwKICAgICAgICAgICAgICAgIHsiYnViYmxpbmdNb3VzZUV2ZW50cyI6IHRydWUsICJjb2xvciI6ICJyZWQiLCAiZGFzaEFycmF5IjogbnVsbCwgImRhc2hPZmZzZXQiOiBudWxsLCAiZmlsbCI6IHRydWUsICJmaWxsQ29sb3IiOiAiIzMxODZjYyIsICJmaWxsT3BhY2l0eSI6IDAuNywgImZpbGxSdWxlIjogImV2ZW5vZGQiLCAibGluZUNhcCI6ICJyb3VuZCIsICJsaW5lSm9pbiI6ICJyb3VuZCIsICJvcGFjaXR5IjogMS4wLCAicmFkaXVzIjogNCwgInN0cm9rZSI6IHRydWUsICJ3ZWlnaHQiOiAzfQogICAgICAgICAgICApLmFkZFRvKG1hcF9jMjFmYTE2MTM3ZDE0N2RiYTU5ZmZlYjIxMTk5Yzc3Zik7CiAgICAgICAgCiAgICAKICAgICAgICB2YXIgcG9wdXBfYTFhNGQ4M2Q2Zjc2NDMwNzg2MTNkZmQ0ZDI5OGQ3ZTYgPSBMLnBvcHVwKHsibWF4V2lkdGgiOiAiMTAwJSJ9KTsKCiAgICAgICAgCiAgICAgICAgICAgIHZhciBodG1sX2Y4NDM5ZGQ2NTdlNTRiNWM4YmFlNGUxYWE1NTkzMGY5ID0gJChgPGRpdiBpZD0iaHRtbF9mODQzOWRkNjU3ZTU0YjVjOGJhZTRlMWFhNTU5MzBmOSIgc3R5bGU9IndpZHRoOiAxMDAuMCU7IGhlaWdodDogMTAwLjAlOyI+RG93bnRvd24gVG9yb250bywgTTVBLCBSZWdlbnQgUGFyayAvIEhhcmJvdXJmcm9udDwvZGl2PmApWzBdOwogICAgICAgICAgICBwb3B1cF9hMWE0ZDgzZDZmNzY0MzA3ODYxM2RmZDRkMjk4ZDdlNi5zZXRDb250ZW50KGh0bWxfZjg0MzlkZDY1N2U1NGI1YzhiYWU0ZTFhYTU1OTMwZjkpOwogICAgICAgIAoKICAgICAgICBjaXJjbGVfbWFya2VyX2UxOTJhMjQ2MGQ0YjQyZDk4NGYwMmRlYTdjZTRmN2VlLmJpbmRQb3B1cChwb3B1cF9hMWE0ZDgzZDZmNzY0MzA3ODYxM2RmZDRkMjk4ZDdlNikKICAgICAgICA7CgogICAgICAgIAogICAgCiAgICAKICAgICAgICAgICAgdmFyIGNpcmNsZV9tYXJrZXJfZTFkODhhNWM1ZmRlNDY1MWIzMThmZWMzNmM1NjdmMDAgPSBMLmNpcmNsZU1hcmtlcigKICAgICAgICAgICAgICAgIFs0My43MTg1MTc5OTk5OTk5OTYsIC03OS40NjQ3NjMyOTk5OTk5OV0sCiAgICAgICAgICAgICAgICB7ImJ1YmJsaW5nTW91c2VFdmVudHMiOiB0cnVlLCAiY29sb3IiOiAicmVkIiwgImRhc2hBcnJheSI6IG51bGwsICJkYXNoT2Zmc2V0IjogbnVsbCwgImZpbGwiOiB0cnVlLCAiZmlsbENvbG9yIjogIiMzMTg2Y2MiLCAiZmlsbE9wYWNpdHkiOiAwLjcsICJmaWxsUnVsZSI6ICJldmVub2RkIiwgImxpbmVDYXAiOiAicm91bmQiLCAibGluZUpvaW4iOiAicm91bmQiLCAib3BhY2l0eSI6IDEuMCwgInJhZGl1cyI6IDQsICJzdHJva2UiOiB0cnVlLCAid2VpZ2h0IjogM30KICAgICAgICAgICAgKS5hZGRUbyhtYXBfYzIxZmExNjEzN2QxNDdkYmE1OWZmZWIyMTE5OWM3N2YpOwogICAgICAgIAogICAgCiAgICAgICAgdmFyIHBvcHVwX2NjMjc2NGYwMzU5NTQ4NTU4NjY1ZjhlYWZlNTQ5OTQ1ID0gTC5wb3B1cCh7Im1heFdpZHRoIjogIjEwMCUifSk7CgogICAgICAgIAogICAgICAgICAgICB2YXIgaHRtbF84YjllMjI0YWY0NjY0MmM0OGRjMTJlZmZhYjMyZDQzMiA9ICQoYDxkaXYgaWQ9Imh0bWxfOGI5ZTIyNGFmNDY2NDJjNDhkYzEyZWZmYWIzMmQ0MzIiIHN0eWxlPSJ3aWR0aDogMTAwLjAlOyBoZWlnaHQ6IDEwMC4wJTsiPk5vcnRoIFlvcmssIE02QSwgTGF3cmVuY2UgTWFub3IgLyBMYXdyZW5jZSBIZWlnaHRzPC9kaXY+YClbMF07CiAgICAgICAgICAgIHBvcHVwX2NjMjc2NGYwMzU5NTQ4NTU4NjY1ZjhlYWZlNTQ5OTQ1LnNldENvbnRlbnQoaHRtbF84YjllMjI0YWY0NjY0MmM0OGRjMTJlZmZhYjMyZDQzMik7CiAgICAgICAgCgogICAgICAgIGNpcmNsZV9tYXJrZXJfZTFkODhhNWM1ZmRlNDY1MWIzMThmZWMzNmM1NjdmMDAuYmluZFBvcHVwKHBvcHVwX2NjMjc2NGYwMzU5NTQ4NTU4NjY1ZjhlYWZlNTQ5OTQ1KQogICAgICAgIDsKCiAgICAgICAgCiAgICAKICAgIAogICAgICAgICAgICB2YXIgY2lyY2xlX21hcmtlcl85NjIyOGE0ZmUzZTA0NGU0ODZkZmExOWQwYzk5MjFjMCA9IEwuY2lyY2xlTWFya2VyKAogICAgICAgICAgICAgICAgWzQzLjY2MjMwMTUsIC03OS4zODk0OTM4XSwKICAgICAgICAgICAgICAgIHsiYnViYmxpbmdNb3VzZUV2ZW50cyI6IHRydWUsICJjb2xvciI6ICJyZWQiLCAiZGFzaEFycmF5IjogbnVsbCwgImRhc2hPZmZzZXQiOiBudWxsLCAiZmlsbCI6IHRydWUsICJmaWxsQ29sb3IiOiAiIzMxODZjYyIsICJmaWxsT3BhY2l0eSI6IDAuNywgImZpbGxSdWxlIjogImV2ZW5vZGQiLCAibGluZUNhcCI6ICJyb3VuZCIsICJsaW5lSm9pbiI6ICJyb3VuZCIsICJvcGFjaXR5IjogMS4wLCAicmFkaXVzIjogNCwgInN0cm9rZSI6IHRydWUsICJ3ZWlnaHQiOiAzfQogICAgICAgICAgICApLmFkZFRvKG1hcF9jMjFmYTE2MTM3ZDE0N2RiYTU5ZmZlYjIxMTk5Yzc3Zik7CiAgICAgICAgCiAgICAKICAgICAgICB2YXIgcG9wdXBfNmM1YjdmYTFkYzVlNDdkYTgyZmFkZDZkY2QxYzVkYTEgPSBMLnBvcHVwKHsibWF4V2lkdGgiOiAiMTAwJSJ9KTsKCiAgICAgICAgCiAgICAgICAgICAgIHZhciBodG1sXzZlYjYyNWExODUyZDRlZjM5MDQ1MjM3MDQ4YjVjYTYyID0gJChgPGRpdiBpZD0iaHRtbF82ZWI2MjVhMTg1MmQ0ZWYzOTA0NTIzNzA0OGI1Y2E2MiIgc3R5bGU9IndpZHRoOiAxMDAuMCU7IGhlaWdodDogMTAwLjAlOyI+RG93bnRvd24gVG9yb250bywgTTdBLCBRdWVlbiYjMzk7cyBQYXJrIC8gT250YXJpbyBQcm92aW5jaWFsIEdvdmVybm1lbnQ8L2Rpdj5gKVswXTsKICAgICAgICAgICAgcG9wdXBfNmM1YjdmYTFkYzVlNDdkYTgyZmFkZDZkY2QxYzVkYTEuc2V0Q29udGVudChodG1sXzZlYjYyNWExODUyZDRlZjM5MDQ1MjM3MDQ4YjVjYTYyKTsKICAgICAgICAKCiAgICAgICAgY2lyY2xlX21hcmtlcl85NjIyOGE0ZmUzZTA0NGU0ODZkZmExOWQwYzk5MjFjMC5iaW5kUG9wdXAocG9wdXBfNmM1YjdmYTFkYzVlNDdkYTgyZmFkZDZkY2QxYzVkYTEpCiAgICAgICAgOwoKICAgICAgICAKICAgIAogICAgCiAgICAgICAgICAgIHZhciBjaXJjbGVfbWFya2VyX2E4NmFiNjZjYzhjNzQ0MGJiNGYxOWIxY2UzODU2YzdlID0gTC5jaXJjbGVNYXJrZXIoCiAgICAgICAgICAgICAgICBbNDMuNjY3ODU1NiwgLTc5LjUzMjI0MjQwMDAwMDAyXSwKICAgICAgICAgICAgICAgIHsiYnViYmxpbmdNb3VzZUV2ZW50cyI6IHRydWUsICJjb2xvciI6ICJyZWQiLCAiZGFzaEFycmF5IjogbnVsbCwgImRhc2hPZmZzZXQiOiBudWxsLCAiZmlsbCI6IHRydWUsICJmaWxsQ29sb3IiOiAiIzMxODZjYyIsICJmaWxsT3BhY2l0eSI6IDAuNywgImZpbGxSdWxlIjogImV2ZW5vZGQiLCAibGluZUNhcCI6ICJyb3VuZCIsICJsaW5lSm9pbiI6ICJyb3VuZCIsICJvcGFjaXR5IjogMS4wLCAicmFkaXVzIjogNCwgInN0cm9rZSI6IHRydWUsICJ3ZWlnaHQiOiAzfQogICAgICAgICAgICApLmFkZFRvKG1hcF9jMjFmYTE2MTM3ZDE0N2RiYTU5ZmZlYjIxMTk5Yzc3Zik7CiAgICAgICAgCiAgICAKICAgICAgICB2YXIgcG9wdXBfNzM4YzcxYzQ2ODNiNGY0YmFjZjk5NzUzM2IyMTkwOWMgPSBMLnBvcHVwKHsibWF4V2lkdGgiOiAiMTAwJSJ9KTsKCiAgICAgICAgCiAgICAgICAgICAgIHZhciBodG1sX2RhYzkyZmJhZTQyMjQ0MjZhYzNhNDNhZjhkODE0MGRhID0gJChgPGRpdiBpZD0iaHRtbF9kYWM5MmZiYWU0MjI0NDI2YWMzYTQzYWY4ZDgxNDBkYSIgc3R5bGU9IndpZHRoOiAxMDAuMCU7IGhlaWdodDogMTAwLjAlOyI+RXRvYmljb2tlLCBNOUEsIElzbGluZ3RvbiBBdmVudWU8L2Rpdj5gKVswXTsKICAgICAgICAgICAgcG9wdXBfNzM4YzcxYzQ2ODNiNGY0YmFjZjk5NzUzM2IyMTkwOWMuc2V0Q29udGVudChodG1sX2RhYzkyZmJhZTQyMjQ0MjZhYzNhNDNhZjhkODE0MGRhKTsKICAgICAgICAKCiAgICAgICAgY2lyY2xlX21hcmtlcl9hODZhYjY2Y2M4Yzc0NDBiYjRmMTliMWNlMzg1NmM3ZS5iaW5kUG9wdXAocG9wdXBfNzM4YzcxYzQ2ODNiNGY0YmFjZjk5NzUzM2IyMTkwOWMpCiAgICAgICAgOwoKICAgICAgICAKICAgIAogICAgCiAgICAgICAgICAgIHZhciBjaXJjbGVfbWFya2VyX2ZlNzVkZTk3YWYzNTQ5MDg4NzVhMDAyMDQ0YWY5OWVhID0gTC5jaXJjbGVNYXJrZXIoCiAgICAgICAgICAgICAgICBbNDMuODA2Njg2Mjk5OTk5OTk2LCAtNzkuMTk0MzUzNDAwMDAwMDFdLAogICAgICAgICAgICAgICAgeyJidWJibGluZ01vdXNlRXZlbnRzIjogdHJ1ZSwgImNvbG9yIjogInJlZCIsICJkYXNoQXJyYXkiOiBudWxsLCAiZGFzaE9mZnNldCI6IG51bGwsICJmaWxsIjogdHJ1ZSwgImZpbGxDb2xvciI6ICIjMzE4NmNjIiwgImZpbGxPcGFjaXR5IjogMC43LCAiZmlsbFJ1bGUiOiAiZXZlbm9kZCIsICJsaW5lQ2FwIjogInJvdW5kIiwgImxpbmVKb2luIjogInJvdW5kIiwgIm9wYWNpdHkiOiAxLjAsICJyYWRpdXMiOiA0LCAic3Ryb2tlIjogdHJ1ZSwgIndlaWdodCI6IDN9CiAgICAgICAgICAgICkuYWRkVG8obWFwX2MyMWZhMTYxMzdkMTQ3ZGJhNTlmZmViMjExOTljNzdmKTsKICAgICAgICAKICAgIAogICAgICAgIHZhciBwb3B1cF82OGI1M2EyY2ZlYzk0NWJkODE5OTQxNTNmNTY2N2U0ZSA9IEwucG9wdXAoeyJtYXhXaWR0aCI6ICIxMDAlIn0pOwoKICAgICAgICAKICAgICAgICAgICAgdmFyIGh0bWxfNmM3ZDYxZmRmYjg3NGViYmI2OThiYzQyZWUxMDFkYjUgPSAkKGA8ZGl2IGlkPSJodG1sXzZjN2Q2MWZkZmI4NzRlYmJiNjk4YmM0MmVlMTAxZGI1IiBzdHlsZT0id2lkdGg6IDEwMC4wJTsgaGVpZ2h0OiAxMDAuMCU7Ij5TY2FyYm9yb3VnaCwgTTFCLCBNYWx2ZXJuIC8gUm91Z2U8L2Rpdj5gKVswXTsKICAgICAgICAgICAgcG9wdXBfNjhiNTNhMmNmZWM5NDViZDgxOTk0MTUzZjU2NjdlNGUuc2V0Q29udGVudChodG1sXzZjN2Q2MWZkZmI4NzRlYmJiNjk4YmM0MmVlMTAxZGI1KTsKICAgICAgICAKCiAgICAgICAgY2lyY2xlX21hcmtlcl9mZTc1ZGU5N2FmMzU0OTA4ODc1YTAwMjA0NGFmOTllYS5iaW5kUG9wdXAocG9wdXBfNjhiNTNhMmNmZWM5NDViZDgxOTk0MTUzZjU2NjdlNGUpCiAgICAgICAgOwoKICAgICAgICAKICAgIAogICAgCiAgICAgICAgICAgIHZhciBjaXJjbGVfbWFya2VyXzU4ZDYzMDRmYmU3ODQ4Nzc5ODY2ZDZlYTI2ZTFjN2EyID0gTC5jaXJjbGVNYXJrZXIoCiAgICAgICAgICAgICAgICBbNDMuNzQ1OTA1Nzk5OTk5OTk2LCAtNzkuMzUyMTg4XSwKICAgICAgICAgICAgICAgIHsiYnViYmxpbmdNb3VzZUV2ZW50cyI6IHRydWUsICJjb2xvciI6ICJyZWQiLCAiZGFzaEFycmF5IjogbnVsbCwgImRhc2hPZmZzZXQiOiBudWxsLCAiZmlsbCI6IHRydWUsICJmaWxsQ29sb3IiOiAiIzMxODZjYyIsICJmaWxsT3BhY2l0eSI6IDAuNywgImZpbGxSdWxlIjogImV2ZW5vZGQiLCAibGluZUNhcCI6ICJyb3VuZCIsICJsaW5lSm9pbiI6ICJyb3VuZCIsICJvcGFjaXR5IjogMS4wLCAicmFkaXVzIjogNCwgInN0cm9rZSI6IHRydWUsICJ3ZWlnaHQiOiAzfQogICAgICAgICAgICApLmFkZFRvKG1hcF9jMjFmYTE2MTM3ZDE0N2RiYTU5ZmZlYjIxMTk5Yzc3Zik7CiAgICAgICAgCiAgICAKICAgICAgICB2YXIgcG9wdXBfNjcyMjIwNmE1N2RiNDY4NmIzMmYwNWZjMjg3YzU2OWMgPSBMLnBvcHVwKHsibWF4V2lkdGgiOiAiMTAwJSJ9KTsKCiAgICAgICAgCiAgICAgICAgICAgIHZhciBodG1sXzYwYjk4M2Y0MmE0YjRjNWViNzQ0N2NjZjE2NDM5NGRkID0gJChgPGRpdiBpZD0iaHRtbF82MGI5ODNmNDJhNGI0YzVlYjc0NDdjY2YxNjQzOTRkZCIgc3R5bGU9IndpZHRoOiAxMDAuMCU7IGhlaWdodDogMTAwLjAlOyI+Tm9ydGggWW9yaywgTTNCLCBEb24gTWlsbHM8L2Rpdj5gKVswXTsKICAgICAgICAgICAgcG9wdXBfNjcyMjIwNmE1N2RiNDY4NmIzMmYwNWZjMjg3YzU2OWMuc2V0Q29udGVudChodG1sXzYwYjk4M2Y0MmE0YjRjNWViNzQ0N2NjZjE2NDM5NGRkKTsKICAgICAgICAKCiAgICAgICAgY2lyY2xlX21hcmtlcl81OGQ2MzA0ZmJlNzg0ODc3OTg2NmQ2ZWEyNmUxYzdhMi5iaW5kUG9wdXAocG9wdXBfNjcyMjIwNmE1N2RiNDY4NmIzMmYwNWZjMjg3YzU2OWMpCiAgICAgICAgOwoKICAgICAgICAKICAgIAogICAgCiAgICAgICAgICAgIHZhciBjaXJjbGVfbWFya2VyXzgwMGUzYzJhNmUyODQ5MmI5NWIyMDc4YmJlZjVjN2E1ID0gTC5jaXJjbGVNYXJrZXIoCiAgICAgICAgICAgICAgICBbNDMuNzA2Mzk3MiwgLTc5LjMwOTkzN10sCiAgICAgICAgICAgICAgICB7ImJ1YmJsaW5nTW91c2VFdmVudHMiOiB0cnVlLCAiY29sb3IiOiAicmVkIiwgImRhc2hBcnJheSI6IG51bGwsICJkYXNoT2Zmc2V0IjogbnVsbCwgImZpbGwiOiB0cnVlLCAiZmlsbENvbG9yIjogIiMzMTg2Y2MiLCAiZmlsbE9wYWNpdHkiOiAwLjcsICJmaWxsUnVsZSI6ICJldmVub2RkIiwgImxpbmVDYXAiOiAicm91bmQiLCAibGluZUpvaW4iOiAicm91bmQiLCAib3BhY2l0eSI6IDEuMCwgInJhZGl1cyI6IDQsICJzdHJva2UiOiB0cnVlLCAid2VpZ2h0IjogM30KICAgICAgICAgICAgKS5hZGRUbyhtYXBfYzIxZmExNjEzN2QxNDdkYmE1OWZmZWIyMTE5OWM3N2YpOwogICAgICAgIAogICAgCiAgICAgICAgdmFyIHBvcHVwX2U5ZDMwYTUyNWY5MDQ4OGY5ZDY3MTRlMTNkMjZjZjJmID0gTC5wb3B1cCh7Im1heFdpZHRoIjogIjEwMCUifSk7CgogICAgICAgIAogICAgICAgICAgICB2YXIgaHRtbF9kYmJhMmQwNjBiMmI0YzBkYThlMjg4YzA4ZTcxNjNhZiA9ICQoYDxkaXYgaWQ9Imh0bWxfZGJiYTJkMDYwYjJiNGMwZGE4ZTI4OGMwOGU3MTYzYWYiIHN0eWxlPSJ3aWR0aDogMTAwLjAlOyBoZWlnaHQ6IDEwMC4wJTsiPkVhc3QgWW9yaywgTTRCLCBQYXJrdmlldyBIaWxsIC8gV29vZGJpbmUgR2FyZGVuczwvZGl2PmApWzBdOwogICAgICAgICAgICBwb3B1cF9lOWQzMGE1MjVmOTA0ODhmOWQ2NzE0ZTEzZDI2Y2YyZi5zZXRDb250ZW50KGh0bWxfZGJiYTJkMDYwYjJiNGMwZGE4ZTI4OGMwOGU3MTYzYWYpOwogICAgICAgIAoKICAgICAgICBjaXJjbGVfbWFya2VyXzgwMGUzYzJhNmUyODQ5MmI5NWIyMDc4YmJlZjVjN2E1LmJpbmRQb3B1cChwb3B1cF9lOWQzMGE1MjVmOTA0ODhmOWQ2NzE0ZTEzZDI2Y2YyZikKICAgICAgICA7CgogICAgICAgIAogICAgCiAgICAKICAgICAgICAgICAgdmFyIGNpcmNsZV9tYXJrZXJfMjUzNTE2OGFhOWE2NGIzMDkyOWI4OTBmZGMzMTRkMDAgPSBMLmNpcmNsZU1hcmtlcigKICAgICAgICAgICAgICAgIFs0My42NTcxNjE4LCAtNzkuMzc4OTM3MDk5OTk5OTldLAogICAgICAgICAgICAgICAgeyJidWJibGluZ01vdXNlRXZlbnRzIjogdHJ1ZSwgImNvbG9yIjogInJlZCIsICJkYXNoQXJyYXkiOiBudWxsLCAiZGFzaE9mZnNldCI6IG51bGwsICJmaWxsIjogdHJ1ZSwgImZpbGxDb2xvciI6ICIjMzE4NmNjIiwgImZpbGxPcGFjaXR5IjogMC43LCAiZmlsbFJ1bGUiOiAiZXZlbm9kZCIsICJsaW5lQ2FwIjogInJvdW5kIiwgImxpbmVKb2luIjogInJvdW5kIiwgIm9wYWNpdHkiOiAxLjAsICJyYWRpdXMiOiA0LCAic3Ryb2tlIjogdHJ1ZSwgIndlaWdodCI6IDN9CiAgICAgICAgICAgICkuYWRkVG8obWFwX2MyMWZhMTYxMzdkMTQ3ZGJhNTlmZmViMjExOTljNzdmKTsKICAgICAgICAKICAgIAogICAgICAgIHZhciBwb3B1cF8xNWE4OWQ3OTE2ZjQ0NzYwOWYwYjkxMzU4OGM5ZmQyNCA9IEwucG9wdXAoeyJtYXhXaWR0aCI6ICIxMDAlIn0pOwoKICAgICAgICAKICAgICAgICAgICAgdmFyIGh0bWxfYjRmNGEyMWZiOWYwNDU3M2ExNTYxYWFhZTk0MmJhODAgPSAkKGA8ZGl2IGlkPSJodG1sX2I0ZjRhMjFmYjlmMDQ1NzNhMTU2MWFhYWU5NDJiYTgwIiBzdHlsZT0id2lkdGg6IDEwMC4wJTsgaGVpZ2h0OiAxMDAuMCU7Ij5Eb3dudG93biBUb3JvbnRvLCBNNUIsIEdhcmRlbiBEaXN0cmljdCwgUnllcnNvbjwvZGl2PmApWzBdOwogICAgICAgICAgICBwb3B1cF8xNWE4OWQ3OTE2ZjQ0NzYwOWYwYjkxMzU4OGM5ZmQyNC5zZXRDb250ZW50KGh0bWxfYjRmNGEyMWZiOWYwNDU3M2ExNTYxYWFhZTk0MmJhODApOwogICAgICAgIAoKICAgICAgICBjaXJjbGVfbWFya2VyXzI1MzUxNjhhYTlhNjRiMzA5MjliODkwZmRjMzE0ZDAwLmJpbmRQb3B1cChwb3B1cF8xNWE4OWQ3OTE2ZjQ0NzYwOWYwYjkxMzU4OGM5ZmQyNCkKICAgICAgICA7CgogICAgICAgIAogICAgCiAgICAKICAgICAgICAgICAgdmFyIGNpcmNsZV9tYXJrZXJfOWUyYmI1NDhmNzJiNDhhYmE4YzRhZjdiYTdiY2Q4YzMgPSBMLmNpcmNsZU1hcmtlcigKICAgICAgICAgICAgICAgIFs0My43MDk1NzcsIC03OS40NDUwNzI1OTk5OTk5OV0sCiAgICAgICAgICAgICAgICB7ImJ1YmJsaW5nTW91c2VFdmVudHMiOiB0cnVlLCAiY29sb3IiOiAicmVkIiwgImRhc2hBcnJheSI6IG51bGwsICJkYXNoT2Zmc2V0IjogbnVsbCwgImZpbGwiOiB0cnVlLCAiZmlsbENvbG9yIjogIiMzMTg2Y2MiLCAiZmlsbE9wYWNpdHkiOiAwLjcsICJmaWxsUnVsZSI6ICJldmVub2RkIiwgImxpbmVDYXAiOiAicm91bmQiLCAibGluZUpvaW4iOiAicm91bmQiLCAib3BhY2l0eSI6IDEuMCwgInJhZGl1cyI6IDQsICJzdHJva2UiOiB0cnVlLCAid2VpZ2h0IjogM30KICAgICAgICAgICAgKS5hZGRUbyhtYXBfYzIxZmExNjEzN2QxNDdkYmE1OWZmZWIyMTE5OWM3N2YpOwogICAgICAgIAogICAgCiAgICAgICAgdmFyIHBvcHVwX2I3NjdkMzU1OTlmMTQyMDg4MmY1MmNkNGY4OTM4YWY0ID0gTC5wb3B1cCh7Im1heFdpZHRoIjogIjEwMCUifSk7CgogICAgICAgIAogICAgICAgICAgICB2YXIgaHRtbF8wNzE3ZTdkYmEzMGE0ZmU0YTAxYmMxNGY5MzA4YzQxOSA9ICQoYDxkaXYgaWQ9Imh0bWxfMDcxN2U3ZGJhMzBhNGZlNGEwMWJjMTRmOTMwOGM0MTkiIHN0eWxlPSJ3aWR0aDogMTAwLjAlOyBoZWlnaHQ6IDEwMC4wJTsiPk5vcnRoIFlvcmssIE02QiwgR2xlbmNhaXJuPC9kaXY+YClbMF07CiAgICAgICAgICAgIHBvcHVwX2I3NjdkMzU1OTlmMTQyMDg4MmY1MmNkNGY4OTM4YWY0LnNldENvbnRlbnQoaHRtbF8wNzE3ZTdkYmEzMGE0ZmU0YTAxYmMxNGY5MzA4YzQxOSk7CiAgICAgICAgCgogICAgICAgIGNpcmNsZV9tYXJrZXJfOWUyYmI1NDhmNzJiNDhhYmE4YzRhZjdiYTdiY2Q4YzMuYmluZFBvcHVwKHBvcHVwX2I3NjdkMzU1OTlmMTQyMDg4MmY1MmNkNGY4OTM4YWY0KQogICAgICAgIDsKCiAgICAgICAgCiAgICAKICAgIAogICAgICAgICAgICB2YXIgY2lyY2xlX21hcmtlcl9kM2EyMjVlYzg4MDI0NmY0OTFjZjRiZTAzOTdmNDhkNSA9IEwuY2lyY2xlTWFya2VyKAogICAgICAgICAgICAgICAgWzQzLjY1MDk0MzIsIC03OS41NTQ3MjQ0MDAwMDAwMV0sCiAgICAgICAgICAgICAgICB7ImJ1YmJsaW5nTW91c2VFdmVudHMiOiB0cnVlLCAiY29sb3IiOiAicmVkIiwgImRhc2hBcnJheSI6IG51bGwsICJkYXNoT2Zmc2V0IjogbnVsbCwgImZpbGwiOiB0cnVlLCAiZmlsbENvbG9yIjogIiMzMTg2Y2MiLCAiZmlsbE9wYWNpdHkiOiAwLjcsICJmaWxsUnVsZSI6ICJldmVub2RkIiwgImxpbmVDYXAiOiAicm91bmQiLCAibGluZUpvaW4iOiAicm91bmQiLCAib3BhY2l0eSI6IDEuMCwgInJhZGl1cyI6IDQsICJzdHJva2UiOiB0cnVlLCAid2VpZ2h0IjogM30KICAgICAgICAgICAgKS5hZGRUbyhtYXBfYzIxZmExNjEzN2QxNDdkYmE1OWZmZWIyMTE5OWM3N2YpOwogICAgICAgIAogICAgCiAgICAgICAgdmFyIHBvcHVwXzI5YjVmNzdjZTBlZDQwODliMDMzNTdkNzZlNTMxMTNmID0gTC5wb3B1cCh7Im1heFdpZHRoIjogIjEwMCUifSk7CgogICAgICAgIAogICAgICAgICAgICB2YXIgaHRtbF85YTE3MGYwZWQxZDA0MTE1YTMwMmFhMTNjYTAwODE1NyA9ICQoYDxkaXYgaWQ9Imh0bWxfOWExNzBmMGVkMWQwNDExNWEzMDJhYTEzY2EwMDgxNTciIHN0eWxlPSJ3aWR0aDogMTAwLjAlOyBoZWlnaHQ6IDEwMC4wJTsiPkV0b2JpY29rZSwgTTlCLCBXZXN0IERlYW5lIFBhcmsgLyBQcmluY2VzcyBHYXJkZW5zIC8gTWFydGluIEdyb3ZlIC8gSXNsaW5ndG9uIC8gQ2xvdmVyZGFsZTwvZGl2PmApWzBdOwogICAgICAgICAgICBwb3B1cF8yOWI1Zjc3Y2UwZWQ0MDg5YjAzMzU3ZDc2ZTUzMTEzZi5zZXRDb250ZW50KGh0bWxfOWExNzBmMGVkMWQwNDExNWEzMDJhYTEzY2EwMDgxNTcpOwogICAgICAgIAoKICAgICAgICBjaXJjbGVfbWFya2VyX2QzYTIyNWVjODgwMjQ2ZjQ5MWNmNGJlMDM5N2Y0OGQ1LmJpbmRQb3B1cChwb3B1cF8yOWI1Zjc3Y2UwZWQ0MDg5YjAzMzU3ZDc2ZTUzMTEzZikKICAgICAgICA7CgogICAgICAgIAogICAgCiAgICAKICAgICAgICAgICAgdmFyIGNpcmNsZV9tYXJrZXJfYzZiM2U4NjZiZmY4NGRlM2IzMGJjZjBmZWZiMTVmNmYgPSBMLmNpcmNsZU1hcmtlcigKICAgICAgICAgICAgICAgIFs0My43ODQ1MzUxLCAtNzkuMTYwNDk3MDk5OTk5OTldLAogICAgICAgICAgICAgICAgeyJidWJibGluZ01vdXNlRXZlbnRzIjogdHJ1ZSwgImNvbG9yIjogInJlZCIsICJkYXNoQXJyYXkiOiBudWxsLCAiZGFzaE9mZnNldCI6IG51bGwsICJmaWxsIjogdHJ1ZSwgImZpbGxDb2xvciI6ICIjMzE4NmNjIiwgImZpbGxPcGFjaXR5IjogMC43LCAiZmlsbFJ1bGUiOiAiZXZlbm9kZCIsICJsaW5lQ2FwIjogInJvdW5kIiwgImxpbmVKb2luIjogInJvdW5kIiwgIm9wYWNpdHkiOiAxLjAsICJyYWRpdXMiOiA0LCAic3Ryb2tlIjogdHJ1ZSwgIndlaWdodCI6IDN9CiAgICAgICAgICAgICkuYWRkVG8obWFwX2MyMWZhMTYxMzdkMTQ3ZGJhNTlmZmViMjExOTljNzdmKTsKICAgICAgICAKICAgIAogICAgICAgIHZhciBwb3B1cF8xYzIzOTUxOTkzZDg0YTIyYmRkODk0MmQ2MjcxMzJjZiA9IEwucG9wdXAoeyJtYXhXaWR0aCI6ICIxMDAlIn0pOwoKICAgICAgICAKICAgICAgICAgICAgdmFyIGh0bWxfOTUzMTg5ZmIzYWVjNDBkZWE1ZTJjYzBlMTU4MTdjZGYgPSAkKGA8ZGl2IGlkPSJodG1sXzk1MzE4OWZiM2FlYzQwZGVhNWUyY2MwZTE1ODE3Y2RmIiBzdHlsZT0id2lkdGg6IDEwMC4wJTsgaGVpZ2h0OiAxMDAuMCU7Ij5TY2FyYm9yb3VnaCwgTTFDLCBSb3VnZSBIaWxsIC8gUG9ydCBVbmlvbiAvIEhpZ2hsYW5kIENyZWVrPC9kaXY+YClbMF07CiAgICAgICAgICAgIHBvcHVwXzFjMjM5NTE5OTNkODRhMjJiZGQ4OTQyZDYyNzEzMmNmLnNldENvbnRlbnQoaHRtbF85NTMxODlmYjNhZWM0MGRlYTVlMmNjMGUxNTgxN2NkZik7CiAgICAgICAgCgogICAgICAgIGNpcmNsZV9tYXJrZXJfYzZiM2U4NjZiZmY4NGRlM2IzMGJjZjBmZWZiMTVmNmYuYmluZFBvcHVwKHBvcHVwXzFjMjM5NTE5OTNkODRhMjJiZGQ4OTQyZDYyNzEzMmNmKQogICAgICAgIDsKCiAgICAgICAgCiAgICAKICAgIAogICAgICAgICAgICB2YXIgY2lyY2xlX21hcmtlcl85ZWIwNjBkZDY5YjA0MGVjODNmNDMzM2I2YTRjODFmNiA9IEwuY2lyY2xlTWFya2VyKAogICAgICAgICAgICAgICAgWzQzLjcyNTg5OTcwMDAwMDAxLCAtNzkuMzQwOTIzXSwKICAgICAgICAgICAgICAgIHsiYnViYmxpbmdNb3VzZUV2ZW50cyI6IHRydWUsICJjb2xvciI6ICJyZWQiLCAiZGFzaEFycmF5IjogbnVsbCwgImRhc2hPZmZzZXQiOiBudWxsLCAiZmlsbCI6IHRydWUsICJmaWxsQ29sb3IiOiAiIzMxODZjYyIsICJmaWxsT3BhY2l0eSI6IDAuNywgImZpbGxSdWxlIjogImV2ZW5vZGQiLCAibGluZUNhcCI6ICJyb3VuZCIsICJsaW5lSm9pbiI6ICJyb3VuZCIsICJvcGFjaXR5IjogMS4wLCAicmFkaXVzIjogNCwgInN0cm9rZSI6IHRydWUsICJ3ZWlnaHQiOiAzfQogICAgICAgICAgICApLmFkZFRvKG1hcF9jMjFmYTE2MTM3ZDE0N2RiYTU5ZmZlYjIxMTk5Yzc3Zik7CiAgICAgICAgCiAgICAKICAgICAgICB2YXIgcG9wdXBfNmJmNGFkZjc5NjdjNGVjZGFmMjhjM2M4OTA4ZjMzYWQgPSBMLnBvcHVwKHsibWF4V2lkdGgiOiAiMTAwJSJ9KTsKCiAgICAgICAgCiAgICAgICAgICAgIHZhciBodG1sXzE4NTZjOWI1ZWIyZDQyM2FhNGJiOWYyNTUxOWQ1YjcwID0gJChgPGRpdiBpZD0iaHRtbF8xODU2YzliNWViMmQ0MjNhYTRiYjlmMjU1MTlkNWI3MCIgc3R5bGU9IndpZHRoOiAxMDAuMCU7IGhlaWdodDogMTAwLjAlOyI+Tm9ydGggWW9yaywgTTNDLCBEb24gTWlsbHM8L2Rpdj5gKVswXTsKICAgICAgICAgICAgcG9wdXBfNmJmNGFkZjc5NjdjNGVjZGFmMjhjM2M4OTA4ZjMzYWQuc2V0Q29udGVudChodG1sXzE4NTZjOWI1ZWIyZDQyM2FhNGJiOWYyNTUxOWQ1YjcwKTsKICAgICAgICAKCiAgICAgICAgY2lyY2xlX21hcmtlcl85ZWIwNjBkZDY5YjA0MGVjODNmNDMzM2I2YTRjODFmNi5iaW5kUG9wdXAocG9wdXBfNmJmNGFkZjc5NjdjNGVjZGFmMjhjM2M4OTA4ZjMzYWQpCiAgICAgICAgOwoKICAgICAgICAKICAgIAogICAgCiAgICAgICAgICAgIHZhciBjaXJjbGVfbWFya2VyX2IwM2IwNTg4YzVlMDRlNmY5YTc4YTM0YTcxYzA4NTZhID0gTC5jaXJjbGVNYXJrZXIoCiAgICAgICAgICAgICAgICBbNDMuNjk1MzQzOTAwMDAwMDA1LCAtNzkuMzE4Mzg4N10sCiAgICAgICAgICAgICAgICB7ImJ1YmJsaW5nTW91c2VFdmVudHMiOiB0cnVlLCAiY29sb3IiOiAicmVkIiwgImRhc2hBcnJheSI6IG51bGwsICJkYXNoT2Zmc2V0IjogbnVsbCwgImZpbGwiOiB0cnVlLCAiZmlsbENvbG9yIjogIiMzMTg2Y2MiLCAiZmlsbE9wYWNpdHkiOiAwLjcsICJmaWxsUnVsZSI6ICJldmVub2RkIiwgImxpbmVDYXAiOiAicm91bmQiLCAibGluZUpvaW4iOiAicm91bmQiLCAib3BhY2l0eSI6IDEuMCwgInJhZGl1cyI6IDQsICJzdHJva2UiOiB0cnVlLCAid2VpZ2h0IjogM30KICAgICAgICAgICAgKS5hZGRUbyhtYXBfYzIxZmExNjEzN2QxNDdkYmE1OWZmZWIyMTE5OWM3N2YpOwogICAgICAgIAogICAgCiAgICAgICAgdmFyIHBvcHVwXzYxMGRjZDA3ODVhZTQ5MjJhOWMyNjFiMDZhY2ZkZjdkID0gTC5wb3B1cCh7Im1heFdpZHRoIjogIjEwMCUifSk7CgogICAgICAgIAogICAgICAgICAgICB2YXIgaHRtbF8wNDkzOGVlY2NkZmM0MmJmOTQ4YzgyNGYxYTlhZGEzMCA9ICQoYDxkaXYgaWQ9Imh0bWxfMDQ5MzhlZWNjZGZjNDJiZjk0OGM4MjRmMWE5YWRhMzAiIHN0eWxlPSJ3aWR0aDogMTAwLjAlOyBoZWlnaHQ6IDEwMC4wJTsiPkVhc3QgWW9yaywgTTRDLCBXb29kYmluZSBIZWlnaHRzPC9kaXY+YClbMF07CiAgICAgICAgICAgIHBvcHVwXzYxMGRjZDA3ODVhZTQ5MjJhOWMyNjFiMDZhY2ZkZjdkLnNldENvbnRlbnQoaHRtbF8wNDkzOGVlY2NkZmM0MmJmOTQ4YzgyNGYxYTlhZGEzMCk7CiAgICAgICAgCgogICAgICAgIGNpcmNsZV9tYXJrZXJfYjAzYjA1ODhjNWUwNGU2ZjlhNzhhMzRhNzFjMDg1NmEuYmluZFBvcHVwKHBvcHVwXzYxMGRjZDA3ODVhZTQ5MjJhOWMyNjFiMDZhY2ZkZjdkKQogICAgICAgIDsKCiAgICAgICAgCiAgICAKICAgIAogICAgICAgICAgICB2YXIgY2lyY2xlX21hcmtlcl8zYWZhMmQ0NzlmMzU0OWUxYWE2NDEyOTVlNTU3NTg5MyA9IEwuY2lyY2xlTWFya2VyKAogICAgICAgICAgICAgICAgWzQzLjY1MTQ5MzksIC03OS4zNzU0MTc5XSwKICAgICAgICAgICAgICAgIHsiYnViYmxpbmdNb3VzZUV2ZW50cyI6IHRydWUsICJjb2xvciI6ICJyZWQiLCAiZGFzaEFycmF5IjogbnVsbCwgImRhc2hPZmZzZXQiOiBudWxsLCAiZmlsbCI6IHRydWUsICJmaWxsQ29sb3IiOiAiIzMxODZjYyIsICJmaWxsT3BhY2l0eSI6IDAuNywgImZpbGxSdWxlIjogImV2ZW5vZGQiLCAibGluZUNhcCI6ICJyb3VuZCIsICJsaW5lSm9pbiI6ICJyb3VuZCIsICJvcGFjaXR5IjogMS4wLCAicmFkaXVzIjogNCwgInN0cm9rZSI6IHRydWUsICJ3ZWlnaHQiOiAzfQogICAgICAgICAgICApLmFkZFRvKG1hcF9jMjFmYTE2MTM3ZDE0N2RiYTU5ZmZlYjIxMTk5Yzc3Zik7CiAgICAgICAgCiAgICAKICAgICAgICB2YXIgcG9wdXBfMmRkYTFhYzYwNjE3NDlkOTkwN2E4NWQ5MWJmMjExODUgPSBMLnBvcHVwKHsibWF4V2lkdGgiOiAiMTAwJSJ9KTsKCiAgICAgICAgCiAgICAgICAgICAgIHZhciBodG1sX2JkNTI3MjFiMjZhMDQwNWI4Nzk4YzZlMDU0OGViMzkwID0gJChgPGRpdiBpZD0iaHRtbF9iZDUyNzIxYjI2YTA0MDViODc5OGM2ZTA1NDhlYjM5MCIgc3R5bGU9IndpZHRoOiAxMDAuMCU7IGhlaWdodDogMTAwLjAlOyI+RG93bnRvd24gVG9yb250bywgTTVDLCBTdC4gSmFtZXMgVG93bjwvZGl2PmApWzBdOwogICAgICAgICAgICBwb3B1cF8yZGRhMWFjNjA2MTc0OWQ5OTA3YTg1ZDkxYmYyMTE4NS5zZXRDb250ZW50KGh0bWxfYmQ1MjcyMWIyNmEwNDA1Yjg3OThjNmUwNTQ4ZWIzOTApOwogICAgICAgIAoKICAgICAgICBjaXJjbGVfbWFya2VyXzNhZmEyZDQ3OWYzNTQ5ZTFhYTY0MTI5NWU1NTc1ODkzLmJpbmRQb3B1cChwb3B1cF8yZGRhMWFjNjA2MTc0OWQ5OTA3YTg1ZDkxYmYyMTE4NSkKICAgICAgICA7CgogICAgICAgIAogICAgCiAgICAKICAgICAgICAgICAgdmFyIGNpcmNsZV9tYXJrZXJfYTJlYjE5ODFkN2ZhNDkzYjhiNWFiZTU4NGYwYjQwNzUgPSBMLmNpcmNsZU1hcmtlcigKICAgICAgICAgICAgICAgIFs0My42OTM3ODEzLCAtNzkuNDI4MTkxNDAwMDAwMDJdLAogICAgICAgICAgICAgICAgeyJidWJibGluZ01vdXNlRXZlbnRzIjogdHJ1ZSwgImNvbG9yIjogInJlZCIsICJkYXNoQXJyYXkiOiBudWxsLCAiZGFzaE9mZnNldCI6IG51bGwsICJmaWxsIjogdHJ1ZSwgImZpbGxDb2xvciI6ICIjMzE4NmNjIiwgImZpbGxPcGFjaXR5IjogMC43LCAiZmlsbFJ1bGUiOiAiZXZlbm9kZCIsICJsaW5lQ2FwIjogInJvdW5kIiwgImxpbmVKb2luIjogInJvdW5kIiwgIm9wYWNpdHkiOiAxLjAsICJyYWRpdXMiOiA0LCAic3Ryb2tlIjogdHJ1ZSwgIndlaWdodCI6IDN9CiAgICAgICAgICAgICkuYWRkVG8obWFwX2MyMWZhMTYxMzdkMTQ3ZGJhNTlmZmViMjExOTljNzdmKTsKICAgICAgICAKICAgIAogICAgICAgIHZhciBwb3B1cF82Mjg1ZmFmNzdmOWU0ODgwOTQ3ZTQyYmI2MjE0OGVjYiA9IEwucG9wdXAoeyJtYXhXaWR0aCI6ICIxMDAlIn0pOwoKICAgICAgICAKICAgICAgICAgICAgdmFyIGh0bWxfOGUzNTc5ZGJkYzg4NGJmYTkxY2ExNjE5YzI4Y2U4MjUgPSAkKGA8ZGl2IGlkPSJodG1sXzhlMzU3OWRiZGM4ODRiZmE5MWNhMTYxOWMyOGNlODI1IiBzdHlsZT0id2lkdGg6IDEwMC4wJTsgaGVpZ2h0OiAxMDAuMCU7Ij5Zb3JrLCBNNkMsIEh1bWV3b29kLUNlZGFydmFsZTwvZGl2PmApWzBdOwogICAgICAgICAgICBwb3B1cF82Mjg1ZmFmNzdmOWU0ODgwOTQ3ZTQyYmI2MjE0OGVjYi5zZXRDb250ZW50KGh0bWxfOGUzNTc5ZGJkYzg4NGJmYTkxY2ExNjE5YzI4Y2U4MjUpOwogICAgICAgIAoKICAgICAgICBjaXJjbGVfbWFya2VyX2EyZWIxOTgxZDdmYTQ5M2I4YjVhYmU1ODRmMGI0MDc1LmJpbmRQb3B1cChwb3B1cF82Mjg1ZmFmNzdmOWU0ODgwOTQ3ZTQyYmI2MjE0OGVjYikKICAgICAgICA7CgogICAgICAgIAogICAgCiAgICAKICAgICAgICAgICAgdmFyIGNpcmNsZV9tYXJrZXJfZWZlMzgyNzA0Y2Q1NDY4NmFlNDM5MzBjNzkyODNlZGIgPSBMLmNpcmNsZU1hcmtlcigKICAgICAgICAgICAgICAgIFs0My42NDM1MTUyLCAtNzkuNTc3MjAwNzk5OTk5OTldLAogICAgICAgICAgICAgICAgeyJidWJibGluZ01vdXNlRXZlbnRzIjogdHJ1ZSwgImNvbG9yIjogInJlZCIsICJkYXNoQXJyYXkiOiBudWxsLCAiZGFzaE9mZnNldCI6IG51bGwsICJmaWxsIjogdHJ1ZSwgImZpbGxDb2xvciI6ICIjMzE4NmNjIiwgImZpbGxPcGFjaXR5IjogMC43LCAiZmlsbFJ1bGUiOiAiZXZlbm9kZCIsICJsaW5lQ2FwIjogInJvdW5kIiwgImxpbmVKb2luIjogInJvdW5kIiwgIm9wYWNpdHkiOiAxLjAsICJyYWRpdXMiOiA0LCAic3Ryb2tlIjogdHJ1ZSwgIndlaWdodCI6IDN9CiAgICAgICAgICAgICkuYWRkVG8obWFwX2MyMWZhMTYxMzdkMTQ3ZGJhNTlmZmViMjExOTljNzdmKTsKICAgICAgICAKICAgIAogICAgICAgIHZhciBwb3B1cF84ODA3ZGY1NTQ5MmM0NTc1OTM0ZThlMzc1YWIyY2QzZiA9IEwucG9wdXAoeyJtYXhXaWR0aCI6ICIxMDAlIn0pOwoKICAgICAgICAKICAgICAgICAgICAgdmFyIGh0bWxfYTBjOThhMjljMmU4NDNlYzkzMWE4Yjk5OWI1MGZkYzUgPSAkKGA8ZGl2IGlkPSJodG1sX2EwYzk4YTI5YzJlODQzZWM5MzFhOGI5OTliNTBmZGM1IiBzdHlsZT0id2lkdGg6IDEwMC4wJTsgaGVpZ2h0OiAxMDAuMCU7Ij5FdG9iaWNva2UsIE05QywgRXJpbmdhdGUgLyBCbG9vcmRhbGUgR2FyZGVucyAvIE9sZCBCdXJuaGFtdGhvcnBlIC8gTWFya2xhbmQgV29vZDwvZGl2PmApWzBdOwogICAgICAgICAgICBwb3B1cF84ODA3ZGY1NTQ5MmM0NTc1OTM0ZThlMzc1YWIyY2QzZi5zZXRDb250ZW50KGh0bWxfYTBjOThhMjljMmU4NDNlYzkzMWE4Yjk5OWI1MGZkYzUpOwogICAgICAgIAoKICAgICAgICBjaXJjbGVfbWFya2VyX2VmZTM4MjcwNGNkNTQ2ODZhZTQzOTMwYzc5MjgzZWRiLmJpbmRQb3B1cChwb3B1cF84ODA3ZGY1NTQ5MmM0NTc1OTM0ZThlMzc1YWIyY2QzZikKICAgICAgICA7CgogICAgICAgIAogICAgCiAgICAKICAgICAgICAgICAgdmFyIGNpcmNsZV9tYXJrZXJfMjFkODRjZTU2ZDQ2NDVkYWI3ZjYxM2Q3NjhhZmM2YmEgPSBMLmNpcmNsZU1hcmtlcigKICAgICAgICAgICAgICAgIFs0My43NjM1NzI2LCAtNzkuMTg4NzExNV0sCiAgICAgICAgICAgICAgICB7ImJ1YmJsaW5nTW91c2VFdmVudHMiOiB0cnVlLCAiY29sb3IiOiAicmVkIiwgImRhc2hBcnJheSI6IG51bGwsICJkYXNoT2Zmc2V0IjogbnVsbCwgImZpbGwiOiB0cnVlLCAiZmlsbENvbG9yIjogIiMzMTg2Y2MiLCAiZmlsbE9wYWNpdHkiOiAwLjcsICJmaWxsUnVsZSI6ICJldmVub2RkIiwgImxpbmVDYXAiOiAicm91bmQiLCAibGluZUpvaW4iOiAicm91bmQiLCAib3BhY2l0eSI6IDEuMCwgInJhZGl1cyI6IDQsICJzdHJva2UiOiB0cnVlLCAid2VpZ2h0IjogM30KICAgICAgICAgICAgKS5hZGRUbyhtYXBfYzIxZmExNjEzN2QxNDdkYmE1OWZmZWIyMTE5OWM3N2YpOwogICAgICAgIAogICAgCiAgICAgICAgdmFyIHBvcHVwXzNmMTlhZjcxMWMzZjQyYjZhYjg1NTAxZjQzMjQ2ZTVlID0gTC5wb3B1cCh7Im1heFdpZHRoIjogIjEwMCUifSk7CgogICAgICAgIAogICAgICAgICAgICB2YXIgaHRtbF80Y2E0Y2FmMGU1YmU0MmM1YWFiNWI1NDA3NjIxYWMwNSA9ICQoYDxkaXYgaWQ9Imh0bWxfNGNhNGNhZjBlNWJlNDJjNWFhYjViNTQwNzYyMWFjMDUiIHN0eWxlPSJ3aWR0aDogMTAwLjAlOyBoZWlnaHQ6IDEwMC4wJTsiPlNjYXJib3JvdWdoLCBNMUUsIEd1aWxkd29vZCAvIE1vcm5pbmdzaWRlIC8gV2VzdCBIaWxsPC9kaXY+YClbMF07CiAgICAgICAgICAgIHBvcHVwXzNmMTlhZjcxMWMzZjQyYjZhYjg1NTAxZjQzMjQ2ZTVlLnNldENvbnRlbnQoaHRtbF80Y2E0Y2FmMGU1YmU0MmM1YWFiNWI1NDA3NjIxYWMwNSk7CiAgICAgICAgCgogICAgICAgIGNpcmNsZV9tYXJrZXJfMjFkODRjZTU2ZDQ2NDVkYWI3ZjYxM2Q3NjhhZmM2YmEuYmluZFBvcHVwKHBvcHVwXzNmMTlhZjcxMWMzZjQyYjZhYjg1NTAxZjQzMjQ2ZTVlKQogICAgICAgIDsKCiAgICAgICAgCiAgICAKICAgIAogICAgICAgICAgICB2YXIgY2lyY2xlX21hcmtlcl9iMzQyNTlmMmFiNzQ0NDAwOGRjMjdjNGU4Yjc5MDNiYiA9IEwuY2lyY2xlTWFya2VyKAogICAgICAgICAgICAgICAgWzQzLjY3NjM1NzM5OTk5OTk5LCAtNzkuMjkzMDMxMl0sCiAgICAgICAgICAgICAgICB7ImJ1YmJsaW5nTW91c2VFdmVudHMiOiB0cnVlLCAiY29sb3IiOiAicmVkIiwgImRhc2hBcnJheSI6IG51bGwsICJkYXNoT2Zmc2V0IjogbnVsbCwgImZpbGwiOiB0cnVlLCAiZmlsbENvbG9yIjogIiMzMTg2Y2MiLCAiZmlsbE9wYWNpdHkiOiAwLjcsICJmaWxsUnVsZSI6ICJldmVub2RkIiwgImxpbmVDYXAiOiAicm91bmQiLCAibGluZUpvaW4iOiAicm91bmQiLCAib3BhY2l0eSI6IDEuMCwgInJhZGl1cyI6IDQsICJzdHJva2UiOiB0cnVlLCAid2VpZ2h0IjogM30KICAgICAgICAgICAgKS5hZGRUbyhtYXBfYzIxZmExNjEzN2QxNDdkYmE1OWZmZWIyMTE5OWM3N2YpOwogICAgICAgIAogICAgCiAgICAgICAgdmFyIHBvcHVwX2Q1MjRmOTM5NmViODRiYzFiMjk4NDIxOTI5ZTI1ZGVhID0gTC5wb3B1cCh7Im1heFdpZHRoIjogIjEwMCUifSk7CgogICAgICAgIAogICAgICAgICAgICB2YXIgaHRtbF8zOGMyOTMxNjRkMWU0MzBkODdkMzA1ZmRjMzc5MGJhYSA9ICQoYDxkaXYgaWQ9Imh0bWxfMzhjMjkzMTY0ZDFlNDMwZDg3ZDMwNWZkYzM3OTBiYWEiIHN0eWxlPSJ3aWR0aDogMTAwLjAlOyBoZWlnaHQ6IDEwMC4wJTsiPkVhc3QgVG9yb250bywgTTRFLCBUaGUgQmVhY2hlczwvZGl2PmApWzBdOwogICAgICAgICAgICBwb3B1cF9kNTI0ZjkzOTZlYjg0YmMxYjI5ODQyMTkyOWUyNWRlYS5zZXRDb250ZW50KGh0bWxfMzhjMjkzMTY0ZDFlNDMwZDg3ZDMwNWZkYzM3OTBiYWEpOwogICAgICAgIAoKICAgICAgICBjaXJjbGVfbWFya2VyX2IzNDI1OWYyYWI3NDQ0MDA4ZGMyN2M0ZThiNzkwM2JiLmJpbmRQb3B1cChwb3B1cF9kNTI0ZjkzOTZlYjg0YmMxYjI5ODQyMTkyOWUyNWRlYSkKICAgICAgICA7CgogICAgICAgIAogICAgCiAgICAKICAgICAgICAgICAgdmFyIGNpcmNsZV9tYXJrZXJfMzE1NzVmMTA5NmM2NDljNGEzNzRjZTc4M2IwZWY0YjQgPSBMLmNpcmNsZU1hcmtlcigKICAgICAgICAgICAgICAgIFs0My42NDQ3NzA3OTk5OTk5OTYsIC03OS4zNzMzMDY0XSwKICAgICAgICAgICAgICAgIHsiYnViYmxpbmdNb3VzZUV2ZW50cyI6IHRydWUsICJjb2xvciI6ICJyZWQiLCAiZGFzaEFycmF5IjogbnVsbCwgImRhc2hPZmZzZXQiOiBudWxsLCAiZmlsbCI6IHRydWUsICJmaWxsQ29sb3IiOiAiIzMxODZjYyIsICJmaWxsT3BhY2l0eSI6IDAuNywgImZpbGxSdWxlIjogImV2ZW5vZGQiLCAibGluZUNhcCI6ICJyb3VuZCIsICJsaW5lSm9pbiI6ICJyb3VuZCIsICJvcGFjaXR5IjogMS4wLCAicmFkaXVzIjogNCwgInN0cm9rZSI6IHRydWUsICJ3ZWlnaHQiOiAzfQogICAgICAgICAgICApLmFkZFRvKG1hcF9jMjFmYTE2MTM3ZDE0N2RiYTU5ZmZlYjIxMTk5Yzc3Zik7CiAgICAgICAgCiAgICAKICAgICAgICB2YXIgcG9wdXBfOTQxZjNhNGVlN2I4NDhiNWFiN2FlYjM3ZTUxYTg0MTMgPSBMLnBvcHVwKHsibWF4V2lkdGgiOiAiMTAwJSJ9KTsKCiAgICAgICAgCiAgICAgICAgICAgIHZhciBodG1sXzM2NWM1YjE3MWU5ODQwZGY5Yzg0OTFmMGI3M2RjOGFmID0gJChgPGRpdiBpZD0iaHRtbF8zNjVjNWIxNzFlOTg0MGRmOWM4NDkxZjBiNzNkYzhhZiIgc3R5bGU9IndpZHRoOiAxMDAuMCU7IGhlaWdodDogMTAwLjAlOyI+RG93bnRvd24gVG9yb250bywgTTVFLCBCZXJjenkgUGFyazwvZGl2PmApWzBdOwogICAgICAgICAgICBwb3B1cF85NDFmM2E0ZWU3Yjg0OGI1YWI3YWViMzdlNTFhODQxMy5zZXRDb250ZW50KGh0bWxfMzY1YzViMTcxZTk4NDBkZjljODQ5MWYwYjczZGM4YWYpOwogICAgICAgIAoKICAgICAgICBjaXJjbGVfbWFya2VyXzMxNTc1ZjEwOTZjNjQ5YzRhMzc0Y2U3ODNiMGVmNGI0LmJpbmRQb3B1cChwb3B1cF85NDFmM2E0ZWU3Yjg0OGI1YWI3YWViMzdlNTFhODQxMykKICAgICAgICA7CgogICAgICAgIAogICAgCiAgICAKICAgICAgICAgICAgdmFyIGNpcmNsZV9tYXJrZXJfNjExZjc1OWQ1NTUyNDE0MzkyZDVjMmQyNjViZDk0OTggPSBMLmNpcmNsZU1hcmtlcigKICAgICAgICAgICAgICAgIFs0My42ODkwMjU2LCAtNzkuNDUzNTEyXSwKICAgICAgICAgICAgICAgIHsiYnViYmxpbmdNb3VzZUV2ZW50cyI6IHRydWUsICJjb2xvciI6ICJyZWQiLCAiZGFzaEFycmF5IjogbnVsbCwgImRhc2hPZmZzZXQiOiBudWxsLCAiZmlsbCI6IHRydWUsICJmaWxsQ29sb3IiOiAiIzMxODZjYyIsICJmaWxsT3BhY2l0eSI6IDAuNywgImZpbGxSdWxlIjogImV2ZW5vZGQiLCAibGluZUNhcCI6ICJyb3VuZCIsICJsaW5lSm9pbiI6ICJyb3VuZCIsICJvcGFjaXR5IjogMS4wLCAicmFkaXVzIjogNCwgInN0cm9rZSI6IHRydWUsICJ3ZWlnaHQiOiAzfQogICAgICAgICAgICApLmFkZFRvKG1hcF9jMjFmYTE2MTM3ZDE0N2RiYTU5ZmZlYjIxMTk5Yzc3Zik7CiAgICAgICAgCiAgICAKICAgICAgICB2YXIgcG9wdXBfMDIyY2I3YTY0N2I4NGRiNjhkM2Q2MWMxNGQ4YWYzNTggPSBMLnBvcHVwKHsibWF4V2lkdGgiOiAiMTAwJSJ9KTsKCiAgICAgICAgCiAgICAgICAgICAgIHZhciBodG1sX2FmZmY0N2U0M2I3ODRmMzE4ZGZkNjRlZjE2YjhhN2JlID0gJChgPGRpdiBpZD0iaHRtbF9hZmZmNDdlNDNiNzg0ZjMxOGRmZDY0ZWYxNmI4YTdiZSIgc3R5bGU9IndpZHRoOiAxMDAuMCU7IGhlaWdodDogMTAwLjAlOyI+WW9yaywgTTZFLCBDYWxlZG9uaWEtRmFpcmJhbmtzPC9kaXY+YClbMF07CiAgICAgICAgICAgIHBvcHVwXzAyMmNiN2E2NDdiODRkYjY4ZDNkNjFjMTRkOGFmMzU4LnNldENvbnRlbnQoaHRtbF9hZmZmNDdlNDNiNzg0ZjMxOGRmZDY0ZWYxNmI4YTdiZSk7CiAgICAgICAgCgogICAgICAgIGNpcmNsZV9tYXJrZXJfNjExZjc1OWQ1NTUyNDE0MzkyZDVjMmQyNjViZDk0OTguYmluZFBvcHVwKHBvcHVwXzAyMmNiN2E2NDdiODRkYjY4ZDNkNjFjMTRkOGFmMzU4KQogICAgICAgIDsKCiAgICAgICAgCiAgICAKICAgIAogICAgICAgICAgICB2YXIgY2lyY2xlX21hcmtlcl9iYmVmMWEwMmQ1ZTY0ZDI1YWQ0ZDU5MmUzODQ3NWQ1MyA9IEwuY2lyY2xlTWFya2VyKAogICAgICAgICAgICAgICAgWzQzLjc3MDk5MjEsIC03OS4yMTY5MTc0MDAwMDAwMV0sCiAgICAgICAgICAgICAgICB7ImJ1YmJsaW5nTW91c2VFdmVudHMiOiB0cnVlLCAiY29sb3IiOiAicmVkIiwgImRhc2hBcnJheSI6IG51bGwsICJkYXNoT2Zmc2V0IjogbnVsbCwgImZpbGwiOiB0cnVlLCAiZmlsbENvbG9yIjogIiMzMTg2Y2MiLCAiZmlsbE9wYWNpdHkiOiAwLjcsICJmaWxsUnVsZSI6ICJldmVub2RkIiwgImxpbmVDYXAiOiAicm91bmQiLCAibGluZUpvaW4iOiAicm91bmQiLCAib3BhY2l0eSI6IDEuMCwgInJhZGl1cyI6IDQsICJzdHJva2UiOiB0cnVlLCAid2VpZ2h0IjogM30KICAgICAgICAgICAgKS5hZGRUbyhtYXBfYzIxZmExNjEzN2QxNDdkYmE1OWZmZWIyMTE5OWM3N2YpOwogICAgICAgIAogICAgCiAgICAgICAgdmFyIHBvcHVwXzdmM2VmN2ZkM2NmMDRlNGQ5NmQ3ODNjZTMwZTk5YzdlID0gTC5wb3B1cCh7Im1heFdpZHRoIjogIjEwMCUifSk7CgogICAgICAgIAogICAgICAgICAgICB2YXIgaHRtbF84Zjk1N2Y3MDVhZDg0YWE5YmEzNmQ2NDc5MjJiMmI2NiA9ICQoYDxkaXYgaWQ9Imh0bWxfOGY5NTdmNzA1YWQ4NGFhOWJhMzZkNjQ3OTIyYjJiNjYiIHN0eWxlPSJ3aWR0aDogMTAwLjAlOyBoZWlnaHQ6IDEwMC4wJTsiPlNjYXJib3JvdWdoLCBNMUcsIFdvYnVybjwvZGl2PmApWzBdOwogICAgICAgICAgICBwb3B1cF83ZjNlZjdmZDNjZjA0ZTRkOTZkNzgzY2UzMGU5OWM3ZS5zZXRDb250ZW50KGh0bWxfOGY5NTdmNzA1YWQ4NGFhOWJhMzZkNjQ3OTIyYjJiNjYpOwogICAgICAgIAoKICAgICAgICBjaXJjbGVfbWFya2VyX2JiZWYxYTAyZDVlNjRkMjVhZDRkNTkyZTM4NDc1ZDUzLmJpbmRQb3B1cChwb3B1cF83ZjNlZjdmZDNjZjA0ZTRkOTZkNzgzY2UzMGU5OWM3ZSkKICAgICAgICA7CgogICAgICAgIAogICAgCiAgICAKICAgICAgICAgICAgdmFyIGNpcmNsZV9tYXJrZXJfOGI3OTIyMDNiYmM3NGVjOWIwZjExZmY2MTM1ZTE4ZmIgPSBMLmNpcmNsZU1hcmtlcigKICAgICAgICAgICAgICAgIFs0My43MDkwNjA0LCAtNzkuMzYzNDUxN10sCiAgICAgICAgICAgICAgICB7ImJ1YmJsaW5nTW91c2VFdmVudHMiOiB0cnVlLCAiY29sb3IiOiAicmVkIiwgImRhc2hBcnJheSI6IG51bGwsICJkYXNoT2Zmc2V0IjogbnVsbCwgImZpbGwiOiB0cnVlLCAiZmlsbENvbG9yIjogIiMzMTg2Y2MiLCAiZmlsbE9wYWNpdHkiOiAwLjcsICJmaWxsUnVsZSI6ICJldmVub2RkIiwgImxpbmVDYXAiOiAicm91bmQiLCAibGluZUpvaW4iOiAicm91bmQiLCAib3BhY2l0eSI6IDEuMCwgInJhZGl1cyI6IDQsICJzdHJva2UiOiB0cnVlLCAid2VpZ2h0IjogM30KICAgICAgICAgICAgKS5hZGRUbyhtYXBfYzIxZmExNjEzN2QxNDdkYmE1OWZmZWIyMTE5OWM3N2YpOwogICAgICAgIAogICAgCiAgICAgICAgdmFyIHBvcHVwXzJkNzdjY2QxNWNkOTRhYzU5ZWY1ZWE5MjMyMmQ3NmI3ID0gTC5wb3B1cCh7Im1heFdpZHRoIjogIjEwMCUifSk7CgogICAgICAgIAogICAgICAgICAgICB2YXIgaHRtbF8xNjg3OTFmMjU4ZjA0NTM0Yjk2MmM0ODlhMzY5MDQxNCA9ICQoYDxkaXYgaWQ9Imh0bWxfMTY4NzkxZjI1OGYwNDUzNGI5NjJjNDg5YTM2OTA0MTQiIHN0eWxlPSJ3aWR0aDogMTAwLjAlOyBoZWlnaHQ6IDEwMC4wJTsiPkVhc3QgWW9yaywgTTRHLCBMZWFzaWRlPC9kaXY+YClbMF07CiAgICAgICAgICAgIHBvcHVwXzJkNzdjY2QxNWNkOTRhYzU5ZWY1ZWE5MjMyMmQ3NmI3LnNldENvbnRlbnQoaHRtbF8xNjg3OTFmMjU4ZjA0NTM0Yjk2MmM0ODlhMzY5MDQxNCk7CiAgICAgICAgCgogICAgICAgIGNpcmNsZV9tYXJrZXJfOGI3OTIyMDNiYmM3NGVjOWIwZjExZmY2MTM1ZTE4ZmIuYmluZFBvcHVwKHBvcHVwXzJkNzdjY2QxNWNkOTRhYzU5ZWY1ZWE5MjMyMmQ3NmI3KQogICAgICAgIDsKCiAgICAgICAgCiAgICAKICAgIAogICAgICAgICAgICB2YXIgY2lyY2xlX21hcmtlcl9mMDBiMWMzNzg4Y2M0ZjNiYTkwYzU1ZTYwODMyOTc0NSA9IEwuY2lyY2xlTWFya2VyKAogICAgICAgICAgICAgICAgWzQzLjY1Nzk1MjQsIC03OS4zODczODI2XSwKICAgICAgICAgICAgICAgIHsiYnViYmxpbmdNb3VzZUV2ZW50cyI6IHRydWUsICJjb2xvciI6ICJyZWQiLCAiZGFzaEFycmF5IjogbnVsbCwgImRhc2hPZmZzZXQiOiBudWxsLCAiZmlsbCI6IHRydWUsICJmaWxsQ29sb3IiOiAiIzMxODZjYyIsICJmaWxsT3BhY2l0eSI6IDAuNywgImZpbGxSdWxlIjogImV2ZW5vZGQiLCAibGluZUNhcCI6ICJyb3VuZCIsICJsaW5lSm9pbiI6ICJyb3VuZCIsICJvcGFjaXR5IjogMS4wLCAicmFkaXVzIjogNCwgInN0cm9rZSI6IHRydWUsICJ3ZWlnaHQiOiAzfQogICAgICAgICAgICApLmFkZFRvKG1hcF9jMjFmYTE2MTM3ZDE0N2RiYTU5ZmZlYjIxMTk5Yzc3Zik7CiAgICAgICAgCiAgICAKICAgICAgICB2YXIgcG9wdXBfYTEyYTc5NTA3YjMyNDlkYjkwNDNmMzBiMjc2ZjFkNzMgPSBMLnBvcHVwKHsibWF4V2lkdGgiOiAiMTAwJSJ9KTsKCiAgICAgICAgCiAgICAgICAgICAgIHZhciBodG1sXzI0YmRmZTNjOTYzMjQyNzNhNjMxMDk2ZmNmY2M0OTQxID0gJChgPGRpdiBpZD0iaHRtbF8yNGJkZmUzYzk2MzI0MjczYTYzMTA5NmZjZmNjNDk0MSIgc3R5bGU9IndpZHRoOiAxMDAuMCU7IGhlaWdodDogMTAwLjAlOyI+RG93bnRvd24gVG9yb250bywgTTVHLCBDZW50cmFsIEJheSBTdHJlZXQ8L2Rpdj5gKVswXTsKICAgICAgICAgICAgcG9wdXBfYTEyYTc5NTA3YjMyNDlkYjkwNDNmMzBiMjc2ZjFkNzMuc2V0Q29udGVudChodG1sXzI0YmRmZTNjOTYzMjQyNzNhNjMxMDk2ZmNmY2M0OTQxKTsKICAgICAgICAKCiAgICAgICAgY2lyY2xlX21hcmtlcl9mMDBiMWMzNzg4Y2M0ZjNiYTkwYzU1ZTYwODMyOTc0NS5iaW5kUG9wdXAocG9wdXBfYTEyYTc5NTA3YjMyNDlkYjkwNDNmMzBiMjc2ZjFkNzMpCiAgICAgICAgOwoKICAgICAgICAKICAgIAogICAgCiAgICAgICAgICAgIHZhciBjaXJjbGVfbWFya2VyXzg2NmI5Mjk1MTY0YTQ4ZDc5MDNiOWVkZjE0MGIzNjZmID0gTC5jaXJjbGVNYXJrZXIoCiAgICAgICAgICAgICAgICBbNDMuNjY5NTQyLCAtNzkuNDIyNTYzN10sCiAgICAgICAgICAgICAgICB7ImJ1YmJsaW5nTW91c2VFdmVudHMiOiB0cnVlLCAiY29sb3IiOiAicmVkIiwgImRhc2hBcnJheSI6IG51bGwsICJkYXNoT2Zmc2V0IjogbnVsbCwgImZpbGwiOiB0cnVlLCAiZmlsbENvbG9yIjogIiMzMTg2Y2MiLCAiZmlsbE9wYWNpdHkiOiAwLjcsICJmaWxsUnVsZSI6ICJldmVub2RkIiwgImxpbmVDYXAiOiAicm91bmQiLCAibGluZUpvaW4iOiAicm91bmQiLCAib3BhY2l0eSI6IDEuMCwgInJhZGl1cyI6IDQsICJzdHJva2UiOiB0cnVlLCAid2VpZ2h0IjogM30KICAgICAgICAgICAgKS5hZGRUbyhtYXBfYzIxZmExNjEzN2QxNDdkYmE1OWZmZWIyMTE5OWM3N2YpOwogICAgICAgIAogICAgCiAgICAgICAgdmFyIHBvcHVwXzBjNmI5ODcyZmY3YjQ0M2Q4OTJhZjczNDcyYzg2ZTc1ID0gTC5wb3B1cCh7Im1heFdpZHRoIjogIjEwMCUifSk7CgogICAgICAgIAogICAgICAgICAgICB2YXIgaHRtbF82YWMyODc0NDNiNzk0YTYzYTljODI5YzM1NDY3OGNiYiA9ICQoYDxkaXYgaWQ9Imh0bWxfNmFjMjg3NDQzYjc5NGE2M2E5YzgyOWMzNTQ2NzhjYmIiIHN0eWxlPSJ3aWR0aDogMTAwLjAlOyBoZWlnaHQ6IDEwMC4wJTsiPkRvd250b3duIFRvcm9udG8sIE02RywgQ2hyaXN0aWU8L2Rpdj5gKVswXTsKICAgICAgICAgICAgcG9wdXBfMGM2Yjk4NzJmZjdiNDQzZDg5MmFmNzM0NzJjODZlNzUuc2V0Q29udGVudChodG1sXzZhYzI4NzQ0M2I3OTRhNjNhOWM4MjljMzU0Njc4Y2JiKTsKICAgICAgICAKCiAgICAgICAgY2lyY2xlX21hcmtlcl84NjZiOTI5NTE2NGE0OGQ3OTAzYjllZGYxNDBiMzY2Zi5iaW5kUG9wdXAocG9wdXBfMGM2Yjk4NzJmZjdiNDQzZDg5MmFmNzM0NzJjODZlNzUpCiAgICAgICAgOwoKICAgICAgICAKICAgIAogICAgCiAgICAgICAgICAgIHZhciBjaXJjbGVfbWFya2VyXzA2NTQyOWMyY2QyOTQxYzdiZDFiNTk2NWNlM2JkM2M4ID0gTC5jaXJjbGVNYXJrZXIoCiAgICAgICAgICAgICAgICBbNDMuNzczMTM2LCAtNzkuMjM5NDc2MDk5OTk5OTldLAogICAgICAgICAgICAgICAgeyJidWJibGluZ01vdXNlRXZlbnRzIjogdHJ1ZSwgImNvbG9yIjogInJlZCIsICJkYXNoQXJyYXkiOiBudWxsLCAiZGFzaE9mZnNldCI6IG51bGwsICJmaWxsIjogdHJ1ZSwgImZpbGxDb2xvciI6ICIjMzE4NmNjIiwgImZpbGxPcGFjaXR5IjogMC43LCAiZmlsbFJ1bGUiOiAiZXZlbm9kZCIsICJsaW5lQ2FwIjogInJvdW5kIiwgImxpbmVKb2luIjogInJvdW5kIiwgIm9wYWNpdHkiOiAxLjAsICJyYWRpdXMiOiA0LCAic3Ryb2tlIjogdHJ1ZSwgIndlaWdodCI6IDN9CiAgICAgICAgICAgICkuYWRkVG8obWFwX2MyMWZhMTYxMzdkMTQ3ZGJhNTlmZmViMjExOTljNzdmKTsKICAgICAgICAKICAgIAogICAgICAgIHZhciBwb3B1cF9jM2FkZTYwOTFiYTk0ZjhhYjA1OTRhMWRkYjE2ZTUyNCA9IEwucG9wdXAoeyJtYXhXaWR0aCI6ICIxMDAlIn0pOwoKICAgICAgICAKICAgICAgICAgICAgdmFyIGh0bWxfYTAwMDMzNTQ5MDVmNGUyNWE4ZTQyMGVlNTg5ODEzMDIgPSAkKGA8ZGl2IGlkPSJodG1sX2EwMDAzMzU0OTA1ZjRlMjVhOGU0MjBlZTU4OTgxMzAyIiBzdHlsZT0id2lkdGg6IDEwMC4wJTsgaGVpZ2h0OiAxMDAuMCU7Ij5TY2FyYm9yb3VnaCwgTTFILCBDZWRhcmJyYWU8L2Rpdj5gKVswXTsKICAgICAgICAgICAgcG9wdXBfYzNhZGU2MDkxYmE5NGY4YWIwNTk0YTFkZGIxNmU1MjQuc2V0Q29udGVudChodG1sX2EwMDAzMzU0OTA1ZjRlMjVhOGU0MjBlZTU4OTgxMzAyKTsKICAgICAgICAKCiAgICAgICAgY2lyY2xlX21hcmtlcl8wNjU0MjljMmNkMjk0MWM3YmQxYjU5NjVjZTNiZDNjOC5iaW5kUG9wdXAocG9wdXBfYzNhZGU2MDkxYmE5NGY4YWIwNTk0YTFkZGIxNmU1MjQpCiAgICAgICAgOwoKICAgICAgICAKICAgIAogICAgCiAgICAgICAgICAgIHZhciBjaXJjbGVfbWFya2VyX2M5ZTdjMDRjNmM5YzRmZWFiM2E0ZTgyYjA0ZGYxYjA3ID0gTC5jaXJjbGVNYXJrZXIoCiAgICAgICAgICAgICAgICBbNDMuODAzNzYyMiwgLTc5LjM2MzQ1MTddLAogICAgICAgICAgICAgICAgeyJidWJibGluZ01vdXNlRXZlbnRzIjogdHJ1ZSwgImNvbG9yIjogInJlZCIsICJkYXNoQXJyYXkiOiBudWxsLCAiZGFzaE9mZnNldCI6IG51bGwsICJmaWxsIjogdHJ1ZSwgImZpbGxDb2xvciI6ICIjMzE4NmNjIiwgImZpbGxPcGFjaXR5IjogMC43LCAiZmlsbFJ1bGUiOiAiZXZlbm9kZCIsICJsaW5lQ2FwIjogInJvdW5kIiwgImxpbmVKb2luIjogInJvdW5kIiwgIm9wYWNpdHkiOiAxLjAsICJyYWRpdXMiOiA0LCAic3Ryb2tlIjogdHJ1ZSwgIndlaWdodCI6IDN9CiAgICAgICAgICAgICkuYWRkVG8obWFwX2MyMWZhMTYxMzdkMTQ3ZGJhNTlmZmViMjExOTljNzdmKTsKICAgICAgICAKICAgIAogICAgICAgIHZhciBwb3B1cF83NTM5YzJiNDM4MzE0OGNlOWM4M2VlNDI5NjIxY2ZkMyA9IEwucG9wdXAoeyJtYXhXaWR0aCI6ICIxMDAlIn0pOwoKICAgICAgICAKICAgICAgICAgICAgdmFyIGh0bWxfZmIwOTM5NTE4NzkyNDc3MTllMzQ3YjBjY2JjYjBkOWQgPSAkKGA8ZGl2IGlkPSJodG1sX2ZiMDkzOTUxODc5MjQ3NzE5ZTM0N2IwY2NiY2IwZDlkIiBzdHlsZT0id2lkdGg6IDEwMC4wJTsgaGVpZ2h0OiAxMDAuMCU7Ij5Ob3J0aCBZb3JrLCBNMkgsIEhpbGxjcmVzdCBWaWxsYWdlPC9kaXY+YClbMF07CiAgICAgICAgICAgIHBvcHVwXzc1MzljMmI0MzgzMTQ4Y2U5YzgzZWU0Mjk2MjFjZmQzLnNldENvbnRlbnQoaHRtbF9mYjA5Mzk1MTg3OTI0NzcxOWUzNDdiMGNjYmNiMGQ5ZCk7CiAgICAgICAgCgogICAgICAgIGNpcmNsZV9tYXJrZXJfYzllN2MwNGM2YzljNGZlYWIzYTRlODJiMDRkZjFiMDcuYmluZFBvcHVwKHBvcHVwXzc1MzljMmI0MzgzMTQ4Y2U5YzgzZWU0Mjk2MjFjZmQzKQogICAgICAgIDsKCiAgICAgICAgCiAgICAKICAgIAogICAgICAgICAgICB2YXIgY2lyY2xlX21hcmtlcl83ODQ2ZjM2NDJhNjU0NDBhOWYzNWQxNjQ3MjdiOTY5NCA9IEwuY2lyY2xlTWFya2VyKAogICAgICAgICAgICAgICAgWzQzLjc1NDMyODMsIC03OS40NDIyNTkzXSwKICAgICAgICAgICAgICAgIHsiYnViYmxpbmdNb3VzZUV2ZW50cyI6IHRydWUsICJjb2xvciI6ICJyZWQiLCAiZGFzaEFycmF5IjogbnVsbCwgImRhc2hPZmZzZXQiOiBudWxsLCAiZmlsbCI6IHRydWUsICJmaWxsQ29sb3IiOiAiIzMxODZjYyIsICJmaWxsT3BhY2l0eSI6IDAuNywgImZpbGxSdWxlIjogImV2ZW5vZGQiLCAibGluZUNhcCI6ICJyb3VuZCIsICJsaW5lSm9pbiI6ICJyb3VuZCIsICJvcGFjaXR5IjogMS4wLCAicmFkaXVzIjogNCwgInN0cm9rZSI6IHRydWUsICJ3ZWlnaHQiOiAzfQogICAgICAgICAgICApLmFkZFRvKG1hcF9jMjFmYTE2MTM3ZDE0N2RiYTU5ZmZlYjIxMTk5Yzc3Zik7CiAgICAgICAgCiAgICAKICAgICAgICB2YXIgcG9wdXBfMDJlM2VjYWU0NGQxNDBhODljYTVmM2ZiMjRiNTQ4MDAgPSBMLnBvcHVwKHsibWF4V2lkdGgiOiAiMTAwJSJ9KTsKCiAgICAgICAgCiAgICAgICAgICAgIHZhciBodG1sXzBhYzFiZTdkYzIxODRmNmE5MDRjMzUwYjhmYmNlYTg4ID0gJChgPGRpdiBpZD0iaHRtbF8wYWMxYmU3ZGMyMTg0ZjZhOTA0YzM1MGI4ZmJjZWE4OCIgc3R5bGU9IndpZHRoOiAxMDAuMCU7IGhlaWdodDogMTAwLjAlOyI+Tm9ydGggWW9yaywgTTNILCBCYXRodXJzdCBNYW5vciAvIFdpbHNvbiBIZWlnaHRzIC8gRG93bnN2aWV3IE5vcnRoPC9kaXY+YClbMF07CiAgICAgICAgICAgIHBvcHVwXzAyZTNlY2FlNDRkMTQwYTg5Y2E1ZjNmYjI0YjU0ODAwLnNldENvbnRlbnQoaHRtbF8wYWMxYmU3ZGMyMTg0ZjZhOTA0YzM1MGI4ZmJjZWE4OCk7CiAgICAgICAgCgogICAgICAgIGNpcmNsZV9tYXJrZXJfNzg0NmYzNjQyYTY1NDQwYTlmMzVkMTY0NzI3Yjk2OTQuYmluZFBvcHVwKHBvcHVwXzAyZTNlY2FlNDRkMTQwYTg5Y2E1ZjNmYjI0YjU0ODAwKQogICAgICAgIDsKCiAgICAgICAgCiAgICAKICAgIAogICAgICAgICAgICB2YXIgY2lyY2xlX21hcmtlcl8wMTgxMzMzYjg4YWY0ZGZiYWQ1YTU2YTEzMmVjN2Q3MyA9IEwuY2lyY2xlTWFya2VyKAogICAgICAgICAgICAgICAgWzQzLjcwNTM2ODksIC03OS4zNDkzNzE5MDAwMDAwMV0sCiAgICAgICAgICAgICAgICB7ImJ1YmJsaW5nTW91c2VFdmVudHMiOiB0cnVlLCAiY29sb3IiOiAicmVkIiwgImRhc2hBcnJheSI6IG51bGwsICJkYXNoT2Zmc2V0IjogbnVsbCwgImZpbGwiOiB0cnVlLCAiZmlsbENvbG9yIjogIiMzMTg2Y2MiLCAiZmlsbE9wYWNpdHkiOiAwLjcsICJmaWxsUnVsZSI6ICJldmVub2RkIiwgImxpbmVDYXAiOiAicm91bmQiLCAibGluZUpvaW4iOiAicm91bmQiLCAib3BhY2l0eSI6IDEuMCwgInJhZGl1cyI6IDQsICJzdHJva2UiOiB0cnVlLCAid2VpZ2h0IjogM30KICAgICAgICAgICAgKS5hZGRUbyhtYXBfYzIxZmExNjEzN2QxNDdkYmE1OWZmZWIyMTE5OWM3N2YpOwogICAgICAgIAogICAgCiAgICAgICAgdmFyIHBvcHVwX2JjYzY3MjRhZjFmNDRlYWJiMTQyMzI0YWFiM2VmMGQ2ID0gTC5wb3B1cCh7Im1heFdpZHRoIjogIjEwMCUifSk7CgogICAgICAgIAogICAgICAgICAgICB2YXIgaHRtbF8zZTI3NzZkMWI5OGY0YjAyOTAzNTVmMTU5NTQ5ZDIzNyA9ICQoYDxkaXYgaWQ9Imh0bWxfM2UyNzc2ZDFiOThmNGIwMjkwMzU1ZjE1OTU0OWQyMzciIHN0eWxlPSJ3aWR0aDogMTAwLjAlOyBoZWlnaHQ6IDEwMC4wJTsiPkVhc3QgWW9yaywgTTRILCBUaG9ybmNsaWZmZSBQYXJrPC9kaXY+YClbMF07CiAgICAgICAgICAgIHBvcHVwX2JjYzY3MjRhZjFmNDRlYWJiMTQyMzI0YWFiM2VmMGQ2LnNldENvbnRlbnQoaHRtbF8zZTI3NzZkMWI5OGY0YjAyOTAzNTVmMTU5NTQ5ZDIzNyk7CiAgICAgICAgCgogICAgICAgIGNpcmNsZV9tYXJrZXJfMDE4MTMzM2I4OGFmNGRmYmFkNWE1NmExMzJlYzdkNzMuYmluZFBvcHVwKHBvcHVwX2JjYzY3MjRhZjFmNDRlYWJiMTQyMzI0YWFiM2VmMGQ2KQogICAgICAgIDsKCiAgICAgICAgCiAgICAKICAgIAogICAgICAgICAgICB2YXIgY2lyY2xlX21hcmtlcl83MDdjODI4Yjg4YmE0NDRmOWVmYmZiY2QwMDI5MmMyMyA9IEwuY2lyY2xlTWFya2VyKAogICAgICAgICAgICAgICAgWzQzLjY1MDU3MTIwMDAwMDAxLCAtNzkuMzg0NTY3NV0sCiAgICAgICAgICAgICAgICB7ImJ1YmJsaW5nTW91c2VFdmVudHMiOiB0cnVlLCAiY29sb3IiOiAicmVkIiwgImRhc2hBcnJheSI6IG51bGwsICJkYXNoT2Zmc2V0IjogbnVsbCwgImZpbGwiOiB0cnVlLCAiZmlsbENvbG9yIjogIiMzMTg2Y2MiLCAiZmlsbE9wYWNpdHkiOiAwLjcsICJmaWxsUnVsZSI6ICJldmVub2RkIiwgImxpbmVDYXAiOiAicm91bmQiLCAibGluZUpvaW4iOiAicm91bmQiLCAib3BhY2l0eSI6IDEuMCwgInJhZGl1cyI6IDQsICJzdHJva2UiOiB0cnVlLCAid2VpZ2h0IjogM30KICAgICAgICAgICAgKS5hZGRUbyhtYXBfYzIxZmExNjEzN2QxNDdkYmE1OWZmZWIyMTE5OWM3N2YpOwogICAgICAgIAogICAgCiAgICAgICAgdmFyIHBvcHVwXzJkNDQwMTViZWI2YTRlNDE5Mzk5NzQwZTJmNzAyOGI1ID0gTC5wb3B1cCh7Im1heFdpZHRoIjogIjEwMCUifSk7CgogICAgICAgIAogICAgICAgICAgICB2YXIgaHRtbF82OTQ2NjA3MGYzZjE0YTZmOGQ0YjZhNDA3Y2Q4ZTg1YyA9ICQoYDxkaXYgaWQ9Imh0bWxfNjk0NjYwNzBmM2YxNGE2ZjhkNGI2YTQwN2NkOGU4NWMiIHN0eWxlPSJ3aWR0aDogMTAwLjAlOyBoZWlnaHQ6IDEwMC4wJTsiPkRvd250b3duIFRvcm9udG8sIE01SCwgUmljaG1vbmQgLyBBZGVsYWlkZSAvIEtpbmc8L2Rpdj5gKVswXTsKICAgICAgICAgICAgcG9wdXBfMmQ0NDAxNWJlYjZhNGU0MTkzOTk3NDBlMmY3MDI4YjUuc2V0Q29udGVudChodG1sXzY5NDY2MDcwZjNmMTRhNmY4ZDRiNmE0MDdjZDhlODVjKTsKICAgICAgICAKCiAgICAgICAgY2lyY2xlX21hcmtlcl83MDdjODI4Yjg4YmE0NDRmOWVmYmZiY2QwMDI5MmMyMy5iaW5kUG9wdXAocG9wdXBfMmQ0NDAxNWJlYjZhNGU0MTkzOTk3NDBlMmY3MDI4YjUpCiAgICAgICAgOwoKICAgICAgICAKICAgIAogICAgCiAgICAgICAgICAgIHZhciBjaXJjbGVfbWFya2VyX2VhYmJhODBlMTE2YjQwZjA5NzEwYTZhYzY1NmY2Yjg2ID0gTC5jaXJjbGVNYXJrZXIoCiAgICAgICAgICAgICAgICBbNDMuNjY5MDA1MTAwMDAwMDEsIC03OS40NDIyNTkzXSwKICAgICAgICAgICAgICAgIHsiYnViYmxpbmdNb3VzZUV2ZW50cyI6IHRydWUsICJjb2xvciI6ICJyZWQiLCAiZGFzaEFycmF5IjogbnVsbCwgImRhc2hPZmZzZXQiOiBudWxsLCAiZmlsbCI6IHRydWUsICJmaWxsQ29sb3IiOiAiIzMxODZjYyIsICJmaWxsT3BhY2l0eSI6IDAuNywgImZpbGxSdWxlIjogImV2ZW5vZGQiLCAibGluZUNhcCI6ICJyb3VuZCIsICJsaW5lSm9pbiI6ICJyb3VuZCIsICJvcGFjaXR5IjogMS4wLCAicmFkaXVzIjogNCwgInN0cm9rZSI6IHRydWUsICJ3ZWlnaHQiOiAzfQogICAgICAgICAgICApLmFkZFRvKG1hcF9jMjFmYTE2MTM3ZDE0N2RiYTU5ZmZlYjIxMTk5Yzc3Zik7CiAgICAgICAgCiAgICAKICAgICAgICB2YXIgcG9wdXBfYzg4NzMxMGQxMGZlNDc5ZmEwMzkyMzU1YzA5MTMzZDEgPSBMLnBvcHVwKHsibWF4V2lkdGgiOiAiMTAwJSJ9KTsKCiAgICAgICAgCiAgICAgICAgICAgIHZhciBodG1sXzUyNzBjNDhjYjM3ZTQ0NDlhM2UzMmUwOTNlOTQ1NWNiID0gJChgPGRpdiBpZD0iaHRtbF81MjcwYzQ4Y2IzN2U0NDQ5YTNlMzJlMDkzZTk0NTVjYiIgc3R5bGU9IndpZHRoOiAxMDAuMCU7IGhlaWdodDogMTAwLjAlOyI+V2VzdCBUb3JvbnRvLCBNNkgsIER1ZmZlcmluIC8gRG92ZXJjb3VydCBWaWxsYWdlPC9kaXY+YClbMF07CiAgICAgICAgICAgIHBvcHVwX2M4ODczMTBkMTBmZTQ3OWZhMDM5MjM1NWMwOTEzM2QxLnNldENvbnRlbnQoaHRtbF81MjcwYzQ4Y2IzN2U0NDQ5YTNlMzJlMDkzZTk0NTVjYik7CiAgICAgICAgCgogICAgICAgIGNpcmNsZV9tYXJrZXJfZWFiYmE4MGUxMTZiNDBmMDk3MTBhNmFjNjU2ZjZiODYuYmluZFBvcHVwKHBvcHVwX2M4ODczMTBkMTBmZTQ3OWZhMDM5MjM1NWMwOTEzM2QxKQogICAgICAgIDsKCiAgICAgICAgCiAgICAKICAgIAogICAgICAgICAgICB2YXIgY2lyY2xlX21hcmtlcl8yN2IwM2RjOGIzNWE0NmMxYjYzNmNmNWEzYjVkNzBhNiA9IEwuY2lyY2xlTWFya2VyKAogICAgICAgICAgICAgICAgWzQzLjc0NDczNDIsIC03OS4yMzk0NzYwOTk5OTk5OV0sCiAgICAgICAgICAgICAgICB7ImJ1YmJsaW5nTW91c2VFdmVudHMiOiB0cnVlLCAiY29sb3IiOiAicmVkIiwgImRhc2hBcnJheSI6IG51bGwsICJkYXNoT2Zmc2V0IjogbnVsbCwgImZpbGwiOiB0cnVlLCAiZmlsbENvbG9yIjogIiMzMTg2Y2MiLCAiZmlsbE9wYWNpdHkiOiAwLjcsICJmaWxsUnVsZSI6ICJldmVub2RkIiwgImxpbmVDYXAiOiAicm91bmQiLCAibGluZUpvaW4iOiAicm91bmQiLCAib3BhY2l0eSI6IDEuMCwgInJhZGl1cyI6IDQsICJzdHJva2UiOiB0cnVlLCAid2VpZ2h0IjogM30KICAgICAgICAgICAgKS5hZGRUbyhtYXBfYzIxZmExNjEzN2QxNDdkYmE1OWZmZWIyMTE5OWM3N2YpOwogICAgICAgIAogICAgCiAgICAgICAgdmFyIHBvcHVwX2IwMzQxNzdhNzQ5ODQ5ODM5MjdlMjhmYThmYzg1OWQwID0gTC5wb3B1cCh7Im1heFdpZHRoIjogIjEwMCUifSk7CgogICAgICAgIAogICAgICAgICAgICB2YXIgaHRtbF81MDBlYmFmMTdkNDY0MTI3OTZmODNjNjkzMDdiODc0MSA9ICQoYDxkaXYgaWQ9Imh0bWxfNTAwZWJhZjE3ZDQ2NDEyNzk2ZjgzYzY5MzA3Yjg3NDEiIHN0eWxlPSJ3aWR0aDogMTAwLjAlOyBoZWlnaHQ6IDEwMC4wJTsiPlNjYXJib3JvdWdoLCBNMUosIFNjYXJib3JvdWdoIFZpbGxhZ2U8L2Rpdj5gKVswXTsKICAgICAgICAgICAgcG9wdXBfYjAzNDE3N2E3NDk4NDk4MzkyN2UyOGZhOGZjODU5ZDAuc2V0Q29udGVudChodG1sXzUwMGViYWYxN2Q0NjQxMjc5NmY4M2M2OTMwN2I4NzQxKTsKICAgICAgICAKCiAgICAgICAgY2lyY2xlX21hcmtlcl8yN2IwM2RjOGIzNWE0NmMxYjYzNmNmNWEzYjVkNzBhNi5iaW5kUG9wdXAocG9wdXBfYjAzNDE3N2E3NDk4NDk4MzkyN2UyOGZhOGZjODU5ZDApCiAgICAgICAgOwoKICAgICAgICAKICAgIAogICAgCiAgICAgICAgICAgIHZhciBjaXJjbGVfbWFya2VyXzU1NThlNDMxZjhlNzRjZmE5NDgwNTliMjU3YzcyNjhjID0gTC5jaXJjbGVNYXJrZXIoCiAgICAgICAgICAgICAgICBbNDMuNzc4NTE3NSwgLTc5LjM0NjU1NTddLAogICAgICAgICAgICAgICAgeyJidWJibGluZ01vdXNlRXZlbnRzIjogdHJ1ZSwgImNvbG9yIjogInJlZCIsICJkYXNoQXJyYXkiOiBudWxsLCAiZGFzaE9mZnNldCI6IG51bGwsICJmaWxsIjogdHJ1ZSwgImZpbGxDb2xvciI6ICIjMzE4NmNjIiwgImZpbGxPcGFjaXR5IjogMC43LCAiZmlsbFJ1bGUiOiAiZXZlbm9kZCIsICJsaW5lQ2FwIjogInJvdW5kIiwgImxpbmVKb2luIjogInJvdW5kIiwgIm9wYWNpdHkiOiAxLjAsICJyYWRpdXMiOiA0LCAic3Ryb2tlIjogdHJ1ZSwgIndlaWdodCI6IDN9CiAgICAgICAgICAgICkuYWRkVG8obWFwX2MyMWZhMTYxMzdkMTQ3ZGJhNTlmZmViMjExOTljNzdmKTsKICAgICAgICAKICAgIAogICAgICAgIHZhciBwb3B1cF85Yzc4ZmY4YWNkZTQ0NDhkOGQ2NzIyZmI1YjVmZTg0YiA9IEwucG9wdXAoeyJtYXhXaWR0aCI6ICIxMDAlIn0pOwoKICAgICAgICAKICAgICAgICAgICAgdmFyIGh0bWxfMWE2OGY1OTIwZGUxNGViYThlZWNhYjk0MmNlNWMyNjggPSAkKGA8ZGl2IGlkPSJodG1sXzFhNjhmNTkyMGRlMTRlYmE4ZWVjYWI5NDJjZTVjMjY4IiBzdHlsZT0id2lkdGg6IDEwMC4wJTsgaGVpZ2h0OiAxMDAuMCU7Ij5Ob3J0aCBZb3JrLCBNMkosIEZhaXJ2aWV3IC8gSGVucnkgRmFybSAvIE9yaW9sZTwvZGl2PmApWzBdOwogICAgICAgICAgICBwb3B1cF85Yzc4ZmY4YWNkZTQ0NDhkOGQ2NzIyZmI1YjVmZTg0Yi5zZXRDb250ZW50KGh0bWxfMWE2OGY1OTIwZGUxNGViYThlZWNhYjk0MmNlNWMyNjgpOwogICAgICAgIAoKICAgICAgICBjaXJjbGVfbWFya2VyXzU1NThlNDMxZjhlNzRjZmE5NDgwNTliMjU3YzcyNjhjLmJpbmRQb3B1cChwb3B1cF85Yzc4ZmY4YWNkZTQ0NDhkOGQ2NzIyZmI1YjVmZTg0YikKICAgICAgICA7CgogICAgICAgIAogICAgCiAgICAKICAgICAgICAgICAgdmFyIGNpcmNsZV9tYXJrZXJfNGYxZTgyMWUxNWRhNDdmNWJlOTkwZjM1OTE1NzI2ZDggPSBMLmNpcmNsZU1hcmtlcigKICAgICAgICAgICAgICAgIFs0My43Njc5ODAzLCAtNzkuNDg3MjYxOTAwMDAwMDFdLAogICAgICAgICAgICAgICAgeyJidWJibGluZ01vdXNlRXZlbnRzIjogdHJ1ZSwgImNvbG9yIjogInJlZCIsICJkYXNoQXJyYXkiOiBudWxsLCAiZGFzaE9mZnNldCI6IG51bGwsICJmaWxsIjogdHJ1ZSwgImZpbGxDb2xvciI6ICIjMzE4NmNjIiwgImZpbGxPcGFjaXR5IjogMC43LCAiZmlsbFJ1bGUiOiAiZXZlbm9kZCIsICJsaW5lQ2FwIjogInJvdW5kIiwgImxpbmVKb2luIjogInJvdW5kIiwgIm9wYWNpdHkiOiAxLjAsICJyYWRpdXMiOiA0LCAic3Ryb2tlIjogdHJ1ZSwgIndlaWdodCI6IDN9CiAgICAgICAgICAgICkuYWRkVG8obWFwX2MyMWZhMTYxMzdkMTQ3ZGJhNTlmZmViMjExOTljNzdmKTsKICAgICAgICAKICAgIAogICAgICAgIHZhciBwb3B1cF9hNDI2YzhlZTYyNTk0MDZmYjRjMDM5NWRiZTMxZDkyMyA9IEwucG9wdXAoeyJtYXhXaWR0aCI6ICIxMDAlIn0pOwoKICAgICAgICAKICAgICAgICAgICAgdmFyIGh0bWxfY2Y4YWU0NzNiZjc2NDYwOThkMjQyNjU0ZTEwNmIwNjUgPSAkKGA8ZGl2IGlkPSJodG1sX2NmOGFlNDczYmY3NjQ2MDk4ZDI0MjY1NGUxMDZiMDY1IiBzdHlsZT0id2lkdGg6IDEwMC4wJTsgaGVpZ2h0OiAxMDAuMCU7Ij5Ob3J0aCBZb3JrLCBNM0osIE5vcnRod29vZCBQYXJrIC8gWW9yayBVbml2ZXJzaXR5PC9kaXY+YClbMF07CiAgICAgICAgICAgIHBvcHVwX2E0MjZjOGVlNjI1OTQwNmZiNGMwMzk1ZGJlMzFkOTIzLnNldENvbnRlbnQoaHRtbF9jZjhhZTQ3M2JmNzY0NjA5OGQyNDI2NTRlMTA2YjA2NSk7CiAgICAgICAgCgogICAgICAgIGNpcmNsZV9tYXJrZXJfNGYxZTgyMWUxNWRhNDdmNWJlOTkwZjM1OTE1NzI2ZDguYmluZFBvcHVwKHBvcHVwX2E0MjZjOGVlNjI1OTQwNmZiNGMwMzk1ZGJlMzFkOTIzKQogICAgICAgIDsKCiAgICAgICAgCiAgICAKICAgIAogICAgICAgICAgICB2YXIgY2lyY2xlX21hcmtlcl9jMWY0NTA0MzkxYjA0YjU1OTM2MWY5OTU5NzBhZTc4MyA9IEwuY2lyY2xlTWFya2VyKAogICAgICAgICAgICAgICAgWzQzLjY4NTM0NywgLTc5LjMzODEwNjVdLAogICAgICAgICAgICAgICAgeyJidWJibGluZ01vdXNlRXZlbnRzIjogdHJ1ZSwgImNvbG9yIjogInJlZCIsICJkYXNoQXJyYXkiOiBudWxsLCAiZGFzaE9mZnNldCI6IG51bGwsICJmaWxsIjogdHJ1ZSwgImZpbGxDb2xvciI6ICIjMzE4NmNjIiwgImZpbGxPcGFjaXR5IjogMC43LCAiZmlsbFJ1bGUiOiAiZXZlbm9kZCIsICJsaW5lQ2FwIjogInJvdW5kIiwgImxpbmVKb2luIjogInJvdW5kIiwgIm9wYWNpdHkiOiAxLjAsICJyYWRpdXMiOiA0LCAic3Ryb2tlIjogdHJ1ZSwgIndlaWdodCI6IDN9CiAgICAgICAgICAgICkuYWRkVG8obWFwX2MyMWZhMTYxMzdkMTQ3ZGJhNTlmZmViMjExOTljNzdmKTsKICAgICAgICAKICAgIAogICAgICAgIHZhciBwb3B1cF9lMDkzNGVmOTJhM2E0NTM5OTQ1OTNlZTVjZmJlMzk4MSA9IEwucG9wdXAoeyJtYXhXaWR0aCI6ICIxMDAlIn0pOwoKICAgICAgICAKICAgICAgICAgICAgdmFyIGh0bWxfZjU2MDk3NDQzYWJhNDI0OWJlODE1YWI4NDllMmFkN2UgPSAkKGA8ZGl2IGlkPSJodG1sX2Y1NjA5NzQ0M2FiYTQyNDliZTgxNWFiODQ5ZTJhZDdlIiBzdHlsZT0id2lkdGg6IDEwMC4wJTsgaGVpZ2h0OiAxMDAuMCU7Ij5FYXN0IFlvcmssIE00SiwgRWFzdCBUb3JvbnRvPC9kaXY+YClbMF07CiAgICAgICAgICAgIHBvcHVwX2UwOTM0ZWY5MmEzYTQ1Mzk5NDU5M2VlNWNmYmUzOTgxLnNldENvbnRlbnQoaHRtbF9mNTYwOTc0NDNhYmE0MjQ5YmU4MTVhYjg0OWUyYWQ3ZSk7CiAgICAgICAgCgogICAgICAgIGNpcmNsZV9tYXJrZXJfYzFmNDUwNDM5MWIwNGI1NTkzNjFmOTk1OTcwYWU3ODMuYmluZFBvcHVwKHBvcHVwX2UwOTM0ZWY5MmEzYTQ1Mzk5NDU5M2VlNWNmYmUzOTgxKQogICAgICAgIDsKCiAgICAgICAgCiAgICAKICAgIAogICAgICAgICAgICB2YXIgY2lyY2xlX21hcmtlcl8zMmU0MmVjZWMwN2Y0MjA5YWExODY3MDFhMTIzODlmOCA9IEwuY2lyY2xlTWFya2VyKAogICAgICAgICAgICAgICAgWzQzLjY0MDgxNTcsIC03OS4zODE3NTIyOTk5OTk5OV0sCiAgICAgICAgICAgICAgICB7ImJ1YmJsaW5nTW91c2VFdmVudHMiOiB0cnVlLCAiY29sb3IiOiAicmVkIiwgImRhc2hBcnJheSI6IG51bGwsICJkYXNoT2Zmc2V0IjogbnVsbCwgImZpbGwiOiB0cnVlLCAiZmlsbENvbG9yIjogIiMzMTg2Y2MiLCAiZmlsbE9wYWNpdHkiOiAwLjcsICJmaWxsUnVsZSI6ICJldmVub2RkIiwgImxpbmVDYXAiOiAicm91bmQiLCAibGluZUpvaW4iOiAicm91bmQiLCAib3BhY2l0eSI6IDEuMCwgInJhZGl1cyI6IDQsICJzdHJva2UiOiB0cnVlLCAid2VpZ2h0IjogM30KICAgICAgICAgICAgKS5hZGRUbyhtYXBfYzIxZmExNjEzN2QxNDdkYmE1OWZmZWIyMTE5OWM3N2YpOwogICAgICAgIAogICAgCiAgICAgICAgdmFyIHBvcHVwXzg0MmEyZGZkMjU0ZTQ3NTM4OWI2ZDlhMmYzNTFmOWMwID0gTC5wb3B1cCh7Im1heFdpZHRoIjogIjEwMCUifSk7CgogICAgICAgIAogICAgICAgICAgICB2YXIgaHRtbF9iNDdlNjk4MmI3OWM0YTRjYTE4N2YwMjNlNjk1YTBjMCA9ICQoYDxkaXYgaWQ9Imh0bWxfYjQ3ZTY5ODJiNzljNGE0Y2ExODdmMDIzZTY5NWEwYzAiIHN0eWxlPSJ3aWR0aDogMTAwLjAlOyBoZWlnaHQ6IDEwMC4wJTsiPkRvd250b3duIFRvcm9udG8sIE01SiwgSGFyYm91cmZyb250IEVhc3QgLyBVbmlvbiBTdGF0aW9uIC8gVG9yb250byBJc2xhbmRzPC9kaXY+YClbMF07CiAgICAgICAgICAgIHBvcHVwXzg0MmEyZGZkMjU0ZTQ3NTM4OWI2ZDlhMmYzNTFmOWMwLnNldENvbnRlbnQoaHRtbF9iNDdlNjk4MmI3OWM0YTRjYTE4N2YwMjNlNjk1YTBjMCk7CiAgICAgICAgCgogICAgICAgIGNpcmNsZV9tYXJrZXJfMzJlNDJlY2VjMDdmNDIwOWFhMTg2NzAxYTEyMzg5ZjguYmluZFBvcHVwKHBvcHVwXzg0MmEyZGZkMjU0ZTQ3NTM4OWI2ZDlhMmYzNTFmOWMwKQogICAgICAgIDsKCiAgICAgICAgCiAgICAKICAgIAogICAgICAgICAgICB2YXIgY2lyY2xlX21hcmtlcl85MjMwMTg1ODFlNmE0MGYwODg3M2ViZDNkYTVlY2ZhMSA9IEwuY2lyY2xlTWFya2VyKAogICAgICAgICAgICAgICAgWzQzLjY0NzkyNjcwMDAwMDAwNiwgLTc5LjQxOTc0OTddLAogICAgICAgICAgICAgICAgeyJidWJibGluZ01vdXNlRXZlbnRzIjogdHJ1ZSwgImNvbG9yIjogInJlZCIsICJkYXNoQXJyYXkiOiBudWxsLCAiZGFzaE9mZnNldCI6IG51bGwsICJmaWxsIjogdHJ1ZSwgImZpbGxDb2xvciI6ICIjMzE4NmNjIiwgImZpbGxPcGFjaXR5IjogMC43LCAiZmlsbFJ1bGUiOiAiZXZlbm9kZCIsICJsaW5lQ2FwIjogInJvdW5kIiwgImxpbmVKb2luIjogInJvdW5kIiwgIm9wYWNpdHkiOiAxLjAsICJyYWRpdXMiOiA0LCAic3Ryb2tlIjogdHJ1ZSwgIndlaWdodCI6IDN9CiAgICAgICAgICAgICkuYWRkVG8obWFwX2MyMWZhMTYxMzdkMTQ3ZGJhNTlmZmViMjExOTljNzdmKTsKICAgICAgICAKICAgIAogICAgICAgIHZhciBwb3B1cF85NWNkYjk0ZmIzYzY0NDgxYjlhZDc0ZWVjZTJjOGM3MyA9IEwucG9wdXAoeyJtYXhXaWR0aCI6ICIxMDAlIn0pOwoKICAgICAgICAKICAgICAgICAgICAgdmFyIGh0bWxfNzRlZmNkNTU5MzE5NGRlNzg3MWEzNzkzZTdjNzQ0NzQgPSAkKGA8ZGl2IGlkPSJodG1sXzc0ZWZjZDU1OTMxOTRkZTc4NzFhMzc5M2U3Yzc0NDc0IiBzdHlsZT0id2lkdGg6IDEwMC4wJTsgaGVpZ2h0OiAxMDAuMCU7Ij5XZXN0IFRvcm9udG8sIE02SiwgTGl0dGxlIFBvcnR1Z2FsIC8gVHJpbml0eTwvZGl2PmApWzBdOwogICAgICAgICAgICBwb3B1cF85NWNkYjk0ZmIzYzY0NDgxYjlhZDc0ZWVjZTJjOGM3My5zZXRDb250ZW50KGh0bWxfNzRlZmNkNTU5MzE5NGRlNzg3MWEzNzkzZTdjNzQ0NzQpOwogICAgICAgIAoKICAgICAgICBjaXJjbGVfbWFya2VyXzkyMzAxODU4MWU2YTQwZjA4ODczZWJkM2RhNWVjZmExLmJpbmRQb3B1cChwb3B1cF85NWNkYjk0ZmIzYzY0NDgxYjlhZDc0ZWVjZTJjOGM3MykKICAgICAgICA7CgogICAgICAgIAogICAgCiAgICAKICAgICAgICAgICAgdmFyIGNpcmNsZV9tYXJrZXJfZTk4NTNmMDgxNjdiNDIyMjk4MTkzYzhlMGVlNWM3M2UgPSBMLmNpcmNsZU1hcmtlcigKICAgICAgICAgICAgICAgIFs0My43Mjc5MjkyLCAtNzkuMjYyMDI5NDAwMDAwMDJdLAogICAgICAgICAgICAgICAgeyJidWJibGluZ01vdXNlRXZlbnRzIjogdHJ1ZSwgImNvbG9yIjogInJlZCIsICJkYXNoQXJyYXkiOiBudWxsLCAiZGFzaE9mZnNldCI6IG51bGwsICJmaWxsIjogdHJ1ZSwgImZpbGxDb2xvciI6ICIjMzE4NmNjIiwgImZpbGxPcGFjaXR5IjogMC43LCAiZmlsbFJ1bGUiOiAiZXZlbm9kZCIsICJsaW5lQ2FwIjogInJvdW5kIiwgImxpbmVKb2luIjogInJvdW5kIiwgIm9wYWNpdHkiOiAxLjAsICJyYWRpdXMiOiA0LCAic3Ryb2tlIjogdHJ1ZSwgIndlaWdodCI6IDN9CiAgICAgICAgICAgICkuYWRkVG8obWFwX2MyMWZhMTYxMzdkMTQ3ZGJhNTlmZmViMjExOTljNzdmKTsKICAgICAgICAKICAgIAogICAgICAgIHZhciBwb3B1cF8yZDIyY2M1NjkyYzg0YjMyOWUwNWY1NTk5OGE2OWVhZCA9IEwucG9wdXAoeyJtYXhXaWR0aCI6ICIxMDAlIn0pOwoKICAgICAgICAKICAgICAgICAgICAgdmFyIGh0bWxfMWRkYzdmOTQxODMwNDQ1NmIyMzU5MzdiYTQxZjVlODkgPSAkKGA8ZGl2IGlkPSJodG1sXzFkZGM3Zjk0MTgzMDQ0NTZiMjM1OTM3YmE0MWY1ZTg5IiBzdHlsZT0id2lkdGg6IDEwMC4wJTsgaGVpZ2h0OiAxMDAuMCU7Ij5TY2FyYm9yb3VnaCwgTTFLLCBLZW5uZWR5IFBhcmsgLyBJb252aWV3IC8gRWFzdCBCaXJjaG1vdW50IFBhcms8L2Rpdj5gKVswXTsKICAgICAgICAgICAgcG9wdXBfMmQyMmNjNTY5MmM4NGIzMjllMDVmNTU5OThhNjllYWQuc2V0Q29udGVudChodG1sXzFkZGM3Zjk0MTgzMDQ0NTZiMjM1OTM3YmE0MWY1ZTg5KTsKICAgICAgICAKCiAgICAgICAgY2lyY2xlX21hcmtlcl9lOTg1M2YwODE2N2I0MjIyOTgxOTNjOGUwZWU1YzczZS5iaW5kUG9wdXAocG9wdXBfMmQyMmNjNTY5MmM4NGIzMjllMDVmNTU5OThhNjllYWQpCiAgICAgICAgOwoKICAgICAgICAKICAgIAogICAgCiAgICAgICAgICAgIHZhciBjaXJjbGVfbWFya2VyXzJhMDQwYTAxY2Y5OTQ5NzhiOTBkNTU2Mzc1NjU0OThmID0gTC5jaXJjbGVNYXJrZXIoCiAgICAgICAgICAgICAgICBbNDMuNzg2OTQ3MywgLTc5LjM4NTk3NV0sCiAgICAgICAgICAgICAgICB7ImJ1YmJsaW5nTW91c2VFdmVudHMiOiB0cnVlLCAiY29sb3IiOiAicmVkIiwgImRhc2hBcnJheSI6IG51bGwsICJkYXNoT2Zmc2V0IjogbnVsbCwgImZpbGwiOiB0cnVlLCAiZmlsbENvbG9yIjogIiMzMTg2Y2MiLCAiZmlsbE9wYWNpdHkiOiAwLjcsICJmaWxsUnVsZSI6ICJldmVub2RkIiwgImxpbmVDYXAiOiAicm91bmQiLCAibGluZUpvaW4iOiAicm91bmQiLCAib3BhY2l0eSI6IDEuMCwgInJhZGl1cyI6IDQsICJzdHJva2UiOiB0cnVlLCAid2VpZ2h0IjogM30KICAgICAgICAgICAgKS5hZGRUbyhtYXBfYzIxZmExNjEzN2QxNDdkYmE1OWZmZWIyMTE5OWM3N2YpOwogICAgICAgIAogICAgCiAgICAgICAgdmFyIHBvcHVwX2RiNDhjYjY5Y2Q0MjRhNWY5MmYzYmUzNDdkYjk5NmQ1ID0gTC5wb3B1cCh7Im1heFdpZHRoIjogIjEwMCUifSk7CgogICAgICAgIAogICAgICAgICAgICB2YXIgaHRtbF9iYTJiMzUxMDZlMmI0YzY1YTZmYzA3YzE5ZmE0MmIwZSA9ICQoYDxkaXYgaWQ9Imh0bWxfYmEyYjM1MTA2ZTJiNGM2NWE2ZmMwN2MxOWZhNDJiMGUiIHN0eWxlPSJ3aWR0aDogMTAwLjAlOyBoZWlnaHQ6IDEwMC4wJTsiPk5vcnRoIFlvcmssIE0ySywgQmF5dmlldyBWaWxsYWdlPC9kaXY+YClbMF07CiAgICAgICAgICAgIHBvcHVwX2RiNDhjYjY5Y2Q0MjRhNWY5MmYzYmUzNDdkYjk5NmQ1LnNldENvbnRlbnQoaHRtbF9iYTJiMzUxMDZlMmI0YzY1YTZmYzA3YzE5ZmE0MmIwZSk7CiAgICAgICAgCgogICAgICAgIGNpcmNsZV9tYXJrZXJfMmEwNDBhMDFjZjk5NDk3OGI5MGQ1NTYzNzU2NTQ5OGYuYmluZFBvcHVwKHBvcHVwX2RiNDhjYjY5Y2Q0MjRhNWY5MmYzYmUzNDdkYjk5NmQ1KQogICAgICAgIDsKCiAgICAgICAgCiAgICAKICAgIAogICAgICAgICAgICB2YXIgY2lyY2xlX21hcmtlcl85NDVmNTNkNTEyN2Y0MmI4ODM3MDkzZGQ5NGQ0ZDFmMiA9IEwuY2lyY2xlTWFya2VyKAogICAgICAgICAgICAgICAgWzQzLjczNzQ3MzIwMDAwMDAwNCwgLTc5LjQ2NDc2MzI5OTk5OTk5XSwKICAgICAgICAgICAgICAgIHsiYnViYmxpbmdNb3VzZUV2ZW50cyI6IHRydWUsICJjb2xvciI6ICJyZWQiLCAiZGFzaEFycmF5IjogbnVsbCwgImRhc2hPZmZzZXQiOiBudWxsLCAiZmlsbCI6IHRydWUsICJmaWxsQ29sb3IiOiAiIzMxODZjYyIsICJmaWxsT3BhY2l0eSI6IDAuNywgImZpbGxSdWxlIjogImV2ZW5vZGQiLCAibGluZUNhcCI6ICJyb3VuZCIsICJsaW5lSm9pbiI6ICJyb3VuZCIsICJvcGFjaXR5IjogMS4wLCAicmFkaXVzIjogNCwgInN0cm9rZSI6IHRydWUsICJ3ZWlnaHQiOiAzfQogICAgICAgICAgICApLmFkZFRvKG1hcF9jMjFmYTE2MTM3ZDE0N2RiYTU5ZmZlYjIxMTk5Yzc3Zik7CiAgICAgICAgCiAgICAKICAgICAgICB2YXIgcG9wdXBfMDZkNWE3NjAxNTUyNGJjNWI5Y2QwM2UyNmY2ZDc3MDEgPSBMLnBvcHVwKHsibWF4V2lkdGgiOiAiMTAwJSJ9KTsKCiAgICAgICAgCiAgICAgICAgICAgIHZhciBodG1sX2FhODI4NTMzMWEyODQ2NjFiNzZhYzliYzQ2ODY1ZTRhID0gJChgPGRpdiBpZD0iaHRtbF9hYTgyODUzMzFhMjg0NjYxYjc2YWM5YmM0Njg2NWU0YSIgc3R5bGU9IndpZHRoOiAxMDAuMCU7IGhlaWdodDogMTAwLjAlOyI+Tm9ydGggWW9yaywgTTNLLCBEb3duc3ZpZXc8L2Rpdj5gKVswXTsKICAgICAgICAgICAgcG9wdXBfMDZkNWE3NjAxNTUyNGJjNWI5Y2QwM2UyNmY2ZDc3MDEuc2V0Q29udGVudChodG1sX2FhODI4NTMzMWEyODQ2NjFiNzZhYzliYzQ2ODY1ZTRhKTsKICAgICAgICAKCiAgICAgICAgY2lyY2xlX21hcmtlcl85NDVmNTNkNTEyN2Y0MmI4ODM3MDkzZGQ5NGQ0ZDFmMi5iaW5kUG9wdXAocG9wdXBfMDZkNWE3NjAxNTUyNGJjNWI5Y2QwM2UyNmY2ZDc3MDEpCiAgICAgICAgOwoKICAgICAgICAKICAgIAogICAgCiAgICAgICAgICAgIHZhciBjaXJjbGVfbWFya2VyXzUyOWNmYTk3ODM3NDRjYjA5NzAwNDBlMDljZTFkMzRjID0gTC5jaXJjbGVNYXJrZXIoCiAgICAgICAgICAgICAgICBbNDMuNjc5NTU3MSwgLTc5LjM1MjE4OF0sCiAgICAgICAgICAgICAgICB7ImJ1YmJsaW5nTW91c2VFdmVudHMiOiB0cnVlLCAiY29sb3IiOiAicmVkIiwgImRhc2hBcnJheSI6IG51bGwsICJkYXNoT2Zmc2V0IjogbnVsbCwgImZpbGwiOiB0cnVlLCAiZmlsbENvbG9yIjogIiMzMTg2Y2MiLCAiZmlsbE9wYWNpdHkiOiAwLjcsICJmaWxsUnVsZSI6ICJldmVub2RkIiwgImxpbmVDYXAiOiAicm91bmQiLCAibGluZUpvaW4iOiAicm91bmQiLCAib3BhY2l0eSI6IDEuMCwgInJhZGl1cyI6IDQsICJzdHJva2UiOiB0cnVlLCAid2VpZ2h0IjogM30KICAgICAgICAgICAgKS5hZGRUbyhtYXBfYzIxZmExNjEzN2QxNDdkYmE1OWZmZWIyMTE5OWM3N2YpOwogICAgICAgIAogICAgCiAgICAgICAgdmFyIHBvcHVwX2NlOTllMzllOGE1NjRhMzliY2YwMGFkMDVkYjQ2MGQ4ID0gTC5wb3B1cCh7Im1heFdpZHRoIjogIjEwMCUifSk7CgogICAgICAgIAogICAgICAgICAgICB2YXIgaHRtbF8wM2U0NDJlNWU1ZWI0MjlhYmNmY2Y3ZjlkMDU0NmY0ZSA9ICQoYDxkaXYgaWQ9Imh0bWxfMDNlNDQyZTVlNWViNDI5YWJjZmNmN2Y5ZDA1NDZmNGUiIHN0eWxlPSJ3aWR0aDogMTAwLjAlOyBoZWlnaHQ6IDEwMC4wJTsiPkVhc3QgVG9yb250bywgTTRLLCBUaGUgRGFuZm9ydGggV2VzdCAvIFJpdmVyZGFsZTwvZGl2PmApWzBdOwogICAgICAgICAgICBwb3B1cF9jZTk5ZTM5ZThhNTY0YTM5YmNmMDBhZDA1ZGI0NjBkOC5zZXRDb250ZW50KGh0bWxfMDNlNDQyZTVlNWViNDI5YWJjZmNmN2Y5ZDA1NDZmNGUpOwogICAgICAgIAoKICAgICAgICBjaXJjbGVfbWFya2VyXzUyOWNmYTk3ODM3NDRjYjA5NzAwNDBlMDljZTFkMzRjLmJpbmRQb3B1cChwb3B1cF9jZTk5ZTM5ZThhNTY0YTM5YmNmMDBhZDA1ZGI0NjBkOCkKICAgICAgICA7CgogICAgICAgIAogICAgCiAgICAKICAgICAgICAgICAgdmFyIGNpcmNsZV9tYXJrZXJfMDkzZGIwMTRiMzQyNGVkZGI5Y2UyZDY3OGE3MjgwYjMgPSBMLmNpcmNsZU1hcmtlcigKICAgICAgICAgICAgICAgIFs0My42NDcxNzY4LCAtNzkuMzgxNTc2NDAwMDAwMDFdLAogICAgICAgICAgICAgICAgeyJidWJibGluZ01vdXNlRXZlbnRzIjogdHJ1ZSwgImNvbG9yIjogInJlZCIsICJkYXNoQXJyYXkiOiBudWxsLCAiZGFzaE9mZnNldCI6IG51bGwsICJmaWxsIjogdHJ1ZSwgImZpbGxDb2xvciI6ICIjMzE4NmNjIiwgImZpbGxPcGFjaXR5IjogMC43LCAiZmlsbFJ1bGUiOiAiZXZlbm9kZCIsICJsaW5lQ2FwIjogInJvdW5kIiwgImxpbmVKb2luIjogInJvdW5kIiwgIm9wYWNpdHkiOiAxLjAsICJyYWRpdXMiOiA0LCAic3Ryb2tlIjogdHJ1ZSwgIndlaWdodCI6IDN9CiAgICAgICAgICAgICkuYWRkVG8obWFwX2MyMWZhMTYxMzdkMTQ3ZGJhNTlmZmViMjExOTljNzdmKTsKICAgICAgICAKICAgIAogICAgICAgIHZhciBwb3B1cF9iNWU0MjA1N2Y0OWE0NmM3YmU0MDYyYjgyODcxMTY0ZSA9IEwucG9wdXAoeyJtYXhXaWR0aCI6ICIxMDAlIn0pOwoKICAgICAgICAKICAgICAgICAgICAgdmFyIGh0bWxfNThiZjhlNDVlNmEyNDNmYWEyODBiOTAyZGYyMzNmMzUgPSAkKGA8ZGl2IGlkPSJodG1sXzU4YmY4ZTQ1ZTZhMjQzZmFhMjgwYjkwMmRmMjMzZjM1IiBzdHlsZT0id2lkdGg6IDEwMC4wJTsgaGVpZ2h0OiAxMDAuMCU7Ij5Eb3dudG93biBUb3JvbnRvLCBNNUssIFRvcm9udG8gRG9taW5pb24gQ2VudHJlIC8gRGVzaWduIEV4Y2hhbmdlPC9kaXY+YClbMF07CiAgICAgICAgICAgIHBvcHVwX2I1ZTQyMDU3ZjQ5YTQ2YzdiZTQwNjJiODI4NzExNjRlLnNldENvbnRlbnQoaHRtbF81OGJmOGU0NWU2YTI0M2ZhYTI4MGI5MDJkZjIzM2YzNSk7CiAgICAgICAgCgogICAgICAgIGNpcmNsZV9tYXJrZXJfMDkzZGIwMTRiMzQyNGVkZGI5Y2UyZDY3OGE3MjgwYjMuYmluZFBvcHVwKHBvcHVwX2I1ZTQyMDU3ZjQ5YTQ2YzdiZTQwNjJiODI4NzExNjRlKQogICAgICAgIDsKCiAgICAgICAgCiAgICAKICAgIAogICAgICAgICAgICB2YXIgY2lyY2xlX21hcmtlcl8yNDhlOTE1ODkxZDE0OWMzOGNkNzRiNjYyMjA2NjBkMyA9IEwuY2lyY2xlTWFya2VyKAogICAgICAgICAgICAgICAgWzQzLjYzNjg0NzIsIC03OS40MjgxOTE0MDAwMDAwMl0sCiAgICAgICAgICAgICAgICB7ImJ1YmJsaW5nTW91c2VFdmVudHMiOiB0cnVlLCAiY29sb3IiOiAicmVkIiwgImRhc2hBcnJheSI6IG51bGwsICJkYXNoT2Zmc2V0IjogbnVsbCwgImZpbGwiOiB0cnVlLCAiZmlsbENvbG9yIjogIiMzMTg2Y2MiLCAiZmlsbE9wYWNpdHkiOiAwLjcsICJmaWxsUnVsZSI6ICJldmVub2RkIiwgImxpbmVDYXAiOiAicm91bmQiLCAibGluZUpvaW4iOiAicm91bmQiLCAib3BhY2l0eSI6IDEuMCwgInJhZGl1cyI6IDQsICJzdHJva2UiOiB0cnVlLCAid2VpZ2h0IjogM30KICAgICAgICAgICAgKS5hZGRUbyhtYXBfYzIxZmExNjEzN2QxNDdkYmE1OWZmZWIyMTE5OWM3N2YpOwogICAgICAgIAogICAgCiAgICAgICAgdmFyIHBvcHVwXzNjY2Q4NmJiMWIwODQ1ZTM4ZGUwYmM5MzRlMTBkZTk2ID0gTC5wb3B1cCh7Im1heFdpZHRoIjogIjEwMCUifSk7CgogICAgICAgIAogICAgICAgICAgICB2YXIgaHRtbF85NzdjYTExMWU2NTc0MzgzODJkMDY4MDQwMGQ1MzRlMCA9ICQoYDxkaXYgaWQ9Imh0bWxfOTc3Y2ExMTFlNjU3NDM4MzgyZDA2ODA0MDBkNTM0ZTAiIHN0eWxlPSJ3aWR0aDogMTAwLjAlOyBoZWlnaHQ6IDEwMC4wJTsiPldlc3QgVG9yb250bywgTTZLLCBCcm9ja3RvbiAvIFBhcmtkYWxlIFZpbGxhZ2UgLyBFeGhpYml0aW9uIFBsYWNlPC9kaXY+YClbMF07CiAgICAgICAgICAgIHBvcHVwXzNjY2Q4NmJiMWIwODQ1ZTM4ZGUwYmM5MzRlMTBkZTk2LnNldENvbnRlbnQoaHRtbF85NzdjYTExMWU2NTc0MzgzODJkMDY4MDQwMGQ1MzRlMCk7CiAgICAgICAgCgogICAgICAgIGNpcmNsZV9tYXJrZXJfMjQ4ZTkxNTg5MWQxNDljMzhjZDc0YjY2MjIwNjYwZDMuYmluZFBvcHVwKHBvcHVwXzNjY2Q4NmJiMWIwODQ1ZTM4ZGUwYmM5MzRlMTBkZTk2KQogICAgICAgIDsKCiAgICAgICAgCiAgICAKICAgIAogICAgICAgICAgICB2YXIgY2lyY2xlX21hcmtlcl8zZTYwZTE3ZjBmZDY0MWNkODEyMWZhYjZkNmVlMzI5NCA9IEwuY2lyY2xlTWFya2VyKAogICAgICAgICAgICAgICAgWzQzLjcxMTExMTcwMDAwMDAwNCwgLTc5LjI4NDU3NzJdLAogICAgICAgICAgICAgICAgeyJidWJibGluZ01vdXNlRXZlbnRzIjogdHJ1ZSwgImNvbG9yIjogInJlZCIsICJkYXNoQXJyYXkiOiBudWxsLCAiZGFzaE9mZnNldCI6IG51bGwsICJmaWxsIjogdHJ1ZSwgImZpbGxDb2xvciI6ICIjMzE4NmNjIiwgImZpbGxPcGFjaXR5IjogMC43LCAiZmlsbFJ1bGUiOiAiZXZlbm9kZCIsICJsaW5lQ2FwIjogInJvdW5kIiwgImxpbmVKb2luIjogInJvdW5kIiwgIm9wYWNpdHkiOiAxLjAsICJyYWRpdXMiOiA0LCAic3Ryb2tlIjogdHJ1ZSwgIndlaWdodCI6IDN9CiAgICAgICAgICAgICkuYWRkVG8obWFwX2MyMWZhMTYxMzdkMTQ3ZGJhNTlmZmViMjExOTljNzdmKTsKICAgICAgICAKICAgIAogICAgICAgIHZhciBwb3B1cF8wZTlkMjc2ZWU0MjU0ZWVmYjU0N2YwMzE0OGI0MWY3MiA9IEwucG9wdXAoeyJtYXhXaWR0aCI6ICIxMDAlIn0pOwoKICAgICAgICAKICAgICAgICAgICAgdmFyIGh0bWxfYjQ2MWQzNjBmMjZhNGFlZmI3OTcwZjZhYjQ4ZTM2NDcgPSAkKGA8ZGl2IGlkPSJodG1sX2I0NjFkMzYwZjI2YTRhZWZiNzk3MGY2YWI0OGUzNjQ3IiBzdHlsZT0id2lkdGg6IDEwMC4wJTsgaGVpZ2h0OiAxMDAuMCU7Ij5TY2FyYm9yb3VnaCwgTTFMLCBHb2xkZW4gTWlsZSAvIENsYWlybGVhIC8gT2FrcmlkZ2U8L2Rpdj5gKVswXTsKICAgICAgICAgICAgcG9wdXBfMGU5ZDI3NmVlNDI1NGVlZmI1NDdmMDMxNDhiNDFmNzIuc2V0Q29udGVudChodG1sX2I0NjFkMzYwZjI2YTRhZWZiNzk3MGY2YWI0OGUzNjQ3KTsKICAgICAgICAKCiAgICAgICAgY2lyY2xlX21hcmtlcl8zZTYwZTE3ZjBmZDY0MWNkODEyMWZhYjZkNmVlMzI5NC5iaW5kUG9wdXAocG9wdXBfMGU5ZDI3NmVlNDI1NGVlZmI1NDdmMDMxNDhiNDFmNzIpCiAgICAgICAgOwoKICAgICAgICAKICAgIAogICAgCiAgICAgICAgICAgIHZhciBjaXJjbGVfbWFya2VyX2Q2OTgzNGJlNDM5MTQyYTZiZmU5OWQ4N2U3MDVlNmEzID0gTC5jaXJjbGVNYXJrZXIoCiAgICAgICAgICAgICAgICBbNDMuNzU3NDkwMiwgLTc5LjM3NDcxNDA5OTk5OTk5XSwKICAgICAgICAgICAgICAgIHsiYnViYmxpbmdNb3VzZUV2ZW50cyI6IHRydWUsICJjb2xvciI6ICJyZWQiLCAiZGFzaEFycmF5IjogbnVsbCwgImRhc2hPZmZzZXQiOiBudWxsLCAiZmlsbCI6IHRydWUsICJmaWxsQ29sb3IiOiAiIzMxODZjYyIsICJmaWxsT3BhY2l0eSI6IDAuNywgImZpbGxSdWxlIjogImV2ZW5vZGQiLCAibGluZUNhcCI6ICJyb3VuZCIsICJsaW5lSm9pbiI6ICJyb3VuZCIsICJvcGFjaXR5IjogMS4wLCAicmFkaXVzIjogNCwgInN0cm9rZSI6IHRydWUsICJ3ZWlnaHQiOiAzfQogICAgICAgICAgICApLmFkZFRvKG1hcF9jMjFmYTE2MTM3ZDE0N2RiYTU5ZmZlYjIxMTk5Yzc3Zik7CiAgICAgICAgCiAgICAKICAgICAgICB2YXIgcG9wdXBfMDAzN2FmNDI3NzU4NDAzNzg5ZTJlNGIwZjEzODMxZjEgPSBMLnBvcHVwKHsibWF4V2lkdGgiOiAiMTAwJSJ9KTsKCiAgICAgICAgCiAgICAgICAgICAgIHZhciBodG1sXzliMWI1ZDhkY2ZkNzRkMmQ4NzcyYzE2ZGI4ZWJkMjE2ID0gJChgPGRpdiBpZD0iaHRtbF85YjFiNWQ4ZGNmZDc0ZDJkODc3MmMxNmRiOGViZDIxNiIgc3R5bGU9IndpZHRoOiAxMDAuMCU7IGhlaWdodDogMTAwLjAlOyI+Tm9ydGggWW9yaywgTTJMLCBZb3JrIE1pbGxzIC8gU2lsdmVyIEhpbGxzPC9kaXY+YClbMF07CiAgICAgICAgICAgIHBvcHVwXzAwMzdhZjQyNzc1ODQwMzc4OWUyZTRiMGYxMzgzMWYxLnNldENvbnRlbnQoaHRtbF85YjFiNWQ4ZGNmZDc0ZDJkODc3MmMxNmRiOGViZDIxNik7CiAgICAgICAgCgogICAgICAgIGNpcmNsZV9tYXJrZXJfZDY5ODM0YmU0MzkxNDJhNmJmZTk5ZDg3ZTcwNWU2YTMuYmluZFBvcHVwKHBvcHVwXzAwMzdhZjQyNzc1ODQwMzc4OWUyZTRiMGYxMzgzMWYxKQogICAgICAgIDsKCiAgICAgICAgCiAgICAKICAgIAogICAgICAgICAgICB2YXIgY2lyY2xlX21hcmtlcl8wMjdlZTRhNmExMzc0MDQ3OTc5MmRlNWUxNWVhYTFiZiA9IEwuY2lyY2xlTWFya2VyKAogICAgICAgICAgICAgICAgWzQzLjczOTAxNDYsIC03OS41MDY5NDM2XSwKICAgICAgICAgICAgICAgIHsiYnViYmxpbmdNb3VzZUV2ZW50cyI6IHRydWUsICJjb2xvciI6ICJyZWQiLCAiZGFzaEFycmF5IjogbnVsbCwgImRhc2hPZmZzZXQiOiBudWxsLCAiZmlsbCI6IHRydWUsICJmaWxsQ29sb3IiOiAiIzMxODZjYyIsICJmaWxsT3BhY2l0eSI6IDAuNywgImZpbGxSdWxlIjogImV2ZW5vZGQiLCAibGluZUNhcCI6ICJyb3VuZCIsICJsaW5lSm9pbiI6ICJyb3VuZCIsICJvcGFjaXR5IjogMS4wLCAicmFkaXVzIjogNCwgInN0cm9rZSI6IHRydWUsICJ3ZWlnaHQiOiAzfQogICAgICAgICAgICApLmFkZFRvKG1hcF9jMjFmYTE2MTM3ZDE0N2RiYTU5ZmZlYjIxMTk5Yzc3Zik7CiAgICAgICAgCiAgICAKICAgICAgICB2YXIgcG9wdXBfMGY0NWYxN2FjZGI3NDJkYjg3MjRkYWFjMmE1NWZlYmEgPSBMLnBvcHVwKHsibWF4V2lkdGgiOiAiMTAwJSJ9KTsKCiAgICAgICAgCiAgICAgICAgICAgIHZhciBodG1sXzdmYTc3ZmRiMjU0ZDRhZWE4N2JlMGY0NjgyMTQyM2E2ID0gJChgPGRpdiBpZD0iaHRtbF83ZmE3N2ZkYjI1NGQ0YWVhODdiZTBmNDY4MjE0MjNhNiIgc3R5bGU9IndpZHRoOiAxMDAuMCU7IGhlaWdodDogMTAwLjAlOyI+Tm9ydGggWW9yaywgTTNMLCBEb3duc3ZpZXc8L2Rpdj5gKVswXTsKICAgICAgICAgICAgcG9wdXBfMGY0NWYxN2FjZGI3NDJkYjg3MjRkYWFjMmE1NWZlYmEuc2V0Q29udGVudChodG1sXzdmYTc3ZmRiMjU0ZDRhZWE4N2JlMGY0NjgyMTQyM2E2KTsKICAgICAgICAKCiAgICAgICAgY2lyY2xlX21hcmtlcl8wMjdlZTRhNmExMzc0MDQ3OTc5MmRlNWUxNWVhYTFiZi5iaW5kUG9wdXAocG9wdXBfMGY0NWYxN2FjZGI3NDJkYjg3MjRkYWFjMmE1NWZlYmEpCiAgICAgICAgOwoKICAgICAgICAKICAgIAogICAgCiAgICAgICAgICAgIHZhciBjaXJjbGVfbWFya2VyXzlhMzRhZWZlOGQwNTQ1MDY5MDBiZTE3NWE3OThlYjkzID0gTC5jaXJjbGVNYXJrZXIoCiAgICAgICAgICAgICAgICBbNDMuNjY4OTk4NSwgLTc5LjMxNTU3MTU5OTk5OTk4XSwKICAgICAgICAgICAgICAgIHsiYnViYmxpbmdNb3VzZUV2ZW50cyI6IHRydWUsICJjb2xvciI6ICJyZWQiLCAiZGFzaEFycmF5IjogbnVsbCwgImRhc2hPZmZzZXQiOiBudWxsLCAiZmlsbCI6IHRydWUsICJmaWxsQ29sb3IiOiAiIzMxODZjYyIsICJmaWxsT3BhY2l0eSI6IDAuNywgImZpbGxSdWxlIjogImV2ZW5vZGQiLCAibGluZUNhcCI6ICJyb3VuZCIsICJsaW5lSm9pbiI6ICJyb3VuZCIsICJvcGFjaXR5IjogMS4wLCAicmFkaXVzIjogNCwgInN0cm9rZSI6IHRydWUsICJ3ZWlnaHQiOiAzfQogICAgICAgICAgICApLmFkZFRvKG1hcF9jMjFmYTE2MTM3ZDE0N2RiYTU5ZmZlYjIxMTk5Yzc3Zik7CiAgICAgICAgCiAgICAKICAgICAgICB2YXIgcG9wdXBfNTFjMWExMDkyMjJiNGE2Mjg2MjkyNWE0YmM5OTM4M2YgPSBMLnBvcHVwKHsibWF4V2lkdGgiOiAiMTAwJSJ9KTsKCiAgICAgICAgCiAgICAgICAgICAgIHZhciBodG1sX2ZlZGRmZTk3ZmY4YjRkZDhiMDQ2NTFhZDRlOWZiZTM5ID0gJChgPGRpdiBpZD0iaHRtbF9mZWRkZmU5N2ZmOGI0ZGQ4YjA0NjUxYWQ0ZTlmYmUzOSIgc3R5bGU9IndpZHRoOiAxMDAuMCU7IGhlaWdodDogMTAwLjAlOyI+RWFzdCBUb3JvbnRvLCBNNEwsIEluZGlhIEJhemFhciAvIFRoZSBCZWFjaGVzIFdlc3Q8L2Rpdj5gKVswXTsKICAgICAgICAgICAgcG9wdXBfNTFjMWExMDkyMjJiNGE2Mjg2MjkyNWE0YmM5OTM4M2Yuc2V0Q29udGVudChodG1sX2ZlZGRmZTk3ZmY4YjRkZDhiMDQ2NTFhZDRlOWZiZTM5KTsKICAgICAgICAKCiAgICAgICAgY2lyY2xlX21hcmtlcl85YTM0YWVmZThkMDU0NTA2OTAwYmUxNzVhNzk4ZWI5My5iaW5kUG9wdXAocG9wdXBfNTFjMWExMDkyMjJiNGE2Mjg2MjkyNWE0YmM5OTM4M2YpCiAgICAgICAgOwoKICAgICAgICAKICAgIAogICAgCiAgICAgICAgICAgIHZhciBjaXJjbGVfbWFya2VyXzlhMmViNjFlZGFiMjRkM2RhYmIyOTc2NmU2ZjRiNTNlID0gTC5jaXJjbGVNYXJrZXIoCiAgICAgICAgICAgICAgICBbNDMuNjQ4MTk4NSwgLTc5LjM3OTgxNjkwMDAwMDAxXSwKICAgICAgICAgICAgICAgIHsiYnViYmxpbmdNb3VzZUV2ZW50cyI6IHRydWUsICJjb2xvciI6ICJyZWQiLCAiZGFzaEFycmF5IjogbnVsbCwgImRhc2hPZmZzZXQiOiBudWxsLCAiZmlsbCI6IHRydWUsICJmaWxsQ29sb3IiOiAiIzMxODZjYyIsICJmaWxsT3BhY2l0eSI6IDAuNywgImZpbGxSdWxlIjogImV2ZW5vZGQiLCAibGluZUNhcCI6ICJyb3VuZCIsICJsaW5lSm9pbiI6ICJyb3VuZCIsICJvcGFjaXR5IjogMS4wLCAicmFkaXVzIjogNCwgInN0cm9rZSI6IHRydWUsICJ3ZWlnaHQiOiAzfQogICAgICAgICAgICApLmFkZFRvKG1hcF9jMjFmYTE2MTM3ZDE0N2RiYTU5ZmZlYjIxMTk5Yzc3Zik7CiAgICAgICAgCiAgICAKICAgICAgICB2YXIgcG9wdXBfOTE3MzA1N2ZiY2E0NGVhN2E1YWIyZjU5NjI1YmE0MGEgPSBMLnBvcHVwKHsibWF4V2lkdGgiOiAiMTAwJSJ9KTsKCiAgICAgICAgCiAgICAgICAgICAgIHZhciBodG1sX2QwYmNhNmU2NWUxNjRmYTM4N2YwYTI0ZDU2MDk4OGY5ID0gJChgPGRpdiBpZD0iaHRtbF9kMGJjYTZlNjVlMTY0ZmEzODdmMGEyNGQ1NjA5ODhmOSIgc3R5bGU9IndpZHRoOiAxMDAuMCU7IGhlaWdodDogMTAwLjAlOyI+RG93bnRvd24gVG9yb250bywgTTVMLCBDb21tZXJjZSBDb3VydCAvIFZpY3RvcmlhIEhvdGVsPC9kaXY+YClbMF07CiAgICAgICAgICAgIHBvcHVwXzkxNzMwNTdmYmNhNDRlYTdhNWFiMmY1OTYyNWJhNDBhLnNldENvbnRlbnQoaHRtbF9kMGJjYTZlNjVlMTY0ZmEzODdmMGEyNGQ1NjA5ODhmOSk7CiAgICAgICAgCgogICAgICAgIGNpcmNsZV9tYXJrZXJfOWEyZWI2MWVkYWIyNGQzZGFiYjI5NzY2ZTZmNGI1M2UuYmluZFBvcHVwKHBvcHVwXzkxNzMwNTdmYmNhNDRlYTdhNWFiMmY1OTYyNWJhNDBhKQogICAgICAgIDsKCiAgICAgICAgCiAgICAKICAgIAogICAgICAgICAgICB2YXIgY2lyY2xlX21hcmtlcl9lZGY2Mzc0YmM0ODA0ZjdmYTAyODgzN2JjMTAzN2JkNCA9IEwuY2lyY2xlTWFya2VyKAogICAgICAgICAgICAgICAgWzQzLjcxMzc1NjIwMDAwMDAwNiwgLTc5LjQ5MDA3MzhdLAogICAgICAgICAgICAgICAgeyJidWJibGluZ01vdXNlRXZlbnRzIjogdHJ1ZSwgImNvbG9yIjogInJlZCIsICJkYXNoQXJyYXkiOiBudWxsLCAiZGFzaE9mZnNldCI6IG51bGwsICJmaWxsIjogdHJ1ZSwgImZpbGxDb2xvciI6ICIjMzE4NmNjIiwgImZpbGxPcGFjaXR5IjogMC43LCAiZmlsbFJ1bGUiOiAiZXZlbm9kZCIsICJsaW5lQ2FwIjogInJvdW5kIiwgImxpbmVKb2luIjogInJvdW5kIiwgIm9wYWNpdHkiOiAxLjAsICJyYWRpdXMiOiA0LCAic3Ryb2tlIjogdHJ1ZSwgIndlaWdodCI6IDN9CiAgICAgICAgICAgICkuYWRkVG8obWFwX2MyMWZhMTYxMzdkMTQ3ZGJhNTlmZmViMjExOTljNzdmKTsKICAgICAgICAKICAgIAogICAgICAgIHZhciBwb3B1cF9kNTY5MjZjYWY1ZWQ0ZWQ1YTU1ZmU0NjEwZGY4ZDdjMyA9IEwucG9wdXAoeyJtYXhXaWR0aCI6ICIxMDAlIn0pOwoKICAgICAgICAKICAgICAgICAgICAgdmFyIGh0bWxfZmI0NDQ3Y2E0YzI4NDUxOWIyNjFjOWExZjhiNzE1MTMgPSAkKGA8ZGl2IGlkPSJodG1sX2ZiNDQ0N2NhNGMyODQ1MTliMjYxYzlhMWY4YjcxNTEzIiBzdHlsZT0id2lkdGg6IDEwMC4wJTsgaGVpZ2h0OiAxMDAuMCU7Ij5Ob3J0aCBZb3JrLCBNNkwsIE5vcnRoIFBhcmsgLyBNYXBsZSBMZWFmIFBhcmsgLyBVcHdvb2QgUGFyazwvZGl2PmApWzBdOwogICAgICAgICAgICBwb3B1cF9kNTY5MjZjYWY1ZWQ0ZWQ1YTU1ZmU0NjEwZGY4ZDdjMy5zZXRDb250ZW50KGh0bWxfZmI0NDQ3Y2E0YzI4NDUxOWIyNjFjOWExZjhiNzE1MTMpOwogICAgICAgIAoKICAgICAgICBjaXJjbGVfbWFya2VyX2VkZjYzNzRiYzQ4MDRmN2ZhMDI4ODM3YmMxMDM3YmQ0LmJpbmRQb3B1cChwb3B1cF9kNTY5MjZjYWY1ZWQ0ZWQ1YTU1ZmU0NjEwZGY4ZDdjMykKICAgICAgICA7CgogICAgICAgIAogICAgCiAgICAKICAgICAgICAgICAgdmFyIGNpcmNsZV9tYXJrZXJfOGUyMzg1MjcyNmQyNGFjNjgzYTJkMDUzOGQ3ZDc1OTYgPSBMLmNpcmNsZU1hcmtlcigKICAgICAgICAgICAgICAgIFs0My43NTYzMDMzLCAtNzkuNTY1OTYzMjk5OTk5OTldLAogICAgICAgICAgICAgICAgeyJidWJibGluZ01vdXNlRXZlbnRzIjogdHJ1ZSwgImNvbG9yIjogInJlZCIsICJkYXNoQXJyYXkiOiBudWxsLCAiZGFzaE9mZnNldCI6IG51bGwsICJmaWxsIjogdHJ1ZSwgImZpbGxDb2xvciI6ICIjMzE4NmNjIiwgImZpbGxPcGFjaXR5IjogMC43LCAiZmlsbFJ1bGUiOiAiZXZlbm9kZCIsICJsaW5lQ2FwIjogInJvdW5kIiwgImxpbmVKb2luIjogInJvdW5kIiwgIm9wYWNpdHkiOiAxLjAsICJyYWRpdXMiOiA0LCAic3Ryb2tlIjogdHJ1ZSwgIndlaWdodCI6IDN9CiAgICAgICAgICAgICkuYWRkVG8obWFwX2MyMWZhMTYxMzdkMTQ3ZGJhNTlmZmViMjExOTljNzdmKTsKICAgICAgICAKICAgIAogICAgICAgIHZhciBwb3B1cF8yMTRmYmIyMjQ3YzU0OTdlOGVlMzZjNzllZjY4MzgyNyA9IEwucG9wdXAoeyJtYXhXaWR0aCI6ICIxMDAlIn0pOwoKICAgICAgICAKICAgICAgICAgICAgdmFyIGh0bWxfYWUzYjU5OWQ2YjE1NGY5YWIwN2I1MDI0Yjk5ODRkNmQgPSAkKGA8ZGl2IGlkPSJodG1sX2FlM2I1OTlkNmIxNTRmOWFiMDdiNTAyNGI5OTg0ZDZkIiBzdHlsZT0id2lkdGg6IDEwMC4wJTsgaGVpZ2h0OiAxMDAuMCU7Ij5Ob3J0aCBZb3JrLCBNOUwsIEh1bWJlciBTdW1taXQ8L2Rpdj5gKVswXTsKICAgICAgICAgICAgcG9wdXBfMjE0ZmJiMjI0N2M1NDk3ZThlZTM2Yzc5ZWY2ODM4Mjcuc2V0Q29udGVudChodG1sX2FlM2I1OTlkNmIxNTRmOWFiMDdiNTAyNGI5OTg0ZDZkKTsKICAgICAgICAKCiAgICAgICAgY2lyY2xlX21hcmtlcl84ZTIzODUyNzI2ZDI0YWM2ODNhMmQwNTM4ZDdkNzU5Ni5iaW5kUG9wdXAocG9wdXBfMjE0ZmJiMjI0N2M1NDk3ZThlZTM2Yzc5ZWY2ODM4MjcpCiAgICAgICAgOwoKICAgICAgICAKICAgIAogICAgCiAgICAgICAgICAgIHZhciBjaXJjbGVfbWFya2VyXzk5Y2I1NmIzYzA3NTQzNmZiYzc0ZTc5NDQ5NGFmMDVkID0gTC5jaXJjbGVNYXJrZXIoCiAgICAgICAgICAgICAgICBbNDMuNzE2MzE2LCAtNzkuMjM5NDc2MDk5OTk5OTldLAogICAgICAgICAgICAgICAgeyJidWJibGluZ01vdXNlRXZlbnRzIjogdHJ1ZSwgImNvbG9yIjogInJlZCIsICJkYXNoQXJyYXkiOiBudWxsLCAiZGFzaE9mZnNldCI6IG51bGwsICJmaWxsIjogdHJ1ZSwgImZpbGxDb2xvciI6ICIjMzE4NmNjIiwgImZpbGxPcGFjaXR5IjogMC43LCAiZmlsbFJ1bGUiOiAiZXZlbm9kZCIsICJsaW5lQ2FwIjogInJvdW5kIiwgImxpbmVKb2luIjogInJvdW5kIiwgIm9wYWNpdHkiOiAxLjAsICJyYWRpdXMiOiA0LCAic3Ryb2tlIjogdHJ1ZSwgIndlaWdodCI6IDN9CiAgICAgICAgICAgICkuYWRkVG8obWFwX2MyMWZhMTYxMzdkMTQ3ZGJhNTlmZmViMjExOTljNzdmKTsKICAgICAgICAKICAgIAogICAgICAgIHZhciBwb3B1cF9jODA4ZjQxYzkxYjY0OTVkYjQzZjFkOGYxYzlhZjIwMiA9IEwucG9wdXAoeyJtYXhXaWR0aCI6ICIxMDAlIn0pOwoKICAgICAgICAKICAgICAgICAgICAgdmFyIGh0bWxfZTFjNDI5ZTM0MWFkNDVjMWIzZWMwMmY0OTA3ZDA3YTggPSAkKGA8ZGl2IGlkPSJodG1sX2UxYzQyOWUzNDFhZDQ1YzFiM2VjMDJmNDkwN2QwN2E4IiBzdHlsZT0id2lkdGg6IDEwMC4wJTsgaGVpZ2h0OiAxMDAuMCU7Ij5TY2FyYm9yb3VnaCwgTTFNLCBDbGlmZnNpZGUgLyBDbGlmZmNyZXN0IC8gU2NhcmJvcm91Z2ggVmlsbGFnZSBXZXN0PC9kaXY+YClbMF07CiAgICAgICAgICAgIHBvcHVwX2M4MDhmNDFjOTFiNjQ5NWRiNDNmMWQ4ZjFjOWFmMjAyLnNldENvbnRlbnQoaHRtbF9lMWM0MjllMzQxYWQ0NWMxYjNlYzAyZjQ5MDdkMDdhOCk7CiAgICAgICAgCgogICAgICAgIGNpcmNsZV9tYXJrZXJfOTljYjU2YjNjMDc1NDM2ZmJjNzRlNzk0NDk0YWYwNWQuYmluZFBvcHVwKHBvcHVwX2M4MDhmNDFjOTFiNjQ5NWRiNDNmMWQ4ZjFjOWFmMjAyKQogICAgICAgIDsKCiAgICAgICAgCiAgICAKICAgIAogICAgICAgICAgICB2YXIgY2lyY2xlX21hcmtlcl9hY2UwMzE5NDgwNDM0Y2QwYWM5NGEwY2JiMWFiMWYyMCA9IEwuY2lyY2xlTWFya2VyKAogICAgICAgICAgICAgICAgWzQzLjc4OTA1MywgLTc5LjQwODQ5Mjc5OTk5OTk5XSwKICAgICAgICAgICAgICAgIHsiYnViYmxpbmdNb3VzZUV2ZW50cyI6IHRydWUsICJjb2xvciI6ICJyZWQiLCAiZGFzaEFycmF5IjogbnVsbCwgImRhc2hPZmZzZXQiOiBudWxsLCAiZmlsbCI6IHRydWUsICJmaWxsQ29sb3IiOiAiIzMxODZjYyIsICJmaWxsT3BhY2l0eSI6IDAuNywgImZpbGxSdWxlIjogImV2ZW5vZGQiLCAibGluZUNhcCI6ICJyb3VuZCIsICJsaW5lSm9pbiI6ICJyb3VuZCIsICJvcGFjaXR5IjogMS4wLCAicmFkaXVzIjogNCwgInN0cm9rZSI6IHRydWUsICJ3ZWlnaHQiOiAzfQogICAgICAgICAgICApLmFkZFRvKG1hcF9jMjFmYTE2MTM3ZDE0N2RiYTU5ZmZlYjIxMTk5Yzc3Zik7CiAgICAgICAgCiAgICAKICAgICAgICB2YXIgcG9wdXBfYTA5NTlmZWViMjU4NDczMDgwNGRkODViM2U5YzU1NWQgPSBMLnBvcHVwKHsibWF4V2lkdGgiOiAiMTAwJSJ9KTsKCiAgICAgICAgCiAgICAgICAgICAgIHZhciBodG1sX2Y4MmRiMTkyOTVlZTQ4NjY5YzA4ZGI1ZWQxMTNkM2JlID0gJChgPGRpdiBpZD0iaHRtbF9mODJkYjE5Mjk1ZWU0ODY2OWMwOGRiNWVkMTEzZDNiZSIgc3R5bGU9IndpZHRoOiAxMDAuMCU7IGhlaWdodDogMTAwLjAlOyI+Tm9ydGggWW9yaywgTTJNLCBXaWxsb3dkYWxlIC8gTmV3dG9uYnJvb2s8L2Rpdj5gKVswXTsKICAgICAgICAgICAgcG9wdXBfYTA5NTlmZWViMjU4NDczMDgwNGRkODViM2U5YzU1NWQuc2V0Q29udGVudChodG1sX2Y4MmRiMTkyOTVlZTQ4NjY5YzA4ZGI1ZWQxMTNkM2JlKTsKICAgICAgICAKCiAgICAgICAgY2lyY2xlX21hcmtlcl9hY2UwMzE5NDgwNDM0Y2QwYWM5NGEwY2JiMWFiMWYyMC5iaW5kUG9wdXAocG9wdXBfYTA5NTlmZWViMjU4NDczMDgwNGRkODViM2U5YzU1NWQpCiAgICAgICAgOwoKICAgICAgICAKICAgIAogICAgCiAgICAgICAgICAgIHZhciBjaXJjbGVfbWFya2VyX2U5ZTQyNmM1OTJjZjQwNmJhN2VmMTYyNWE5MTM3Y2IyID0gTC5jaXJjbGVNYXJrZXIoCiAgICAgICAgICAgICAgICBbNDMuNzI4NDk2NCwgLTc5LjQ5NTY5NzQwMDAwMDAxXSwKICAgICAgICAgICAgICAgIHsiYnViYmxpbmdNb3VzZUV2ZW50cyI6IHRydWUsICJjb2xvciI6ICJyZWQiLCAiZGFzaEFycmF5IjogbnVsbCwgImRhc2hPZmZzZXQiOiBudWxsLCAiZmlsbCI6IHRydWUsICJmaWxsQ29sb3IiOiAiIzMxODZjYyIsICJmaWxsT3BhY2l0eSI6IDAuNywgImZpbGxSdWxlIjogImV2ZW5vZGQiLCAibGluZUNhcCI6ICJyb3VuZCIsICJsaW5lSm9pbiI6ICJyb3VuZCIsICJvcGFjaXR5IjogMS4wLCAicmFkaXVzIjogNCwgInN0cm9rZSI6IHRydWUsICJ3ZWlnaHQiOiAzfQogICAgICAgICAgICApLmFkZFRvKG1hcF9jMjFmYTE2MTM3ZDE0N2RiYTU5ZmZlYjIxMTk5Yzc3Zik7CiAgICAgICAgCiAgICAKICAgICAgICB2YXIgcG9wdXBfNGVjNGM2MTc4MzRkNDZkMjk4MDZmNWUyMDYzNWEyZTIgPSBMLnBvcHVwKHsibWF4V2lkdGgiOiAiMTAwJSJ9KTsKCiAgICAgICAgCiAgICAgICAgICAgIHZhciBodG1sXzhhZDgyMTFjMmIwZTRkMzY4YWZiMTAxZDQyNGQzMzI1ID0gJChgPGRpdiBpZD0iaHRtbF84YWQ4MjExYzJiMGU0ZDM2OGFmYjEwMWQ0MjRkMzMyNSIgc3R5bGU9IndpZHRoOiAxMDAuMCU7IGhlaWdodDogMTAwLjAlOyI+Tm9ydGggWW9yaywgTTNNLCBEb3duc3ZpZXc8L2Rpdj5gKVswXTsKICAgICAgICAgICAgcG9wdXBfNGVjNGM2MTc4MzRkNDZkMjk4MDZmNWUyMDYzNWEyZTIuc2V0Q29udGVudChodG1sXzhhZDgyMTFjMmIwZTRkMzY4YWZiMTAxZDQyNGQzMzI1KTsKICAgICAgICAKCiAgICAgICAgY2lyY2xlX21hcmtlcl9lOWU0MjZjNTkyY2Y0MDZiYTdlZjE2MjVhOTEzN2NiMi5iaW5kUG9wdXAocG9wdXBfNGVjNGM2MTc4MzRkNDZkMjk4MDZmNWUyMDYzNWEyZTIpCiAgICAgICAgOwoKICAgICAgICAKICAgIAogICAgCiAgICAgICAgICAgIHZhciBjaXJjbGVfbWFya2VyXzY1NjNlYTEyMjhmODQ2MTFhNTQ4NGEzYzBjZjI1YzIyID0gTC5jaXJjbGVNYXJrZXIoCiAgICAgICAgICAgICAgICBbNDMuNjU5NTI1NSwgLTc5LjM0MDkyM10sCiAgICAgICAgICAgICAgICB7ImJ1YmJsaW5nTW91c2VFdmVudHMiOiB0cnVlLCAiY29sb3IiOiAicmVkIiwgImRhc2hBcnJheSI6IG51bGwsICJkYXNoT2Zmc2V0IjogbnVsbCwgImZpbGwiOiB0cnVlLCAiZmlsbENvbG9yIjogIiMzMTg2Y2MiLCAiZmlsbE9wYWNpdHkiOiAwLjcsICJmaWxsUnVsZSI6ICJldmVub2RkIiwgImxpbmVDYXAiOiAicm91bmQiLCAibGluZUpvaW4iOiAicm91bmQiLCAib3BhY2l0eSI6IDEuMCwgInJhZGl1cyI6IDQsICJzdHJva2UiOiB0cnVlLCAid2VpZ2h0IjogM30KICAgICAgICAgICAgKS5hZGRUbyhtYXBfYzIxZmExNjEzN2QxNDdkYmE1OWZmZWIyMTE5OWM3N2YpOwogICAgICAgIAogICAgCiAgICAgICAgdmFyIHBvcHVwXzVmYjE1ZGM2MGMzMTQ4ODNiNjgyOWEwZWRiNTlmMTc0ID0gTC5wb3B1cCh7Im1heFdpZHRoIjogIjEwMCUifSk7CgogICAgICAgIAogICAgICAgICAgICB2YXIgaHRtbF9lOWRiZDI3ZjgyNGQ0MmIwODkwOGU1YzViOTZiNjg0MSA9ICQoYDxkaXYgaWQ9Imh0bWxfZTlkYmQyN2Y4MjRkNDJiMDg5MDhlNWM1Yjk2YjY4NDEiIHN0eWxlPSJ3aWR0aDogMTAwLjAlOyBoZWlnaHQ6IDEwMC4wJTsiPkVhc3QgVG9yb250bywgTTRNLCBTdHVkaW8gRGlzdHJpY3Q8L2Rpdj5gKVswXTsKICAgICAgICAgICAgcG9wdXBfNWZiMTVkYzYwYzMxNDg4M2I2ODI5YTBlZGI1OWYxNzQuc2V0Q29udGVudChodG1sX2U5ZGJkMjdmODI0ZDQyYjA4OTA4ZTVjNWI5NmI2ODQxKTsKICAgICAgICAKCiAgICAgICAgY2lyY2xlX21hcmtlcl82NTYzZWExMjI4Zjg0NjExYTU0ODRhM2MwY2YyNWMyMi5iaW5kUG9wdXAocG9wdXBfNWZiMTVkYzYwYzMxNDg4M2I2ODI5YTBlZGI1OWYxNzQpCiAgICAgICAgOwoKICAgICAgICAKICAgIAogICAgCiAgICAgICAgICAgIHZhciBjaXJjbGVfbWFya2VyX2ZjZGFlNWEyZmZlYTQ1NzI5ZjlmM2YxMzgwNDU5NDhlID0gTC5jaXJjbGVNYXJrZXIoCiAgICAgICAgICAgICAgICBbNDMuNzMzMjgyNSwgLTc5LjQxOTc0OTddLAogICAgICAgICAgICAgICAgeyJidWJibGluZ01vdXNlRXZlbnRzIjogdHJ1ZSwgImNvbG9yIjogInJlZCIsICJkYXNoQXJyYXkiOiBudWxsLCAiZGFzaE9mZnNldCI6IG51bGwsICJmaWxsIjogdHJ1ZSwgImZpbGxDb2xvciI6ICIjMzE4NmNjIiwgImZpbGxPcGFjaXR5IjogMC43LCAiZmlsbFJ1bGUiOiAiZXZlbm9kZCIsICJsaW5lQ2FwIjogInJvdW5kIiwgImxpbmVKb2luIjogInJvdW5kIiwgIm9wYWNpdHkiOiAxLjAsICJyYWRpdXMiOiA0LCAic3Ryb2tlIjogdHJ1ZSwgIndlaWdodCI6IDN9CiAgICAgICAgICAgICkuYWRkVG8obWFwX2MyMWZhMTYxMzdkMTQ3ZGJhNTlmZmViMjExOTljNzdmKTsKICAgICAgICAKICAgIAogICAgICAgIHZhciBwb3B1cF9kOTY0NTgwMjJkNzQ0Yjc0YTM5ZDM5Nzg3MGYzODU3ZCA9IEwucG9wdXAoeyJtYXhXaWR0aCI6ICIxMDAlIn0pOwoKICAgICAgICAKICAgICAgICAgICAgdmFyIGh0bWxfMWFhNjM2ZTRiYmMxNDgzM2EyMGI5NzE4NDg4YzM2YjEgPSAkKGA8ZGl2IGlkPSJodG1sXzFhYTYzNmU0YmJjMTQ4MzNhMjBiOTcxODQ4OGMzNmIxIiBzdHlsZT0id2lkdGg6IDEwMC4wJTsgaGVpZ2h0OiAxMDAuMCU7Ij5Ob3J0aCBZb3JrLCBNNU0sIEJlZGZvcmQgUGFyayAvIExhd3JlbmNlIE1hbm9yIEVhc3Q8L2Rpdj5gKVswXTsKICAgICAgICAgICAgcG9wdXBfZDk2NDU4MDIyZDc0NGI3NGEzOWQzOTc4NzBmMzg1N2Quc2V0Q29udGVudChodG1sXzFhYTYzNmU0YmJjMTQ4MzNhMjBiOTcxODQ4OGMzNmIxKTsKICAgICAgICAKCiAgICAgICAgY2lyY2xlX21hcmtlcl9mY2RhZTVhMmZmZWE0NTcyOWY5ZjNmMTM4MDQ1OTQ4ZS5iaW5kUG9wdXAocG9wdXBfZDk2NDU4MDIyZDc0NGI3NGEzOWQzOTc4NzBmMzg1N2QpCiAgICAgICAgOwoKICAgICAgICAKICAgIAogICAgCiAgICAgICAgICAgIHZhciBjaXJjbGVfbWFya2VyXzI1ZDE1ZjNhYmQyYzRiNzdhMGEyNzNlY2ZjMzAyMGQ0ID0gTC5jaXJjbGVNYXJrZXIoCiAgICAgICAgICAgICAgICBbNDMuNjkxMTE1OCwgLTc5LjQ3NjAxMzI5OTk5OTk5XSwKICAgICAgICAgICAgICAgIHsiYnViYmxpbmdNb3VzZUV2ZW50cyI6IHRydWUsICJjb2xvciI6ICJyZWQiLCAiZGFzaEFycmF5IjogbnVsbCwgImRhc2hPZmZzZXQiOiBudWxsLCAiZmlsbCI6IHRydWUsICJmaWxsQ29sb3IiOiAiIzMxODZjYyIsICJmaWxsT3BhY2l0eSI6IDAuNywgImZpbGxSdWxlIjogImV2ZW5vZGQiLCAibGluZUNhcCI6ICJyb3VuZCIsICJsaW5lSm9pbiI6ICJyb3VuZCIsICJvcGFjaXR5IjogMS4wLCAicmFkaXVzIjogNCwgInN0cm9rZSI6IHRydWUsICJ3ZWlnaHQiOiAzfQogICAgICAgICAgICApLmFkZFRvKG1hcF9jMjFmYTE2MTM3ZDE0N2RiYTU5ZmZlYjIxMTk5Yzc3Zik7CiAgICAgICAgCiAgICAKICAgICAgICB2YXIgcG9wdXBfMTJkMDI5ZjBiMWZjNDFkY2IyNGQ1YjEyZGFmN2IzZWQgPSBMLnBvcHVwKHsibWF4V2lkdGgiOiAiMTAwJSJ9KTsKCiAgICAgICAgCiAgICAgICAgICAgIHZhciBodG1sX2M0NWU3YWZkMjBmMjRmNmU5MWMwNGIwOTYzMzNjODA4ID0gJChgPGRpdiBpZD0iaHRtbF9jNDVlN2FmZDIwZjI0ZjZlOTFjMDRiMDk2MzMzYzgwOCIgc3R5bGU9IndpZHRoOiAxMDAuMCU7IGhlaWdodDogMTAwLjAlOyI+WW9yaywgTTZNLCBEZWwgUmF5IC8gTW91bnQgRGVubmlzIC8gS2VlbHNkYWxlIGFuZCBTaWx2ZXJ0aG9ybjwvZGl2PmApWzBdOwogICAgICAgICAgICBwb3B1cF8xMmQwMjlmMGIxZmM0MWRjYjI0ZDViMTJkYWY3YjNlZC5zZXRDb250ZW50KGh0bWxfYzQ1ZTdhZmQyMGYyNGY2ZTkxYzA0YjA5NjMzM2M4MDgpOwogICAgICAgIAoKICAgICAgICBjaXJjbGVfbWFya2VyXzI1ZDE1ZjNhYmQyYzRiNzdhMGEyNzNlY2ZjMzAyMGQ0LmJpbmRQb3B1cChwb3B1cF8xMmQwMjlmMGIxZmM0MWRjYjI0ZDViMTJkYWY3YjNlZCkKICAgICAgICA7CgogICAgICAgIAogICAgCiAgICAKICAgICAgICAgICAgdmFyIGNpcmNsZV9tYXJrZXJfMDYxMDE4Zjk4Njk2NDQxMjkxNGY5M2VmNzYyYWJkYTMgPSBMLmNpcmNsZU1hcmtlcigKICAgICAgICAgICAgICAgIFs0My43MjQ3NjU5LCAtNzkuNTMyMjQyNDAwMDAwMDJdLAogICAgICAgICAgICAgICAgeyJidWJibGluZ01vdXNlRXZlbnRzIjogdHJ1ZSwgImNvbG9yIjogInJlZCIsICJkYXNoQXJyYXkiOiBudWxsLCAiZGFzaE9mZnNldCI6IG51bGwsICJmaWxsIjogdHJ1ZSwgImZpbGxDb2xvciI6ICIjMzE4NmNjIiwgImZpbGxPcGFjaXR5IjogMC43LCAiZmlsbFJ1bGUiOiAiZXZlbm9kZCIsICJsaW5lQ2FwIjogInJvdW5kIiwgImxpbmVKb2luIjogInJvdW5kIiwgIm9wYWNpdHkiOiAxLjAsICJyYWRpdXMiOiA0LCAic3Ryb2tlIjogdHJ1ZSwgIndlaWdodCI6IDN9CiAgICAgICAgICAgICkuYWRkVG8obWFwX2MyMWZhMTYxMzdkMTQ3ZGJhNTlmZmViMjExOTljNzdmKTsKICAgICAgICAKICAgIAogICAgICAgIHZhciBwb3B1cF80ODU1NTBhM2IzY2U0NmNhYTExZjIwYzA5ZTU2N2QyMiA9IEwucG9wdXAoeyJtYXhXaWR0aCI6ICIxMDAlIn0pOwoKICAgICAgICAKICAgICAgICAgICAgdmFyIGh0bWxfZThhNmYzZmYyMGI5NGMyMGJmYjE1NDc0NDk1NWMzMzggPSAkKGA8ZGl2IGlkPSJodG1sX2U4YTZmM2ZmMjBiOTRjMjBiZmIxNTQ3NDQ5NTVjMzM4IiBzdHlsZT0id2lkdGg6IDEwMC4wJTsgaGVpZ2h0OiAxMDAuMCU7Ij5Ob3J0aCBZb3JrLCBNOU0sIEh1bWJlcmxlYSAvIEVtZXJ5PC9kaXY+YClbMF07CiAgICAgICAgICAgIHBvcHVwXzQ4NTU1MGEzYjNjZTQ2Y2FhMTFmMjBjMDllNTY3ZDIyLnNldENvbnRlbnQoaHRtbF9lOGE2ZjNmZjIwYjk0YzIwYmZiMTU0NzQ0OTU1YzMzOCk7CiAgICAgICAgCgogICAgICAgIGNpcmNsZV9tYXJrZXJfMDYxMDE4Zjk4Njk2NDQxMjkxNGY5M2VmNzYyYWJkYTMuYmluZFBvcHVwKHBvcHVwXzQ4NTU1MGEzYjNjZTQ2Y2FhMTFmMjBjMDllNTY3ZDIyKQogICAgICAgIDsKCiAgICAgICAgCiAgICAKICAgIAogICAgICAgICAgICB2YXIgY2lyY2xlX21hcmtlcl9mMjlmMDFmY2YyMTE0ZjcwOWJiZmE2YTRlZDE5YWNlYyA9IEwuY2lyY2xlTWFya2VyKAogICAgICAgICAgICAgICAgWzQzLjY5MjY1NzAwMDAwMDAwNCwgLTc5LjI2NDg0ODFdLAogICAgICAgICAgICAgICAgeyJidWJibGluZ01vdXNlRXZlbnRzIjogdHJ1ZSwgImNvbG9yIjogInJlZCIsICJkYXNoQXJyYXkiOiBudWxsLCAiZGFzaE9mZnNldCI6IG51bGwsICJmaWxsIjogdHJ1ZSwgImZpbGxDb2xvciI6ICIjMzE4NmNjIiwgImZpbGxPcGFjaXR5IjogMC43LCAiZmlsbFJ1bGUiOiAiZXZlbm9kZCIsICJsaW5lQ2FwIjogInJvdW5kIiwgImxpbmVKb2luIjogInJvdW5kIiwgIm9wYWNpdHkiOiAxLjAsICJyYWRpdXMiOiA0LCAic3Ryb2tlIjogdHJ1ZSwgIndlaWdodCI6IDN9CiAgICAgICAgICAgICkuYWRkVG8obWFwX2MyMWZhMTYxMzdkMTQ3ZGJhNTlmZmViMjExOTljNzdmKTsKICAgICAgICAKICAgIAogICAgICAgIHZhciBwb3B1cF85NTMzZGJkZjRlODA0YzM0OGUwMDFlODA2NTc1MWZhYSA9IEwucG9wdXAoeyJtYXhXaWR0aCI6ICIxMDAlIn0pOwoKICAgICAgICAKICAgICAgICAgICAgdmFyIGh0bWxfMzc2Y2U1YTJlOWFiNDA5OWI1YmJiZmNmMDQ1NTBkMWUgPSAkKGA8ZGl2IGlkPSJodG1sXzM3NmNlNWEyZTlhYjQwOTliNWJiYmZjZjA0NTUwZDFlIiBzdHlsZT0id2lkdGg6IDEwMC4wJTsgaGVpZ2h0OiAxMDAuMCU7Ij5TY2FyYm9yb3VnaCwgTTFOLCBCaXJjaCBDbGlmZiAvIENsaWZmc2lkZSBXZXN0PC9kaXY+YClbMF07CiAgICAgICAgICAgIHBvcHVwXzk1MzNkYmRmNGU4MDRjMzQ4ZTAwMWU4MDY1NzUxZmFhLnNldENvbnRlbnQoaHRtbF8zNzZjZTVhMmU5YWI0MDk5YjViYmJmY2YwNDU1MGQxZSk7CiAgICAgICAgCgogICAgICAgIGNpcmNsZV9tYXJrZXJfZjI5ZjAxZmNmMjExNGY3MDliYmZhNmE0ZWQxOWFjZWMuYmluZFBvcHVwKHBvcHVwXzk1MzNkYmRmNGU4MDRjMzQ4ZTAwMWU4MDY1NzUxZmFhKQogICAgICAgIDsKCiAgICAgICAgCiAgICAKICAgIAogICAgICAgICAgICB2YXIgY2lyY2xlX21hcmtlcl8wOWNkZmIwMDJhZjY0NTE1ODA2OWEwMTYyY2MyMzlhNiA9IEwuY2lyY2xlTWFya2VyKAogICAgICAgICAgICAgICAgWzQzLjc3MDExOTksIC03OS40MDg0OTI3OTk5OTk5OV0sCiAgICAgICAgICAgICAgICB7ImJ1YmJsaW5nTW91c2VFdmVudHMiOiB0cnVlLCAiY29sb3IiOiAicmVkIiwgImRhc2hBcnJheSI6IG51bGwsICJkYXNoT2Zmc2V0IjogbnVsbCwgImZpbGwiOiB0cnVlLCAiZmlsbENvbG9yIjogIiMzMTg2Y2MiLCAiZmlsbE9wYWNpdHkiOiAwLjcsICJmaWxsUnVsZSI6ICJldmVub2RkIiwgImxpbmVDYXAiOiAicm91bmQiLCAibGluZUpvaW4iOiAicm91bmQiLCAib3BhY2l0eSI6IDEuMCwgInJhZGl1cyI6IDQsICJzdHJva2UiOiB0cnVlLCAid2VpZ2h0IjogM30KICAgICAgICAgICAgKS5hZGRUbyhtYXBfYzIxZmExNjEzN2QxNDdkYmE1OWZmZWIyMTE5OWM3N2YpOwogICAgICAgIAogICAgCiAgICAgICAgdmFyIHBvcHVwX2IwZDdiMmQwN2IzZTRjOTY4YjY1ZDEwYmU1OWY4ZWNhID0gTC5wb3B1cCh7Im1heFdpZHRoIjogIjEwMCUifSk7CgogICAgICAgIAogICAgICAgICAgICB2YXIgaHRtbF9kZWE2NGMyNWFiNjU0YzVmYWExZDY2ZDE2MmVlNmUxYiA9ICQoYDxkaXYgaWQ9Imh0bWxfZGVhNjRjMjVhYjY1NGM1ZmFhMWQ2NmQxNjJlZTZlMWIiIHN0eWxlPSJ3aWR0aDogMTAwLjAlOyBoZWlnaHQ6IDEwMC4wJTsiPk5vcnRoIFlvcmssIE0yTiwgV2lsbG93ZGFsZTwvZGl2PmApWzBdOwogICAgICAgICAgICBwb3B1cF9iMGQ3YjJkMDdiM2U0Yzk2OGI2NWQxMGJlNTlmOGVjYS5zZXRDb250ZW50KGh0bWxfZGVhNjRjMjVhYjY1NGM1ZmFhMWQ2NmQxNjJlZTZlMWIpOwogICAgICAgIAoKICAgICAgICBjaXJjbGVfbWFya2VyXzA5Y2RmYjAwMmFmNjQ1MTU4MDY5YTAxNjJjYzIzOWE2LmJpbmRQb3B1cChwb3B1cF9iMGQ3YjJkMDdiM2U0Yzk2OGI2NWQxMGJlNTlmOGVjYSkKICAgICAgICA7CgogICAgICAgIAogICAgCiAgICAKICAgICAgICAgICAgdmFyIGNpcmNsZV9tYXJrZXJfMTc0NjgyZWY5Y2YwNDU4OWJhZDg3OTBkNWM0YzQ1NDQgPSBMLmNpcmNsZU1hcmtlcigKICAgICAgICAgICAgICAgIFs0My43NjE2MzEzLCAtNzkuNTIwOTk5NDAwMDAwMDFdLAogICAgICAgICAgICAgICAgeyJidWJibGluZ01vdXNlRXZlbnRzIjogdHJ1ZSwgImNvbG9yIjogInJlZCIsICJkYXNoQXJyYXkiOiBudWxsLCAiZGFzaE9mZnNldCI6IG51bGwsICJmaWxsIjogdHJ1ZSwgImZpbGxDb2xvciI6ICIjMzE4NmNjIiwgImZpbGxPcGFjaXR5IjogMC43LCAiZmlsbFJ1bGUiOiAiZXZlbm9kZCIsICJsaW5lQ2FwIjogInJvdW5kIiwgImxpbmVKb2luIjogInJvdW5kIiwgIm9wYWNpdHkiOiAxLjAsICJyYWRpdXMiOiA0LCAic3Ryb2tlIjogdHJ1ZSwgIndlaWdodCI6IDN9CiAgICAgICAgICAgICkuYWRkVG8obWFwX2MyMWZhMTYxMzdkMTQ3ZGJhNTlmZmViMjExOTljNzdmKTsKICAgICAgICAKICAgIAogICAgICAgIHZhciBwb3B1cF9jMzE0Y2ZjMmQxMWY0MWY4OTc5ZDFhNDEzNWIzNGJmYiA9IEwucG9wdXAoeyJtYXhXaWR0aCI6ICIxMDAlIn0pOwoKICAgICAgICAKICAgICAgICAgICAgdmFyIGh0bWxfMTlhZTYzZjAzMzVmNGQzNmJjZWViYzdjZjc4NWFmNTYgPSAkKGA8ZGl2IGlkPSJodG1sXzE5YWU2M2YwMzM1ZjRkMzZiY2VlYmM3Y2Y3ODVhZjU2IiBzdHlsZT0id2lkdGg6IDEwMC4wJTsgaGVpZ2h0OiAxMDAuMCU7Ij5Ob3J0aCBZb3JrLCBNM04sIERvd25zdmlldzwvZGl2PmApWzBdOwogICAgICAgICAgICBwb3B1cF9jMzE0Y2ZjMmQxMWY0MWY4OTc5ZDFhNDEzNWIzNGJmYi5zZXRDb250ZW50KGh0bWxfMTlhZTYzZjAzMzVmNGQzNmJjZWViYzdjZjc4NWFmNTYpOwogICAgICAgIAoKICAgICAgICBjaXJjbGVfbWFya2VyXzE3NDY4MmVmOWNmMDQ1ODliYWQ4NzkwZDVjNGM0NTQ0LmJpbmRQb3B1cChwb3B1cF9jMzE0Y2ZjMmQxMWY0MWY4OTc5ZDFhNDEzNWIzNGJmYikKICAgICAgICA7CgogICAgICAgIAogICAgCiAgICAKICAgICAgICAgICAgdmFyIGNpcmNsZV9tYXJrZXJfZmFmYjM0YjE5YWFmNGI0NDlmZGI3ZmMyMzRlZDQ4YzQgPSBMLmNpcmNsZU1hcmtlcigKICAgICAgICAgICAgICAgIFs0My43MjgwMjA1LCAtNzkuMzg4NzkwMV0sCiAgICAgICAgICAgICAgICB7ImJ1YmJsaW5nTW91c2VFdmVudHMiOiB0cnVlLCAiY29sb3IiOiAicmVkIiwgImRhc2hBcnJheSI6IG51bGwsICJkYXNoT2Zmc2V0IjogbnVsbCwgImZpbGwiOiB0cnVlLCAiZmlsbENvbG9yIjogIiMzMTg2Y2MiLCAiZmlsbE9wYWNpdHkiOiAwLjcsICJmaWxsUnVsZSI6ICJldmVub2RkIiwgImxpbmVDYXAiOiAicm91bmQiLCAibGluZUpvaW4iOiAicm91bmQiLCAib3BhY2l0eSI6IDEuMCwgInJhZGl1cyI6IDQsICJzdHJva2UiOiB0cnVlLCAid2VpZ2h0IjogM30KICAgICAgICAgICAgKS5hZGRUbyhtYXBfYzIxZmExNjEzN2QxNDdkYmE1OWZmZWIyMTE5OWM3N2YpOwogICAgICAgIAogICAgCiAgICAgICAgdmFyIHBvcHVwXzU4NjBmNjA3OTY0MjQyNjNhNGFhYjRjZGU2NzEzYjBkID0gTC5wb3B1cCh7Im1heFdpZHRoIjogIjEwMCUifSk7CgogICAgICAgIAogICAgICAgICAgICB2YXIgaHRtbF81NGY1ZDAwZDY3ZjM0YmIwYmY0MmI3M2E3MzU3MGQ5YyA9ICQoYDxkaXYgaWQ9Imh0bWxfNTRmNWQwMGQ2N2YzNGJiMGJmNDJiNzNhNzM1NzBkOWMiIHN0eWxlPSJ3aWR0aDogMTAwLjAlOyBoZWlnaHQ6IDEwMC4wJTsiPkNlbnRyYWwgVG9yb250bywgTTROLCBMYXdyZW5jZSBQYXJrPC9kaXY+YClbMF07CiAgICAgICAgICAgIHBvcHVwXzU4NjBmNjA3OTY0MjQyNjNhNGFhYjRjZGU2NzEzYjBkLnNldENvbnRlbnQoaHRtbF81NGY1ZDAwZDY3ZjM0YmIwYmY0MmI3M2E3MzU3MGQ5Yyk7CiAgICAgICAgCgogICAgICAgIGNpcmNsZV9tYXJrZXJfZmFmYjM0YjE5YWFmNGI0NDlmZGI3ZmMyMzRlZDQ4YzQuYmluZFBvcHVwKHBvcHVwXzU4NjBmNjA3OTY0MjQyNjNhNGFhYjRjZGU2NzEzYjBkKQogICAgICAgIDsKCiAgICAgICAgCiAgICAKICAgIAogICAgICAgICAgICB2YXIgY2lyY2xlX21hcmtlcl81MTVlZjQ3ZTQ0YmM0NzhlYWRjOTM4MjdkMzFlNWRhNCA9IEwuY2lyY2xlTWFya2VyKAogICAgICAgICAgICAgICAgWzQzLjcxMTY5NDgsIC03OS40MTY5MzU1OTk5OTk5OV0sCiAgICAgICAgICAgICAgICB7ImJ1YmJsaW5nTW91c2VFdmVudHMiOiB0cnVlLCAiY29sb3IiOiAicmVkIiwgImRhc2hBcnJheSI6IG51bGwsICJkYXNoT2Zmc2V0IjogbnVsbCwgImZpbGwiOiB0cnVlLCAiZmlsbENvbG9yIjogIiMzMTg2Y2MiLCAiZmlsbE9wYWNpdHkiOiAwLjcsICJmaWxsUnVsZSI6ICJldmVub2RkIiwgImxpbmVDYXAiOiAicm91bmQiLCAibGluZUpvaW4iOiAicm91bmQiLCAib3BhY2l0eSI6IDEuMCwgInJhZGl1cyI6IDQsICJzdHJva2UiOiB0cnVlLCAid2VpZ2h0IjogM30KICAgICAgICAgICAgKS5hZGRUbyhtYXBfYzIxZmExNjEzN2QxNDdkYmE1OWZmZWIyMTE5OWM3N2YpOwogICAgICAgIAogICAgCiAgICAgICAgdmFyIHBvcHVwX2U2MmNkMzZiNWNlZTQyYjJhNWViZDNkYjNkMjQzNjE4ID0gTC5wb3B1cCh7Im1heFdpZHRoIjogIjEwMCUifSk7CgogICAgICAgIAogICAgICAgICAgICB2YXIgaHRtbF81M2FlM2IxNjIyZTM0YzQxOWVkNWY0YzI3MzA4M2UxZCA9ICQoYDxkaXYgaWQ9Imh0bWxfNTNhZTNiMTYyMmUzNGM0MTllZDVmNGMyNzMwODNlMWQiIHN0eWxlPSJ3aWR0aDogMTAwLjAlOyBoZWlnaHQ6IDEwMC4wJTsiPkNlbnRyYWwgVG9yb250bywgTTVOLCBSb3NlbGF3bjwvZGl2PmApWzBdOwogICAgICAgICAgICBwb3B1cF9lNjJjZDM2YjVjZWU0MmIyYTVlYmQzZGIzZDI0MzYxOC5zZXRDb250ZW50KGh0bWxfNTNhZTNiMTYyMmUzNGM0MTllZDVmNGMyNzMwODNlMWQpOwogICAgICAgIAoKICAgICAgICBjaXJjbGVfbWFya2VyXzUxNWVmNDdlNDRiYzQ3OGVhZGM5MzgyN2QzMWU1ZGE0LmJpbmRQb3B1cChwb3B1cF9lNjJjZDM2YjVjZWU0MmIyYTVlYmQzZGIzZDI0MzYxOCkKICAgICAgICA7CgogICAgICAgIAogICAgCiAgICAKICAgICAgICAgICAgdmFyIGNpcmNsZV9tYXJrZXJfMjdhMDZiNGNiNzg1NGY5MzkyNjZiMGYzYzg2NWQ4NDYgPSBMLmNpcmNsZU1hcmtlcigKICAgICAgICAgICAgICAgIFs0My42NzMxODUyOTk5OTk5OSwgLTc5LjQ4NzI2MTkwMDAwMDAxXSwKICAgICAgICAgICAgICAgIHsiYnViYmxpbmdNb3VzZUV2ZW50cyI6IHRydWUsICJjb2xvciI6ICJyZWQiLCAiZGFzaEFycmF5IjogbnVsbCwgImRhc2hPZmZzZXQiOiBudWxsLCAiZmlsbCI6IHRydWUsICJmaWxsQ29sb3IiOiAiIzMxODZjYyIsICJmaWxsT3BhY2l0eSI6IDAuNywgImZpbGxSdWxlIjogImV2ZW5vZGQiLCAibGluZUNhcCI6ICJyb3VuZCIsICJsaW5lSm9pbiI6ICJyb3VuZCIsICJvcGFjaXR5IjogMS4wLCAicmFkaXVzIjogNCwgInN0cm9rZSI6IHRydWUsICJ3ZWlnaHQiOiAzfQogICAgICAgICAgICApLmFkZFRvKG1hcF9jMjFmYTE2MTM3ZDE0N2RiYTU5ZmZlYjIxMTk5Yzc3Zik7CiAgICAgICAgCiAgICAKICAgICAgICB2YXIgcG9wdXBfZjczNTg3YmE0NDEzNDQ5ZWI5OTY5MDA4ZGNiOWU5MTMgPSBMLnBvcHVwKHsibWF4V2lkdGgiOiAiMTAwJSJ9KTsKCiAgICAgICAgCiAgICAgICAgICAgIHZhciBodG1sX2ZjNjk3NTNkNzg2YzRiYWNiMGI0ZDI4ZmM0YjQxYjI2ID0gJChgPGRpdiBpZD0iaHRtbF9mYzY5NzUzZDc4NmM0YmFjYjBiNGQyOGZjNGI0MWIyNiIgc3R5bGU9IndpZHRoOiAxMDAuMCU7IGhlaWdodDogMTAwLjAlOyI+WW9yaywgTTZOLCBSdW5ueW1lZGUgLyBUaGUgSnVuY3Rpb24gTm9ydGg8L2Rpdj5gKVswXTsKICAgICAgICAgICAgcG9wdXBfZjczNTg3YmE0NDEzNDQ5ZWI5OTY5MDA4ZGNiOWU5MTMuc2V0Q29udGVudChodG1sX2ZjNjk3NTNkNzg2YzRiYWNiMGI0ZDI4ZmM0YjQxYjI2KTsKICAgICAgICAKCiAgICAgICAgY2lyY2xlX21hcmtlcl8yN2EwNmI0Y2I3ODU0ZjkzOTI2NmIwZjNjODY1ZDg0Ni5iaW5kUG9wdXAocG9wdXBfZjczNTg3YmE0NDEzNDQ5ZWI5OTY5MDA4ZGNiOWU5MTMpCiAgICAgICAgOwoKICAgICAgICAKICAgIAogICAgCiAgICAgICAgICAgIHZhciBjaXJjbGVfbWFya2VyXzk0MWU3M2Y5NTMxYzRhYjg5YmE2NDZjMjljNDE5MzQxID0gTC5jaXJjbGVNYXJrZXIoCiAgICAgICAgICAgICAgICBbNDMuNzA2ODc2LCAtNzkuNTE4MTg4NDAwMDAwMDFdLAogICAgICAgICAgICAgICAgeyJidWJibGluZ01vdXNlRXZlbnRzIjogdHJ1ZSwgImNvbG9yIjogInJlZCIsICJkYXNoQXJyYXkiOiBudWxsLCAiZGFzaE9mZnNldCI6IG51bGwsICJmaWxsIjogdHJ1ZSwgImZpbGxDb2xvciI6ICIjMzE4NmNjIiwgImZpbGxPcGFjaXR5IjogMC43LCAiZmlsbFJ1bGUiOiAiZXZlbm9kZCIsICJsaW5lQ2FwIjogInJvdW5kIiwgImxpbmVKb2luIjogInJvdW5kIiwgIm9wYWNpdHkiOiAxLjAsICJyYWRpdXMiOiA0LCAic3Ryb2tlIjogdHJ1ZSwgIndlaWdodCI6IDN9CiAgICAgICAgICAgICkuYWRkVG8obWFwX2MyMWZhMTYxMzdkMTQ3ZGJhNTlmZmViMjExOTljNzdmKTsKICAgICAgICAKICAgIAogICAgICAgIHZhciBwb3B1cF80NjFlNjQ4ZGM2ZWI0NjE0YjM3Mjc5ZTI4NTdjNDU1YyA9IEwucG9wdXAoeyJtYXhXaWR0aCI6ICIxMDAlIn0pOwoKICAgICAgICAKICAgICAgICAgICAgdmFyIGh0bWxfZGEzYWE1YzAzYTc1NDA4NmEzN2E5NzQwYTdiMzYzZGEgPSAkKGA8ZGl2IGlkPSJodG1sX2RhM2FhNWMwM2E3NTQwODZhMzdhOTc0MGE3YjM2M2RhIiBzdHlsZT0id2lkdGg6IDEwMC4wJTsgaGVpZ2h0OiAxMDAuMCU7Ij5Zb3JrLCBNOU4sIFdlc3RvbjwvZGl2PmApWzBdOwogICAgICAgICAgICBwb3B1cF80NjFlNjQ4ZGM2ZWI0NjE0YjM3Mjc5ZTI4NTdjNDU1Yy5zZXRDb250ZW50KGh0bWxfZGEzYWE1YzAzYTc1NDA4NmEzN2E5NzQwYTdiMzYzZGEpOwogICAgICAgIAoKICAgICAgICBjaXJjbGVfbWFya2VyXzk0MWU3M2Y5NTMxYzRhYjg5YmE2NDZjMjljNDE5MzQxLmJpbmRQb3B1cChwb3B1cF80NjFlNjQ4ZGM2ZWI0NjE0YjM3Mjc5ZTI4NTdjNDU1YykKICAgICAgICA7CgogICAgICAgIAogICAgCiAgICAKICAgICAgICAgICAgdmFyIGNpcmNsZV9tYXJrZXJfMjY2YzY1YzU0M2ZiNGI2NWExNzc3M2M4MDMxYWYyNzMgPSBMLmNpcmNsZU1hcmtlcigKICAgICAgICAgICAgICAgIFs0My43NTc0MDk2LCAtNzkuMjczMzA0MDAwMDAwMDFdLAogICAgICAgICAgICAgICAgeyJidWJibGluZ01vdXNlRXZlbnRzIjogdHJ1ZSwgImNvbG9yIjogInJlZCIsICJkYXNoQXJyYXkiOiBudWxsLCAiZGFzaE9mZnNldCI6IG51bGwsICJmaWxsIjogdHJ1ZSwgImZpbGxDb2xvciI6ICIjMzE4NmNjIiwgImZpbGxPcGFjaXR5IjogMC43LCAiZmlsbFJ1bGUiOiAiZXZlbm9kZCIsICJsaW5lQ2FwIjogInJvdW5kIiwgImxpbmVKb2luIjogInJvdW5kIiwgIm9wYWNpdHkiOiAxLjAsICJyYWRpdXMiOiA0LCAic3Ryb2tlIjogdHJ1ZSwgIndlaWdodCI6IDN9CiAgICAgICAgICAgICkuYWRkVG8obWFwX2MyMWZhMTYxMzdkMTQ3ZGJhNTlmZmViMjExOTljNzdmKTsKICAgICAgICAKICAgIAogICAgICAgIHZhciBwb3B1cF9iNDFlNDU4M2ViYmQ0YTU3OTkyYjE2ZDIwNGVmMTFlZiA9IEwucG9wdXAoeyJtYXhXaWR0aCI6ICIxMDAlIn0pOwoKICAgICAgICAKICAgICAgICAgICAgdmFyIGh0bWxfYjlhNjY2MTFlZjUwNGE2NjlkNThkMTkwODcwZDFjNDkgPSAkKGA8ZGl2IGlkPSJodG1sX2I5YTY2NjExZWY1MDRhNjY5ZDU4ZDE5MDg3MGQxYzQ5IiBzdHlsZT0id2lkdGg6IDEwMC4wJTsgaGVpZ2h0OiAxMDAuMCU7Ij5TY2FyYm9yb3VnaCwgTTFQLCBEb3JzZXQgUGFyayAvIFdleGZvcmQgSGVpZ2h0cyAvIFNjYXJib3JvdWdoIFRvd24gQ2VudHJlPC9kaXY+YClbMF07CiAgICAgICAgICAgIHBvcHVwX2I0MWU0NTgzZWJiZDRhNTc5OTJiMTZkMjA0ZWYxMWVmLnNldENvbnRlbnQoaHRtbF9iOWE2NjYxMWVmNTA0YTY2OWQ1OGQxOTA4NzBkMWM0OSk7CiAgICAgICAgCgogICAgICAgIGNpcmNsZV9tYXJrZXJfMjY2YzY1YzU0M2ZiNGI2NWExNzc3M2M4MDMxYWYyNzMuYmluZFBvcHVwKHBvcHVwX2I0MWU0NTgzZWJiZDRhNTc5OTJiMTZkMjA0ZWYxMWVmKQogICAgICAgIDsKCiAgICAgICAgCiAgICAKICAgIAogICAgICAgICAgICB2YXIgY2lyY2xlX21hcmtlcl9kNjA1OTI4YTk3MDU0YzBhYTY1NjYyNmI4NzUwN2IyZCA9IEwuY2lyY2xlTWFya2VyKAogICAgICAgICAgICAgICAgWzQzLjc1Mjc1ODI5OTk5OTk5NiwgLTc5LjQwMDA0OTNdLAogICAgICAgICAgICAgICAgeyJidWJibGluZ01vdXNlRXZlbnRzIjogdHJ1ZSwgImNvbG9yIjogInJlZCIsICJkYXNoQXJyYXkiOiBudWxsLCAiZGFzaE9mZnNldCI6IG51bGwsICJmaWxsIjogdHJ1ZSwgImZpbGxDb2xvciI6ICIjMzE4NmNjIiwgImZpbGxPcGFjaXR5IjogMC43LCAiZmlsbFJ1bGUiOiAiZXZlbm9kZCIsICJsaW5lQ2FwIjogInJvdW5kIiwgImxpbmVKb2luIjogInJvdW5kIiwgIm9wYWNpdHkiOiAxLjAsICJyYWRpdXMiOiA0LCAic3Ryb2tlIjogdHJ1ZSwgIndlaWdodCI6IDN9CiAgICAgICAgICAgICkuYWRkVG8obWFwX2MyMWZhMTYxMzdkMTQ3ZGJhNTlmZmViMjExOTljNzdmKTsKICAgICAgICAKICAgIAogICAgICAgIHZhciBwb3B1cF81MzZlZjYwOThhOGE0ZjdjYTZjMTcwOWZkNGYzODhmOSA9IEwucG9wdXAoeyJtYXhXaWR0aCI6ICIxMDAlIn0pOwoKICAgICAgICAKICAgICAgICAgICAgdmFyIGh0bWxfY2ViMGQ4Yjg1NWNhNGE4ODljZTdlNTE3MDVlMmVkN2MgPSAkKGA8ZGl2IGlkPSJodG1sX2NlYjBkOGI4NTVjYTRhODg5Y2U3ZTUxNzA1ZTJlZDdjIiBzdHlsZT0id2lkdGg6IDEwMC4wJTsgaGVpZ2h0OiAxMDAuMCU7Ij5Ob3J0aCBZb3JrLCBNMlAsIFlvcmsgTWlsbHMgV2VzdDwvZGl2PmApWzBdOwogICAgICAgICAgICBwb3B1cF81MzZlZjYwOThhOGE0ZjdjYTZjMTcwOWZkNGYzODhmOS5zZXRDb250ZW50KGh0bWxfY2ViMGQ4Yjg1NWNhNGE4ODljZTdlNTE3MDVlMmVkN2MpOwogICAgICAgIAoKICAgICAgICBjaXJjbGVfbWFya2VyX2Q2MDU5MjhhOTcwNTRjMGFhNjU2NjI2Yjg3NTA3YjJkLmJpbmRQb3B1cChwb3B1cF81MzZlZjYwOThhOGE0ZjdjYTZjMTcwOWZkNGYzODhmOSkKICAgICAgICA7CgogICAgICAgIAogICAgCiAgICAKICAgICAgICAgICAgdmFyIGNpcmNsZV9tYXJrZXJfYWRjZjVmOTBlMDZkNDk2MGI0ZmQ0ZWVlMTE5MDJhOTggPSBMLmNpcmNsZU1hcmtlcigKICAgICAgICAgICAgICAgIFs0My43MTI3NTExLCAtNzkuMzkwMTk3NV0sCiAgICAgICAgICAgICAgICB7ImJ1YmJsaW5nTW91c2VFdmVudHMiOiB0cnVlLCAiY29sb3IiOiAicmVkIiwgImRhc2hBcnJheSI6IG51bGwsICJkYXNoT2Zmc2V0IjogbnVsbCwgImZpbGwiOiB0cnVlLCAiZmlsbENvbG9yIjogIiMzMTg2Y2MiLCAiZmlsbE9wYWNpdHkiOiAwLjcsICJmaWxsUnVsZSI6ICJldmVub2RkIiwgImxpbmVDYXAiOiAicm91bmQiLCAibGluZUpvaW4iOiAicm91bmQiLCAib3BhY2l0eSI6IDEuMCwgInJhZGl1cyI6IDQsICJzdHJva2UiOiB0cnVlLCAid2VpZ2h0IjogM30KICAgICAgICAgICAgKS5hZGRUbyhtYXBfYzIxZmExNjEzN2QxNDdkYmE1OWZmZWIyMTE5OWM3N2YpOwogICAgICAgIAogICAgCiAgICAgICAgdmFyIHBvcHVwX2Q3NjViODk1YmMwNDQzMzBiNDgwODM3MzRhZDFhNzNhID0gTC5wb3B1cCh7Im1heFdpZHRoIjogIjEwMCUifSk7CgogICAgICAgIAogICAgICAgICAgICB2YXIgaHRtbF9iOGIwYzk5ODVmZDg0NGM1YTFkOGExNTRkNzg2ZjcxNiA9ICQoYDxkaXYgaWQ9Imh0bWxfYjhiMGM5OTg1ZmQ4NDRjNWExZDhhMTU0ZDc4NmY3MTYiIHN0eWxlPSJ3aWR0aDogMTAwLjAlOyBoZWlnaHQ6IDEwMC4wJTsiPkNlbnRyYWwgVG9yb250bywgTTRQLCBEYXZpc3ZpbGxlIE5vcnRoPC9kaXY+YClbMF07CiAgICAgICAgICAgIHBvcHVwX2Q3NjViODk1YmMwNDQzMzBiNDgwODM3MzRhZDFhNzNhLnNldENvbnRlbnQoaHRtbF9iOGIwYzk5ODVmZDg0NGM1YTFkOGExNTRkNzg2ZjcxNik7CiAgICAgICAgCgogICAgICAgIGNpcmNsZV9tYXJrZXJfYWRjZjVmOTBlMDZkNDk2MGI0ZmQ0ZWVlMTE5MDJhOTguYmluZFBvcHVwKHBvcHVwX2Q3NjViODk1YmMwNDQzMzBiNDgwODM3MzRhZDFhNzNhKQogICAgICAgIDsKCiAgICAgICAgCiAgICAKICAgIAogICAgICAgICAgICB2YXIgY2lyY2xlX21hcmtlcl9mY2VlYjc4NTRjMjQ0NDA1YjVhY2M2MjM1YmU3NTMzZSA9IEwuY2lyY2xlTWFya2VyKAogICAgICAgICAgICAgICAgWzQzLjY5Njk0NzYsIC03OS40MTEzMDcyMDAwMDAwMV0sCiAgICAgICAgICAgICAgICB7ImJ1YmJsaW5nTW91c2VFdmVudHMiOiB0cnVlLCAiY29sb3IiOiAicmVkIiwgImRhc2hBcnJheSI6IG51bGwsICJkYXNoT2Zmc2V0IjogbnVsbCwgImZpbGwiOiB0cnVlLCAiZmlsbENvbG9yIjogIiMzMTg2Y2MiLCAiZmlsbE9wYWNpdHkiOiAwLjcsICJmaWxsUnVsZSI6ICJldmVub2RkIiwgImxpbmVDYXAiOiAicm91bmQiLCAibGluZUpvaW4iOiAicm91bmQiLCAib3BhY2l0eSI6IDEuMCwgInJhZGl1cyI6IDQsICJzdHJva2UiOiB0cnVlLCAid2VpZ2h0IjogM30KICAgICAgICAgICAgKS5hZGRUbyhtYXBfYzIxZmExNjEzN2QxNDdkYmE1OWZmZWIyMTE5OWM3N2YpOwogICAgICAgIAogICAgCiAgICAgICAgdmFyIHBvcHVwXzY5YTRhMjVlODliZDQzYjE5MWU2NGVjYTI2MDc5MWIwID0gTC5wb3B1cCh7Im1heFdpZHRoIjogIjEwMCUifSk7CgogICAgICAgIAogICAgICAgICAgICB2YXIgaHRtbF9iYTExZGRjMmRhYWQ0NTA2ODg1MmI1YzU1MzQ2MTBiMCA9ICQoYDxkaXYgaWQ9Imh0bWxfYmExMWRkYzJkYWFkNDUwNjg4NTJiNWM1NTM0NjEwYjAiIHN0eWxlPSJ3aWR0aDogMTAwLjAlOyBoZWlnaHQ6IDEwMC4wJTsiPkNlbnRyYWwgVG9yb250bywgTTVQLCBGb3Jlc3QgSGlsbCBOb3J0aCAmYW1wOyBXZXN0PC9kaXY+YClbMF07CiAgICAgICAgICAgIHBvcHVwXzY5YTRhMjVlODliZDQzYjE5MWU2NGVjYTI2MDc5MWIwLnNldENvbnRlbnQoaHRtbF9iYTExZGRjMmRhYWQ0NTA2ODg1MmI1YzU1MzQ2MTBiMCk7CiAgICAgICAgCgogICAgICAgIGNpcmNsZV9tYXJrZXJfZmNlZWI3ODU0YzI0NDQwNWI1YWNjNjIzNWJlNzUzM2UuYmluZFBvcHVwKHBvcHVwXzY5YTRhMjVlODliZDQzYjE5MWU2NGVjYTI2MDc5MWIwKQogICAgICAgIDsKCiAgICAgICAgCiAgICAKICAgIAogICAgICAgICAgICB2YXIgY2lyY2xlX21hcmtlcl81NWVkMzQ3NTgwZjk0MmIxOThlYmFjODk1ZmZmZThhMiA9IEwuY2lyY2xlTWFya2VyKAogICAgICAgICAgICAgICAgWzQzLjY2MTYwODMsIC03OS40NjQ3NjMyOTk5OTk5OV0sCiAgICAgICAgICAgICAgICB7ImJ1YmJsaW5nTW91c2VFdmVudHMiOiB0cnVlLCAiY29sb3IiOiAicmVkIiwgImRhc2hBcnJheSI6IG51bGwsICJkYXNoT2Zmc2V0IjogbnVsbCwgImZpbGwiOiB0cnVlLCAiZmlsbENvbG9yIjogIiMzMTg2Y2MiLCAiZmlsbE9wYWNpdHkiOiAwLjcsICJmaWxsUnVsZSI6ICJldmVub2RkIiwgImxpbmVDYXAiOiAicm91bmQiLCAibGluZUpvaW4iOiAicm91bmQiLCAib3BhY2l0eSI6IDEuMCwgInJhZGl1cyI6IDQsICJzdHJva2UiOiB0cnVlLCAid2VpZ2h0IjogM30KICAgICAgICAgICAgKS5hZGRUbyhtYXBfYzIxZmExNjEzN2QxNDdkYmE1OWZmZWIyMTE5OWM3N2YpOwogICAgICAgIAogICAgCiAgICAgICAgdmFyIHBvcHVwXzc4MmI3M2FmZDZjMzRhYjU5YmE3NWEzNTI3NzRlYjc5ID0gTC5wb3B1cCh7Im1heFdpZHRoIjogIjEwMCUifSk7CgogICAgICAgIAogICAgICAgICAgICB2YXIgaHRtbF9lNmI2MTgyNTAyMzc0MmI2OGFhNDdkZTFkM2U5ZDcxMyA9ICQoYDxkaXYgaWQ9Imh0bWxfZTZiNjE4MjUwMjM3NDJiNjhhYTQ3ZGUxZDNlOWQ3MTMiIHN0eWxlPSJ3aWR0aDogMTAwLjAlOyBoZWlnaHQ6IDEwMC4wJTsiPldlc3QgVG9yb250bywgTTZQLCBIaWdoIFBhcmsgLyBUaGUgSnVuY3Rpb24gU291dGg8L2Rpdj5gKVswXTsKICAgICAgICAgICAgcG9wdXBfNzgyYjczYWZkNmMzNGFiNTliYTc1YTM1Mjc3NGViNzkuc2V0Q29udGVudChodG1sX2U2YjYxODI1MDIzNzQyYjY4YWE0N2RlMWQzZTlkNzEzKTsKICAgICAgICAKCiAgICAgICAgY2lyY2xlX21hcmtlcl81NWVkMzQ3NTgwZjk0MmIxOThlYmFjODk1ZmZmZThhMi5iaW5kUG9wdXAocG9wdXBfNzgyYjczYWZkNmMzNGFiNTliYTc1YTM1Mjc3NGViNzkpCiAgICAgICAgOwoKICAgICAgICAKICAgIAogICAgCiAgICAgICAgICAgIHZhciBjaXJjbGVfbWFya2VyX2NmM2I0YTVlNTNhNTQ5NzdhNTNlYzQyZDZlMjVmNGU5ID0gTC5jaXJjbGVNYXJrZXIoCiAgICAgICAgICAgICAgICBbNDMuNjk2MzE5LCAtNzkuNTMyMjQyNDAwMDAwMDJdLAogICAgICAgICAgICAgICAgeyJidWJibGluZ01vdXNlRXZlbnRzIjogdHJ1ZSwgImNvbG9yIjogInJlZCIsICJkYXNoQXJyYXkiOiBudWxsLCAiZGFzaE9mZnNldCI6IG51bGwsICJmaWxsIjogdHJ1ZSwgImZpbGxDb2xvciI6ICIjMzE4NmNjIiwgImZpbGxPcGFjaXR5IjogMC43LCAiZmlsbFJ1bGUiOiAiZXZlbm9kZCIsICJsaW5lQ2FwIjogInJvdW5kIiwgImxpbmVKb2luIjogInJvdW5kIiwgIm9wYWNpdHkiOiAxLjAsICJyYWRpdXMiOiA0LCAic3Ryb2tlIjogdHJ1ZSwgIndlaWdodCI6IDN9CiAgICAgICAgICAgICkuYWRkVG8obWFwX2MyMWZhMTYxMzdkMTQ3ZGJhNTlmZmViMjExOTljNzdmKTsKICAgICAgICAKICAgIAogICAgICAgIHZhciBwb3B1cF9lYzQzNjAxNDhlZWE0NDY1YjBhMWYxNWFkYWNkNGM5MyA9IEwucG9wdXAoeyJtYXhXaWR0aCI6ICIxMDAlIn0pOwoKICAgICAgICAKICAgICAgICAgICAgdmFyIGh0bWxfNzZlMDFiYmQyNDFiNGU5Mzg2Mjg3MDJlNWNhMDM2MTAgPSAkKGA8ZGl2IGlkPSJodG1sXzc2ZTAxYmJkMjQxYjRlOTM4NjI4NzAyZTVjYTAzNjEwIiBzdHlsZT0id2lkdGg6IDEwMC4wJTsgaGVpZ2h0OiAxMDAuMCU7Ij5FdG9iaWNva2UsIE05UCwgV2VzdG1vdW50PC9kaXY+YClbMF07CiAgICAgICAgICAgIHBvcHVwX2VjNDM2MDE0OGVlYTQ0NjViMGExZjE1YWRhY2Q0YzkzLnNldENvbnRlbnQoaHRtbF83NmUwMWJiZDI0MWI0ZTkzODYyODcwMmU1Y2EwMzYxMCk7CiAgICAgICAgCgogICAgICAgIGNpcmNsZV9tYXJrZXJfY2YzYjRhNWU1M2E1NDk3N2E1M2VjNDJkNmUyNWY0ZTkuYmluZFBvcHVwKHBvcHVwX2VjNDM2MDE0OGVlYTQ0NjViMGExZjE1YWRhY2Q0YzkzKQogICAgICAgIDsKCiAgICAgICAgCiAgICAKICAgIAogICAgICAgICAgICB2YXIgY2lyY2xlX21hcmtlcl81ZWZhNmU1N2QxMGI0YzFkYjM4ZTgyZDU2OTliZDQwMCA9IEwuY2lyY2xlTWFya2VyKAogICAgICAgICAgICAgICAgWzQzLjc1MDA3MTUwMDAwMDAwNCwgLTc5LjI5NTg0OTFdLAogICAgICAgICAgICAgICAgeyJidWJibGluZ01vdXNlRXZlbnRzIjogdHJ1ZSwgImNvbG9yIjogInJlZCIsICJkYXNoQXJyYXkiOiBudWxsLCAiZGFzaE9mZnNldCI6IG51bGwsICJmaWxsIjogdHJ1ZSwgImZpbGxDb2xvciI6ICIjMzE4NmNjIiwgImZpbGxPcGFjaXR5IjogMC43LCAiZmlsbFJ1bGUiOiAiZXZlbm9kZCIsICJsaW5lQ2FwIjogInJvdW5kIiwgImxpbmVKb2luIjogInJvdW5kIiwgIm9wYWNpdHkiOiAxLjAsICJyYWRpdXMiOiA0LCAic3Ryb2tlIjogdHJ1ZSwgIndlaWdodCI6IDN9CiAgICAgICAgICAgICkuYWRkVG8obWFwX2MyMWZhMTYxMzdkMTQ3ZGJhNTlmZmViMjExOTljNzdmKTsKICAgICAgICAKICAgIAogICAgICAgIHZhciBwb3B1cF84MzM4NzExNGIwMjk0MTM2YTFiZThkMTY0ZjM4YjZhNyA9IEwucG9wdXAoeyJtYXhXaWR0aCI6ICIxMDAlIn0pOwoKICAgICAgICAKICAgICAgICAgICAgdmFyIGh0bWxfYzdmNWNhNDUzZWYzNGNjZTgwNmU3MGYxYTBlMjkxNzUgPSAkKGA8ZGl2IGlkPSJodG1sX2M3ZjVjYTQ1M2VmMzRjY2U4MDZlNzBmMWEwZTI5MTc1IiBzdHlsZT0id2lkdGg6IDEwMC4wJTsgaGVpZ2h0OiAxMDAuMCU7Ij5TY2FyYm9yb3VnaCwgTTFSLCBXZXhmb3JkIC8gTWFyeXZhbGU8L2Rpdj5gKVswXTsKICAgICAgICAgICAgcG9wdXBfODMzODcxMTRiMDI5NDEzNmExYmU4ZDE2NGYzOGI2YTcuc2V0Q29udGVudChodG1sX2M3ZjVjYTQ1M2VmMzRjY2U4MDZlNzBmMWEwZTI5MTc1KTsKICAgICAgICAKCiAgICAgICAgY2lyY2xlX21hcmtlcl81ZWZhNmU1N2QxMGI0YzFkYjM4ZTgyZDU2OTliZDQwMC5iaW5kUG9wdXAocG9wdXBfODMzODcxMTRiMDI5NDEzNmExYmU4ZDE2NGYzOGI2YTcpCiAgICAgICAgOwoKICAgICAgICAKICAgIAogICAgCiAgICAgICAgICAgIHZhciBjaXJjbGVfbWFya2VyX2YxOGI0Mzk0OTY5NTRiZmRhNmQ4ZmMyZWViMTcxMWE3ID0gTC5jaXJjbGVNYXJrZXIoCiAgICAgICAgICAgICAgICBbNDMuNzgyNzM2NCwgLTc5LjQ0MjI1OTNdLAogICAgICAgICAgICAgICAgeyJidWJibGluZ01vdXNlRXZlbnRzIjogdHJ1ZSwgImNvbG9yIjogInJlZCIsICJkYXNoQXJyYXkiOiBudWxsLCAiZGFzaE9mZnNldCI6IG51bGwsICJmaWxsIjogdHJ1ZSwgImZpbGxDb2xvciI6ICIjMzE4NmNjIiwgImZpbGxPcGFjaXR5IjogMC43LCAiZmlsbFJ1bGUiOiAiZXZlbm9kZCIsICJsaW5lQ2FwIjogInJvdW5kIiwgImxpbmVKb2luIjogInJvdW5kIiwgIm9wYWNpdHkiOiAxLjAsICJyYWRpdXMiOiA0LCAic3Ryb2tlIjogdHJ1ZSwgIndlaWdodCI6IDN9CiAgICAgICAgICAgICkuYWRkVG8obWFwX2MyMWZhMTYxMzdkMTQ3ZGJhNTlmZmViMjExOTljNzdmKTsKICAgICAgICAKICAgIAogICAgICAgIHZhciBwb3B1cF85MmViYjI1MzVjZDk0NDU5YjFhZWQ2YTkyNDllMDYwMyA9IEwucG9wdXAoeyJtYXhXaWR0aCI6ICIxMDAlIn0pOwoKICAgICAgICAKICAgICAgICAgICAgdmFyIGh0bWxfODNiNjdhNmIyMjZlNDhlMGI1NmEyMzAxODk0ZmEwNmUgPSAkKGA8ZGl2IGlkPSJodG1sXzgzYjY3YTZiMjI2ZTQ4ZTBiNTZhMjMwMTg5NGZhMDZlIiBzdHlsZT0id2lkdGg6IDEwMC4wJTsgaGVpZ2h0OiAxMDAuMCU7Ij5Ob3J0aCBZb3JrLCBNMlIsIFdpbGxvd2RhbGU8L2Rpdj5gKVswXTsKICAgICAgICAgICAgcG9wdXBfOTJlYmIyNTM1Y2Q5NDQ1OWIxYWVkNmE5MjQ5ZTA2MDMuc2V0Q29udGVudChodG1sXzgzYjY3YTZiMjI2ZTQ4ZTBiNTZhMjMwMTg5NGZhMDZlKTsKICAgICAgICAKCiAgICAgICAgY2lyY2xlX21hcmtlcl9mMThiNDM5NDk2OTU0YmZkYTZkOGZjMmVlYjE3MTFhNy5iaW5kUG9wdXAocG9wdXBfOTJlYmIyNTM1Y2Q5NDQ1OWIxYWVkNmE5MjQ5ZTA2MDMpCiAgICAgICAgOwoKICAgICAgICAKICAgIAogICAgCiAgICAgICAgICAgIHZhciBjaXJjbGVfbWFya2VyX2Q2NTdhODgwNDkxOTQzYjc5NjFkZWMxOGIxZjNlNjVmID0gTC5jaXJjbGVNYXJrZXIoCiAgICAgICAgICAgICAgICBbNDMuNzE1MzgzNCwgLTc5LjQwNTY3ODQwMDAwMDAxXSwKICAgICAgICAgICAgICAgIHsiYnViYmxpbmdNb3VzZUV2ZW50cyI6IHRydWUsICJjb2xvciI6ICJyZWQiLCAiZGFzaEFycmF5IjogbnVsbCwgImRhc2hPZmZzZXQiOiBudWxsLCAiZmlsbCI6IHRydWUsICJmaWxsQ29sb3IiOiAiIzMxODZjYyIsICJmaWxsT3BhY2l0eSI6IDAuNywgImZpbGxSdWxlIjogImV2ZW5vZGQiLCAibGluZUNhcCI6ICJyb3VuZCIsICJsaW5lSm9pbiI6ICJyb3VuZCIsICJvcGFjaXR5IjogMS4wLCAicmFkaXVzIjogNCwgInN0cm9rZSI6IHRydWUsICJ3ZWlnaHQiOiAzfQogICAgICAgICAgICApLmFkZFRvKG1hcF9jMjFmYTE2MTM3ZDE0N2RiYTU5ZmZlYjIxMTk5Yzc3Zik7CiAgICAgICAgCiAgICAKICAgICAgICB2YXIgcG9wdXBfNjQ2YzE0MDMwNGQzNDRmY2JiNTUwMTVkZGI0YTdmZDkgPSBMLnBvcHVwKHsibWF4V2lkdGgiOiAiMTAwJSJ9KTsKCiAgICAgICAgCiAgICAgICAgICAgIHZhciBodG1sXzkzNjg0ODFmNzU0YTQxOTc5Yjc3YWY4YTVkZmRmZTMzID0gJChgPGRpdiBpZD0iaHRtbF85MzY4NDgxZjc1NGE0MTk3OWI3N2FmOGE1ZGZkZmUzMyIgc3R5bGU9IndpZHRoOiAxMDAuMCU7IGhlaWdodDogMTAwLjAlOyI+Q2VudHJhbCBUb3JvbnRvLCBNNFIsIE5vcnRoIFRvcm9udG8gV2VzdDwvZGl2PmApWzBdOwogICAgICAgICAgICBwb3B1cF82NDZjMTQwMzA0ZDM0NGZjYmI1NTAxNWRkYjRhN2ZkOS5zZXRDb250ZW50KGh0bWxfOTM2ODQ4MWY3NTRhNDE5NzliNzdhZjhhNWRmZGZlMzMpOwogICAgICAgIAoKICAgICAgICBjaXJjbGVfbWFya2VyX2Q2NTdhODgwNDkxOTQzYjc5NjFkZWMxOGIxZjNlNjVmLmJpbmRQb3B1cChwb3B1cF82NDZjMTQwMzA0ZDM0NGZjYmI1NTAxNWRkYjRhN2ZkOSkKICAgICAgICA7CgogICAgICAgIAogICAgCiAgICAKICAgICAgICAgICAgdmFyIGNpcmNsZV9tYXJrZXJfMTkwY2M3OGYyMTJlNDVmZjk1YjQ5NDg3ZWRjZDBiMDEgPSBMLmNpcmNsZU1hcmtlcigKICAgICAgICAgICAgICAgIFs0My42NzI3MDk3LCAtNzkuNDA1Njc4NDAwMDAwMDFdLAogICAgICAgICAgICAgICAgeyJidWJibGluZ01vdXNlRXZlbnRzIjogdHJ1ZSwgImNvbG9yIjogInJlZCIsICJkYXNoQXJyYXkiOiBudWxsLCAiZGFzaE9mZnNldCI6IG51bGwsICJmaWxsIjogdHJ1ZSwgImZpbGxDb2xvciI6ICIjMzE4NmNjIiwgImZpbGxPcGFjaXR5IjogMC43LCAiZmlsbFJ1bGUiOiAiZXZlbm9kZCIsICJsaW5lQ2FwIjogInJvdW5kIiwgImxpbmVKb2luIjogInJvdW5kIiwgIm9wYWNpdHkiOiAxLjAsICJyYWRpdXMiOiA0LCAic3Ryb2tlIjogdHJ1ZSwgIndlaWdodCI6IDN9CiAgICAgICAgICAgICkuYWRkVG8obWFwX2MyMWZhMTYxMzdkMTQ3ZGJhNTlmZmViMjExOTljNzdmKTsKICAgICAgICAKICAgIAogICAgICAgIHZhciBwb3B1cF9hZGJjNzJlNjY3Y2Y0MWNlYjQyNWY1MTcxNDQzMzc3NSA9IEwucG9wdXAoeyJtYXhXaWR0aCI6ICIxMDAlIn0pOwoKICAgICAgICAKICAgICAgICAgICAgdmFyIGh0bWxfMDU5ZmEyMTVhZmM2NDI0N2EyNDU2MWI5YjkyZDdlZTEgPSAkKGA8ZGl2IGlkPSJodG1sXzA1OWZhMjE1YWZjNjQyNDdhMjQ1NjFiOWI5MmQ3ZWUxIiBzdHlsZT0id2lkdGg6IDEwMC4wJTsgaGVpZ2h0OiAxMDAuMCU7Ij5DZW50cmFsIFRvcm9udG8sIE01UiwgVGhlIEFubmV4IC8gTm9ydGggTWlkdG93biAvIFlvcmt2aWxsZTwvZGl2PmApWzBdOwogICAgICAgICAgICBwb3B1cF9hZGJjNzJlNjY3Y2Y0MWNlYjQyNWY1MTcxNDQzMzc3NS5zZXRDb250ZW50KGh0bWxfMDU5ZmEyMTVhZmM2NDI0N2EyNDU2MWI5YjkyZDdlZTEpOwogICAgICAgIAoKICAgICAgICBjaXJjbGVfbWFya2VyXzE5MGNjNzhmMjEyZTQ1ZmY5NWI0OTQ4N2VkY2QwYjAxLmJpbmRQb3B1cChwb3B1cF9hZGJjNzJlNjY3Y2Y0MWNlYjQyNWY1MTcxNDQzMzc3NSkKICAgICAgICA7CgogICAgICAgIAogICAgCiAgICAKICAgICAgICAgICAgdmFyIGNpcmNsZV9tYXJrZXJfMTA0YWJjMTA3ZjdlNDRlMWFhMjMyNjMxMTNlMDM4MDAgPSBMLmNpcmNsZU1hcmtlcigKICAgICAgICAgICAgICAgIFs0My42NDg5NTk3LCAtNzkuNDU2MzI1XSwKICAgICAgICAgICAgICAgIHsiYnViYmxpbmdNb3VzZUV2ZW50cyI6IHRydWUsICJjb2xvciI6ICJyZWQiLCAiZGFzaEFycmF5IjogbnVsbCwgImRhc2hPZmZzZXQiOiBudWxsLCAiZmlsbCI6IHRydWUsICJmaWxsQ29sb3IiOiAiIzMxODZjYyIsICJmaWxsT3BhY2l0eSI6IDAuNywgImZpbGxSdWxlIjogImV2ZW5vZGQiLCAibGluZUNhcCI6ICJyb3VuZCIsICJsaW5lSm9pbiI6ICJyb3VuZCIsICJvcGFjaXR5IjogMS4wLCAicmFkaXVzIjogNCwgInN0cm9rZSI6IHRydWUsICJ3ZWlnaHQiOiAzfQogICAgICAgICAgICApLmFkZFRvKG1hcF9jMjFmYTE2MTM3ZDE0N2RiYTU5ZmZlYjIxMTk5Yzc3Zik7CiAgICAgICAgCiAgICAKICAgICAgICB2YXIgcG9wdXBfZWQ0YWY3YjAyMzk0NDU2YmEzYjhjZWRlODViYWVkMGUgPSBMLnBvcHVwKHsibWF4V2lkdGgiOiAiMTAwJSJ9KTsKCiAgICAgICAgCiAgICAgICAgICAgIHZhciBodG1sXzA3NmQxMzUzYjQxNDRjNGJiNmRmMDFhMWM4NWQ2MDNhID0gJChgPGRpdiBpZD0iaHRtbF8wNzZkMTM1M2I0MTQ0YzRiYjZkZjAxYTFjODVkNjAzYSIgc3R5bGU9IndpZHRoOiAxMDAuMCU7IGhlaWdodDogMTAwLjAlOyI+V2VzdCBUb3JvbnRvLCBNNlIsIFBhcmtkYWxlIC8gUm9uY2VzdmFsbGVzPC9kaXY+YClbMF07CiAgICAgICAgICAgIHBvcHVwX2VkNGFmN2IwMjM5NDQ1NmJhM2I4Y2VkZTg1YmFlZDBlLnNldENvbnRlbnQoaHRtbF8wNzZkMTM1M2I0MTQ0YzRiYjZkZjAxYTFjODVkNjAzYSk7CiAgICAgICAgCgogICAgICAgIGNpcmNsZV9tYXJrZXJfMTA0YWJjMTA3ZjdlNDRlMWFhMjMyNjMxMTNlMDM4MDAuYmluZFBvcHVwKHBvcHVwX2VkNGFmN2IwMjM5NDQ1NmJhM2I4Y2VkZTg1YmFlZDBlKQogICAgICAgIDsKCiAgICAgICAgCiAgICAKICAgIAogICAgICAgICAgICB2YXIgY2lyY2xlX21hcmtlcl8yOTc4MzZlM2JjZDY0ZTdlYjZiZTNmMTk4OWY2N2ZmNyA9IEwuY2lyY2xlTWFya2VyKAogICAgICAgICAgICAgICAgWzQzLjYzNjk2NTYsIC03OS42MTU4MTg5OTk5OTk5OV0sCiAgICAgICAgICAgICAgICB7ImJ1YmJsaW5nTW91c2VFdmVudHMiOiB0cnVlLCAiY29sb3IiOiAicmVkIiwgImRhc2hBcnJheSI6IG51bGwsICJkYXNoT2Zmc2V0IjogbnVsbCwgImZpbGwiOiB0cnVlLCAiZmlsbENvbG9yIjogIiMzMTg2Y2MiLCAiZmlsbE9wYWNpdHkiOiAwLjcsICJmaWxsUnVsZSI6ICJldmVub2RkIiwgImxpbmVDYXAiOiAicm91bmQiLCAibGluZUpvaW4iOiAicm91bmQiLCAib3BhY2l0eSI6IDEuMCwgInJhZGl1cyI6IDQsICJzdHJva2UiOiB0cnVlLCAid2VpZ2h0IjogM30KICAgICAgICAgICAgKS5hZGRUbyhtYXBfYzIxZmExNjEzN2QxNDdkYmE1OWZmZWIyMTE5OWM3N2YpOwogICAgICAgIAogICAgCiAgICAgICAgdmFyIHBvcHVwXzQzMDMzNWY5NjM0YzQxY2Y5YWQ2YjQwNDlmOWZjNzkyID0gTC5wb3B1cCh7Im1heFdpZHRoIjogIjEwMCUifSk7CgogICAgICAgIAogICAgICAgICAgICB2YXIgaHRtbF82MDVkMzMwYmJjZDM0MWNiOTY1YjdmZjU3MGFmNWJkMSA9ICQoYDxkaXYgaWQ9Imh0bWxfNjA1ZDMzMGJiY2QzNDFjYjk2NWI3ZmY1NzBhZjViZDEiIHN0eWxlPSJ3aWR0aDogMTAwLjAlOyBoZWlnaHQ6IDEwMC4wJTsiPk1pc3Npc3NhdWdhLCBNN1IsIENhbmFkYSBQb3N0IEdhdGV3YXkgUHJvY2Vzc2luZyBDZW50cmU8L2Rpdj5gKVswXTsKICAgICAgICAgICAgcG9wdXBfNDMwMzM1Zjk2MzRjNDFjZjlhZDZiNDA0OWY5ZmM3OTIuc2V0Q29udGVudChodG1sXzYwNWQzMzBiYmNkMzQxY2I5NjViN2ZmNTcwYWY1YmQxKTsKICAgICAgICAKCiAgICAgICAgY2lyY2xlX21hcmtlcl8yOTc4MzZlM2JjZDY0ZTdlYjZiZTNmMTk4OWY2N2ZmNy5iaW5kUG9wdXAocG9wdXBfNDMwMzM1Zjk2MzRjNDFjZjlhZDZiNDA0OWY5ZmM3OTIpCiAgICAgICAgOwoKICAgICAgICAKICAgIAogICAgCiAgICAgICAgICAgIHZhciBjaXJjbGVfbWFya2VyXzY3MDcyM2RiMzg3OTQ3NjdhNGRiOGE0NzE2OTRlYWJlID0gTC5jaXJjbGVNYXJrZXIoCiAgICAgICAgICAgICAgICBbNDMuNjg4OTA1NCwgLTc5LjU1NDcyNDQwMDAwMDAxXSwKICAgICAgICAgICAgICAgIHsiYnViYmxpbmdNb3VzZUV2ZW50cyI6IHRydWUsICJjb2xvciI6ICJyZWQiLCAiZGFzaEFycmF5IjogbnVsbCwgImRhc2hPZmZzZXQiOiBudWxsLCAiZmlsbCI6IHRydWUsICJmaWxsQ29sb3IiOiAiIzMxODZjYyIsICJmaWxsT3BhY2l0eSI6IDAuNywgImZpbGxSdWxlIjogImV2ZW5vZGQiLCAibGluZUNhcCI6ICJyb3VuZCIsICJsaW5lSm9pbiI6ICJyb3VuZCIsICJvcGFjaXR5IjogMS4wLCAicmFkaXVzIjogNCwgInN0cm9rZSI6IHRydWUsICJ3ZWlnaHQiOiAzfQogICAgICAgICAgICApLmFkZFRvKG1hcF9jMjFmYTE2MTM3ZDE0N2RiYTU5ZmZlYjIxMTk5Yzc3Zik7CiAgICAgICAgCiAgICAKICAgICAgICB2YXIgcG9wdXBfNmQ1YmIyZjQ3ZTlmNGJlNGJmYmJkMDZmZDYzMjNlZjMgPSBMLnBvcHVwKHsibWF4V2lkdGgiOiAiMTAwJSJ9KTsKCiAgICAgICAgCiAgICAgICAgICAgIHZhciBodG1sXzJlMTZkNWY3NWY4MTQ3MTk4M2VkNjM0YTE1NzcyNTAzID0gJChgPGRpdiBpZD0iaHRtbF8yZTE2ZDVmNzVmODE0NzE5ODNlZDYzNGExNTc3MjUwMyIgc3R5bGU9IndpZHRoOiAxMDAuMCU7IGhlaWdodDogMTAwLjAlOyI+RXRvYmljb2tlLCBNOVIsIEtpbmdzdmlldyBWaWxsYWdlIC8gU3QuIFBoaWxsaXBzIC8gTWFydGluIEdyb3ZlIEdhcmRlbnMgLyBSaWNodmlldyBHYXJkZW5zPC9kaXY+YClbMF07CiAgICAgICAgICAgIHBvcHVwXzZkNWJiMmY0N2U5ZjRiZTRiZmJiZDA2ZmQ2MzIzZWYzLnNldENvbnRlbnQoaHRtbF8yZTE2ZDVmNzVmODE0NzE5ODNlZDYzNGExNTc3MjUwMyk7CiAgICAgICAgCgogICAgICAgIGNpcmNsZV9tYXJrZXJfNjcwNzIzZGIzODc5NDc2N2E0ZGI4YTQ3MTY5NGVhYmUuYmluZFBvcHVwKHBvcHVwXzZkNWJiMmY0N2U5ZjRiZTRiZmJiZDA2ZmQ2MzIzZWYzKQogICAgICAgIDsKCiAgICAgICAgCiAgICAKICAgIAogICAgICAgICAgICB2YXIgY2lyY2xlX21hcmtlcl9jNGUwY2ExMDU1ODU0NTEwYTZlYmI0ODNjYTc2NWRlMyA9IEwuY2lyY2xlTWFya2VyKAogICAgICAgICAgICAgICAgWzQzLjc5NDIwMDMsIC03OS4yNjIwMjk0MDAwMDAwMl0sCiAgICAgICAgICAgICAgICB7ImJ1YmJsaW5nTW91c2VFdmVudHMiOiB0cnVlLCAiY29sb3IiOiAicmVkIiwgImRhc2hBcnJheSI6IG51bGwsICJkYXNoT2Zmc2V0IjogbnVsbCwgImZpbGwiOiB0cnVlLCAiZmlsbENvbG9yIjogIiMzMTg2Y2MiLCAiZmlsbE9wYWNpdHkiOiAwLjcsICJmaWxsUnVsZSI6ICJldmVub2RkIiwgImxpbmVDYXAiOiAicm91bmQiLCAibGluZUpvaW4iOiAicm91bmQiLCAib3BhY2l0eSI6IDEuMCwgInJhZGl1cyI6IDQsICJzdHJva2UiOiB0cnVlLCAid2VpZ2h0IjogM30KICAgICAgICAgICAgKS5hZGRUbyhtYXBfYzIxZmExNjEzN2QxNDdkYmE1OWZmZWIyMTE5OWM3N2YpOwogICAgICAgIAogICAgCiAgICAgICAgdmFyIHBvcHVwX2ExZmJkNjg5Y2VhNjRkMzU5YWY4ODU3YmNmODhjZTJlID0gTC5wb3B1cCh7Im1heFdpZHRoIjogIjEwMCUifSk7CgogICAgICAgIAogICAgICAgICAgICB2YXIgaHRtbF9lZTk2YWU3NzFiYWQ0ZDc3ODRhZDIxZDg5OWQ4ZDg3MCA9ICQoYDxkaXYgaWQ9Imh0bWxfZWU5NmFlNzcxYmFkNGQ3Nzg0YWQyMWQ4OTlkOGQ4NzAiIHN0eWxlPSJ3aWR0aDogMTAwLjAlOyBoZWlnaHQ6IDEwMC4wJTsiPlNjYXJib3JvdWdoLCBNMVMsIEFnaW5jb3VydDwvZGl2PmApWzBdOwogICAgICAgICAgICBwb3B1cF9hMWZiZDY4OWNlYTY0ZDM1OWFmODg1N2JjZjg4Y2UyZS5zZXRDb250ZW50KGh0bWxfZWU5NmFlNzcxYmFkNGQ3Nzg0YWQyMWQ4OTlkOGQ4NzApOwogICAgICAgIAoKICAgICAgICBjaXJjbGVfbWFya2VyX2M0ZTBjYTEwNTU4NTQ1MTBhNmViYjQ4M2NhNzY1ZGUzLmJpbmRQb3B1cChwb3B1cF9hMWZiZDY4OWNlYTY0ZDM1OWFmODg1N2JjZjg4Y2UyZSkKICAgICAgICA7CgogICAgICAgIAogICAgCiAgICAKICAgICAgICAgICAgdmFyIGNpcmNsZV9tYXJrZXJfMTc4NzgzNDI1YmEwNGVkYmIzMjE5M2QwZjIxMzNhMmUgPSBMLmNpcmNsZU1hcmtlcigKICAgICAgICAgICAgICAgIFs0My43MDQzMjQ0LCAtNzkuMzg4NzkwMV0sCiAgICAgICAgICAgICAgICB7ImJ1YmJsaW5nTW91c2VFdmVudHMiOiB0cnVlLCAiY29sb3IiOiAicmVkIiwgImRhc2hBcnJheSI6IG51bGwsICJkYXNoT2Zmc2V0IjogbnVsbCwgImZpbGwiOiB0cnVlLCAiZmlsbENvbG9yIjogIiMzMTg2Y2MiLCAiZmlsbE9wYWNpdHkiOiAwLjcsICJmaWxsUnVsZSI6ICJldmVub2RkIiwgImxpbmVDYXAiOiAicm91bmQiLCAibGluZUpvaW4iOiAicm91bmQiLCAib3BhY2l0eSI6IDEuMCwgInJhZGl1cyI6IDQsICJzdHJva2UiOiB0cnVlLCAid2VpZ2h0IjogM30KICAgICAgICAgICAgKS5hZGRUbyhtYXBfYzIxZmExNjEzN2QxNDdkYmE1OWZmZWIyMTE5OWM3N2YpOwogICAgICAgIAogICAgCiAgICAgICAgdmFyIHBvcHVwX2UwYzkyMmMyYzE3NzQ4ZDY4NTdlOGY1NzY2YzZmNGYyID0gTC5wb3B1cCh7Im1heFdpZHRoIjogIjEwMCUifSk7CgogICAgICAgIAogICAgICAgICAgICB2YXIgaHRtbF85YzEzZjVhNzU5OTI0ZGFkYTdmNWE2MWJmMjcyYjMzNSA9ICQoYDxkaXYgaWQ9Imh0bWxfOWMxM2Y1YTc1OTkyNGRhZGE3ZjVhNjFiZjI3MmIzMzUiIHN0eWxlPSJ3aWR0aDogMTAwLjAlOyBoZWlnaHQ6IDEwMC4wJTsiPkNlbnRyYWwgVG9yb250bywgTTRTLCBEYXZpc3ZpbGxlPC9kaXY+YClbMF07CiAgICAgICAgICAgIHBvcHVwX2UwYzkyMmMyYzE3NzQ4ZDY4NTdlOGY1NzY2YzZmNGYyLnNldENvbnRlbnQoaHRtbF85YzEzZjVhNzU5OTI0ZGFkYTdmNWE2MWJmMjcyYjMzNSk7CiAgICAgICAgCgogICAgICAgIGNpcmNsZV9tYXJrZXJfMTc4NzgzNDI1YmEwNGVkYmIzMjE5M2QwZjIxMzNhMmUuYmluZFBvcHVwKHBvcHVwX2UwYzkyMmMyYzE3NzQ4ZDY4NTdlOGY1NzY2YzZmNGYyKQogICAgICAgIDsKCiAgICAgICAgCiAgICAKICAgIAogICAgICAgICAgICB2YXIgY2lyY2xlX21hcmtlcl8xOWIxZDY4ZDU3NWU0ZTUzYmI2ZDBkMjJiYzQ5NzVkOSA9IEwuY2lyY2xlTWFya2VyKAogICAgICAgICAgICAgICAgWzQzLjY2MjY5NTYsIC03OS40MDAwNDkzXSwKICAgICAgICAgICAgICAgIHsiYnViYmxpbmdNb3VzZUV2ZW50cyI6IHRydWUsICJjb2xvciI6ICJyZWQiLCAiZGFzaEFycmF5IjogbnVsbCwgImRhc2hPZmZzZXQiOiBudWxsLCAiZmlsbCI6IHRydWUsICJmaWxsQ29sb3IiOiAiIzMxODZjYyIsICJmaWxsT3BhY2l0eSI6IDAuNywgImZpbGxSdWxlIjogImV2ZW5vZGQiLCAibGluZUNhcCI6ICJyb3VuZCIsICJsaW5lSm9pbiI6ICJyb3VuZCIsICJvcGFjaXR5IjogMS4wLCAicmFkaXVzIjogNCwgInN0cm9rZSI6IHRydWUsICJ3ZWlnaHQiOiAzfQogICAgICAgICAgICApLmFkZFRvKG1hcF9jMjFmYTE2MTM3ZDE0N2RiYTU5ZmZlYjIxMTk5Yzc3Zik7CiAgICAgICAgCiAgICAKICAgICAgICB2YXIgcG9wdXBfOTQwZTZmYjVkNTlmNGRkMDhlNzE1ZjRjMjcxZmY5ZWQgPSBMLnBvcHVwKHsibWF4V2lkdGgiOiAiMTAwJSJ9KTsKCiAgICAgICAgCiAgICAgICAgICAgIHZhciBodG1sX2U3YTU1ODRiNTQyMDRhNWRiN2RmMzg4M2E3Nzc4OTZlID0gJChgPGRpdiBpZD0iaHRtbF9lN2E1NTg0YjU0MjA0YTVkYjdkZjM4ODNhNzc3ODk2ZSIgc3R5bGU9IndpZHRoOiAxMDAuMCU7IGhlaWdodDogMTAwLjAlOyI+RG93bnRvd24gVG9yb250bywgTTVTLCBVbml2ZXJzaXR5IG9mIFRvcm9udG8gLyBIYXJib3JkPC9kaXY+YClbMF07CiAgICAgICAgICAgIHBvcHVwXzk0MGU2ZmI1ZDU5ZjRkZDA4ZTcxNWY0YzI3MWZmOWVkLnNldENvbnRlbnQoaHRtbF9lN2E1NTg0YjU0MjA0YTVkYjdkZjM4ODNhNzc3ODk2ZSk7CiAgICAgICAgCgogICAgICAgIGNpcmNsZV9tYXJrZXJfMTliMWQ2OGQ1NzVlNGU1M2JiNmQwZDIyYmM0OTc1ZDkuYmluZFBvcHVwKHBvcHVwXzk0MGU2ZmI1ZDU5ZjRkZDA4ZTcxNWY0YzI3MWZmOWVkKQogICAgICAgIDsKCiAgICAgICAgCiAgICAKICAgIAogICAgICAgICAgICB2YXIgY2lyY2xlX21hcmtlcl85MWIyZDI5ODlkYzI0NjgwYjc2MzAzNzYxNmEwZWFmYSA9IEwuY2lyY2xlTWFya2VyKAogICAgICAgICAgICAgICAgWzQzLjY1MTU3MDYsIC03OS40ODQ0NDk5XSwKICAgICAgICAgICAgICAgIHsiYnViYmxpbmdNb3VzZUV2ZW50cyI6IHRydWUsICJjb2xvciI6ICJyZWQiLCAiZGFzaEFycmF5IjogbnVsbCwgImRhc2hPZmZzZXQiOiBudWxsLCAiZmlsbCI6IHRydWUsICJmaWxsQ29sb3IiOiAiIzMxODZjYyIsICJmaWxsT3BhY2l0eSI6IDAuNywgImZpbGxSdWxlIjogImV2ZW5vZGQiLCAibGluZUNhcCI6ICJyb3VuZCIsICJsaW5lSm9pbiI6ICJyb3VuZCIsICJvcGFjaXR5IjogMS4wLCAicmFkaXVzIjogNCwgInN0cm9rZSI6IHRydWUsICJ3ZWlnaHQiOiAzfQogICAgICAgICAgICApLmFkZFRvKG1hcF9jMjFmYTE2MTM3ZDE0N2RiYTU5ZmZlYjIxMTk5Yzc3Zik7CiAgICAgICAgCiAgICAKICAgICAgICB2YXIgcG9wdXBfYzkzNWUwY2EyZGM2NGExY2FhZTE1MGE4YTlkODcxMzIgPSBMLnBvcHVwKHsibWF4V2lkdGgiOiAiMTAwJSJ9KTsKCiAgICAgICAgCiAgICAgICAgICAgIHZhciBodG1sX2YzNGE3MDFhMjVkMDRlNjM5OThmMGJlNjMzOTYyOWQzID0gJChgPGRpdiBpZD0iaHRtbF9mMzRhNzAxYTI1ZDA0ZTYzOTk4ZjBiZTYzMzk2MjlkMyIgc3R5bGU9IndpZHRoOiAxMDAuMCU7IGhlaWdodDogMTAwLjAlOyI+V2VzdCBUb3JvbnRvLCBNNlMsIFJ1bm55bWVkZSAvIFN3YW5zZWE8L2Rpdj5gKVswXTsKICAgICAgICAgICAgcG9wdXBfYzkzNWUwY2EyZGM2NGExY2FhZTE1MGE4YTlkODcxMzIuc2V0Q29udGVudChodG1sX2YzNGE3MDFhMjVkMDRlNjM5OThmMGJlNjMzOTYyOWQzKTsKICAgICAgICAKCiAgICAgICAgY2lyY2xlX21hcmtlcl85MWIyZDI5ODlkYzI0NjgwYjc2MzAzNzYxNmEwZWFmYS5iaW5kUG9wdXAocG9wdXBfYzkzNWUwY2EyZGM2NGExY2FhZTE1MGE4YTlkODcxMzIpCiAgICAgICAgOwoKICAgICAgICAKICAgIAogICAgCiAgICAgICAgICAgIHZhciBjaXJjbGVfbWFya2VyXzE5MjIyNWZkMjhjZTQ0YzNiMmRkN2E4YjM4YmRlN2VmID0gTC5jaXJjbGVNYXJrZXIoCiAgICAgICAgICAgICAgICBbNDMuNzgxNjM3NSwgLTc5LjMwNDMwMjFdLAogICAgICAgICAgICAgICAgeyJidWJibGluZ01vdXNlRXZlbnRzIjogdHJ1ZSwgImNvbG9yIjogInJlZCIsICJkYXNoQXJyYXkiOiBudWxsLCAiZGFzaE9mZnNldCI6IG51bGwsICJmaWxsIjogdHJ1ZSwgImZpbGxDb2xvciI6ICIjMzE4NmNjIiwgImZpbGxPcGFjaXR5IjogMC43LCAiZmlsbFJ1bGUiOiAiZXZlbm9kZCIsICJsaW5lQ2FwIjogInJvdW5kIiwgImxpbmVKb2luIjogInJvdW5kIiwgIm9wYWNpdHkiOiAxLjAsICJyYWRpdXMiOiA0LCAic3Ryb2tlIjogdHJ1ZSwgIndlaWdodCI6IDN9CiAgICAgICAgICAgICkuYWRkVG8obWFwX2MyMWZhMTYxMzdkMTQ3ZGJhNTlmZmViMjExOTljNzdmKTsKICAgICAgICAKICAgIAogICAgICAgIHZhciBwb3B1cF9mMTk0MTNlYzAyYWY0MGEzOWU3ZTFiMzEzZDI5NTg4NyA9IEwucG9wdXAoeyJtYXhXaWR0aCI6ICIxMDAlIn0pOwoKICAgICAgICAKICAgICAgICAgICAgdmFyIGh0bWxfZjk5ODJjOTg1NmE1NDNiYWIyMGQ2ZjdjNGE0MmYxODMgPSAkKGA8ZGl2IGlkPSJodG1sX2Y5OTgyYzk4NTZhNTQzYmFiMjBkNmY3YzRhNDJmMTgzIiBzdHlsZT0id2lkdGg6IDEwMC4wJTsgaGVpZ2h0OiAxMDAuMCU7Ij5TY2FyYm9yb3VnaCwgTTFULCBDbGFya3MgQ29ybmVycyAvIFRhbSBPJiMzOTtTaGFudGVyIC8gU3VsbGl2YW48L2Rpdj5gKVswXTsKICAgICAgICAgICAgcG9wdXBfZjE5NDEzZWMwMmFmNDBhMzllN2UxYjMxM2QyOTU4ODcuc2V0Q29udGVudChodG1sX2Y5OTgyYzk4NTZhNTQzYmFiMjBkNmY3YzRhNDJmMTgzKTsKICAgICAgICAKCiAgICAgICAgY2lyY2xlX21hcmtlcl8xOTIyMjVmZDI4Y2U0NGMzYjJkZDdhOGIzOGJkZTdlZi5iaW5kUG9wdXAocG9wdXBfZjE5NDEzZWMwMmFmNDBhMzllN2UxYjMxM2QyOTU4ODcpCiAgICAgICAgOwoKICAgICAgICAKICAgIAogICAgCiAgICAgICAgICAgIHZhciBjaXJjbGVfbWFya2VyXzM0Zjk3MGUxZGE5MTQ0MzM4Y2NjZTNlMGRhMWZkMTAyID0gTC5jaXJjbGVNYXJrZXIoCiAgICAgICAgICAgICAgICBbNDMuNjg5NTc0MywgLTc5LjM4MzE1OTkwMDAwMDAxXSwKICAgICAgICAgICAgICAgIHsiYnViYmxpbmdNb3VzZUV2ZW50cyI6IHRydWUsICJjb2xvciI6ICJyZWQiLCAiZGFzaEFycmF5IjogbnVsbCwgImRhc2hPZmZzZXQiOiBudWxsLCAiZmlsbCI6IHRydWUsICJmaWxsQ29sb3IiOiAiIzMxODZjYyIsICJmaWxsT3BhY2l0eSI6IDAuNywgImZpbGxSdWxlIjogImV2ZW5vZGQiLCAibGluZUNhcCI6ICJyb3VuZCIsICJsaW5lSm9pbiI6ICJyb3VuZCIsICJvcGFjaXR5IjogMS4wLCAicmFkaXVzIjogNCwgInN0cm9rZSI6IHRydWUsICJ3ZWlnaHQiOiAzfQogICAgICAgICAgICApLmFkZFRvKG1hcF9jMjFmYTE2MTM3ZDE0N2RiYTU5ZmZlYjIxMTk5Yzc3Zik7CiAgICAgICAgCiAgICAKICAgICAgICB2YXIgcG9wdXBfNThhNWZiMzQ3MGEyNGViYzkxMmUwZDczYTEyNzg0NDggPSBMLnBvcHVwKHsibWF4V2lkdGgiOiAiMTAwJSJ9KTsKCiAgICAgICAgCiAgICAgICAgICAgIHZhciBodG1sXzE4MzVmOWY4OWE2ZDQ1NjI5MjU5MTU1Mzg4ZjUwNzhjID0gJChgPGRpdiBpZD0iaHRtbF8xODM1ZjlmODlhNmQ0NTYyOTI1OTE1NTM4OGY1MDc4YyIgc3R5bGU9IndpZHRoOiAxMDAuMCU7IGhlaWdodDogMTAwLjAlOyI+Q2VudHJhbCBUb3JvbnRvLCBNNFQsIE1vb3JlIFBhcmsgLyBTdW1tZXJoaWxsIEVhc3Q8L2Rpdj5gKVswXTsKICAgICAgICAgICAgcG9wdXBfNThhNWZiMzQ3MGEyNGViYzkxMmUwZDczYTEyNzg0NDguc2V0Q29udGVudChodG1sXzE4MzVmOWY4OWE2ZDQ1NjI5MjU5MTU1Mzg4ZjUwNzhjKTsKICAgICAgICAKCiAgICAgICAgY2lyY2xlX21hcmtlcl8zNGY5NzBlMWRhOTE0NDMzOGNjY2UzZTBkYTFmZDEwMi5iaW5kUG9wdXAocG9wdXBfNThhNWZiMzQ3MGEyNGViYzkxMmUwZDczYTEyNzg0NDgpCiAgICAgICAgOwoKICAgICAgICAKICAgIAogICAgCiAgICAgICAgICAgIHZhciBjaXJjbGVfbWFya2VyX2Y1NzVkODc0ZDE2OTQ0MGQ5MTcxYzdmOWJkNjFjYjE0ID0gTC5jaXJjbGVNYXJrZXIoCiAgICAgICAgICAgICAgICBbNDMuNjUzMjA1NywgLTc5LjQwMDA0OTNdLAogICAgICAgICAgICAgICAgeyJidWJibGluZ01vdXNlRXZlbnRzIjogdHJ1ZSwgImNvbG9yIjogInJlZCIsICJkYXNoQXJyYXkiOiBudWxsLCAiZGFzaE9mZnNldCI6IG51bGwsICJmaWxsIjogdHJ1ZSwgImZpbGxDb2xvciI6ICIjMzE4NmNjIiwgImZpbGxPcGFjaXR5IjogMC43LCAiZmlsbFJ1bGUiOiAiZXZlbm9kZCIsICJsaW5lQ2FwIjogInJvdW5kIiwgImxpbmVKb2luIjogInJvdW5kIiwgIm9wYWNpdHkiOiAxLjAsICJyYWRpdXMiOiA0LCAic3Ryb2tlIjogdHJ1ZSwgIndlaWdodCI6IDN9CiAgICAgICAgICAgICkuYWRkVG8obWFwX2MyMWZhMTYxMzdkMTQ3ZGJhNTlmZmViMjExOTljNzdmKTsKICAgICAgICAKICAgIAogICAgICAgIHZhciBwb3B1cF8zZjAyZWY0YzYwYmY0MjQ0YWRhNDllN2I4NDA1NzQ0ZSA9IEwucG9wdXAoeyJtYXhXaWR0aCI6ICIxMDAlIn0pOwoKICAgICAgICAKICAgICAgICAgICAgdmFyIGh0bWxfNmNlZWE1ZWUxZmYzNGQxNzljOTBkMThjMTM5ZGM5YTQgPSAkKGA8ZGl2IGlkPSJodG1sXzZjZWVhNWVlMWZmMzRkMTc5YzkwZDE4YzEzOWRjOWE0IiBzdHlsZT0id2lkdGg6IDEwMC4wJTsgaGVpZ2h0OiAxMDAuMCU7Ij5Eb3dudG93biBUb3JvbnRvLCBNNVQsIEtlbnNpbmd0b24gTWFya2V0IC8gQ2hpbmF0b3duIC8gR3JhbmdlIFBhcms8L2Rpdj5gKVswXTsKICAgICAgICAgICAgcG9wdXBfM2YwMmVmNGM2MGJmNDI0NGFkYTQ5ZTdiODQwNTc0NGUuc2V0Q29udGVudChodG1sXzZjZWVhNWVlMWZmMzRkMTc5YzkwZDE4YzEzOWRjOWE0KTsKICAgICAgICAKCiAgICAgICAgY2lyY2xlX21hcmtlcl9mNTc1ZDg3NGQxNjk0NDBkOTE3MWM3ZjliZDYxY2IxNC5iaW5kUG9wdXAocG9wdXBfM2YwMmVmNGM2MGJmNDI0NGFkYTQ5ZTdiODQwNTc0NGUpCiAgICAgICAgOwoKICAgICAgICAKICAgIAogICAgCiAgICAgICAgICAgIHZhciBjaXJjbGVfbWFya2VyXzkzNjkzOGUxZmVmMzQzOGY5NjdjMjUwZjVjOWM2NDkwID0gTC5jaXJjbGVNYXJrZXIoCiAgICAgICAgICAgICAgICBbNDMuODE1MjUyMiwgLTc5LjI4NDU3NzJdLAogICAgICAgICAgICAgICAgeyJidWJibGluZ01vdXNlRXZlbnRzIjogdHJ1ZSwgImNvbG9yIjogInJlZCIsICJkYXNoQXJyYXkiOiBudWxsLCAiZGFzaE9mZnNldCI6IG51bGwsICJmaWxsIjogdHJ1ZSwgImZpbGxDb2xvciI6ICIjMzE4NmNjIiwgImZpbGxPcGFjaXR5IjogMC43LCAiZmlsbFJ1bGUiOiAiZXZlbm9kZCIsICJsaW5lQ2FwIjogInJvdW5kIiwgImxpbmVKb2luIjogInJvdW5kIiwgIm9wYWNpdHkiOiAxLjAsICJyYWRpdXMiOiA0LCAic3Ryb2tlIjogdHJ1ZSwgIndlaWdodCI6IDN9CiAgICAgICAgICAgICkuYWRkVG8obWFwX2MyMWZhMTYxMzdkMTQ3ZGJhNTlmZmViMjExOTljNzdmKTsKICAgICAgICAKICAgIAogICAgICAgIHZhciBwb3B1cF8xYzY4YjQ0ODliMDQ0ZGNhODVkOGUyZDY4Mjg5MDYyMiA9IEwucG9wdXAoeyJtYXhXaWR0aCI6ICIxMDAlIn0pOwoKICAgICAgICAKICAgICAgICAgICAgdmFyIGh0bWxfNjM4ODljNTAzM2MyNGUyNTgwNzg1N2NjODkxYTMxZDAgPSAkKGA8ZGl2IGlkPSJodG1sXzYzODg5YzUwMzNjMjRlMjU4MDc4NTdjYzg5MWEzMWQwIiBzdHlsZT0id2lkdGg6IDEwMC4wJTsgaGVpZ2h0OiAxMDAuMCU7Ij5TY2FyYm9yb3VnaCwgTTFWLCBNaWxsaWtlbiAvIEFnaW5jb3VydCBOb3J0aCAvIFN0ZWVsZXMgRWFzdCAvIEwmIzM5O0Ftb3JlYXV4IEVhc3Q8L2Rpdj5gKVswXTsKICAgICAgICAgICAgcG9wdXBfMWM2OGI0NDg5YjA0NGRjYTg1ZDhlMmQ2ODI4OTA2MjIuc2V0Q29udGVudChodG1sXzYzODg5YzUwMzNjMjRlMjU4MDc4NTdjYzg5MWEzMWQwKTsKICAgICAgICAKCiAgICAgICAgY2lyY2xlX21hcmtlcl85MzY5MzhlMWZlZjM0MzhmOTY3YzI1MGY1YzljNjQ5MC5iaW5kUG9wdXAocG9wdXBfMWM2OGI0NDg5YjA0NGRjYTg1ZDhlMmQ2ODI4OTA2MjIpCiAgICAgICAgOwoKICAgICAgICAKICAgIAogICAgCiAgICAgICAgICAgIHZhciBjaXJjbGVfbWFya2VyXzJiYWIwYWVmY2M5NTQ5MjVhYjI4OTJkMjBmYTJmNmY2ID0gTC5jaXJjbGVNYXJrZXIoCiAgICAgICAgICAgICAgICBbNDMuNjg2NDEyMjk5OTk5OTksIC03OS40MDAwNDkzXSwKICAgICAgICAgICAgICAgIHsiYnViYmxpbmdNb3VzZUV2ZW50cyI6IHRydWUsICJjb2xvciI6ICJyZWQiLCAiZGFzaEFycmF5IjogbnVsbCwgImRhc2hPZmZzZXQiOiBudWxsLCAiZmlsbCI6IHRydWUsICJmaWxsQ29sb3IiOiAiIzMxODZjYyIsICJmaWxsT3BhY2l0eSI6IDAuNywgImZpbGxSdWxlIjogImV2ZW5vZGQiLCAibGluZUNhcCI6ICJyb3VuZCIsICJsaW5lSm9pbiI6ICJyb3VuZCIsICJvcGFjaXR5IjogMS4wLCAicmFkaXVzIjogNCwgInN0cm9rZSI6IHRydWUsICJ3ZWlnaHQiOiAzfQogICAgICAgICAgICApLmFkZFRvKG1hcF9jMjFmYTE2MTM3ZDE0N2RiYTU5ZmZlYjIxMTk5Yzc3Zik7CiAgICAgICAgCiAgICAKICAgICAgICB2YXIgcG9wdXBfOTM3NDNhODJkYjIzNGQzZDg1OWI4ODUwYjk2MGViY2IgPSBMLnBvcHVwKHsibWF4V2lkdGgiOiAiMTAwJSJ9KTsKCiAgICAgICAgCiAgICAgICAgICAgIHZhciBodG1sX2RjMjMxOTM2NDY4ZTRiMDlhZWYxNzRiNzRmOTA4NzUzID0gJChgPGRpdiBpZD0iaHRtbF9kYzIzMTkzNjQ2OGU0YjA5YWVmMTc0Yjc0ZjkwODc1MyIgc3R5bGU9IndpZHRoOiAxMDAuMCU7IGhlaWdodDogMTAwLjAlOyI+Q2VudHJhbCBUb3JvbnRvLCBNNFYsIFN1bW1lcmhpbGwgV2VzdCAvIFJhdGhuZWxseSAvIFNvdXRoIEhpbGwgLyBGb3Jlc3QgSGlsbCBTRSAvIERlZXIgUGFyazwvZGl2PmApWzBdOwogICAgICAgICAgICBwb3B1cF85Mzc0M2E4MmRiMjM0ZDNkODU5Yjg4NTBiOTYwZWJjYi5zZXRDb250ZW50KGh0bWxfZGMyMzE5MzY0NjhlNGIwOWFlZjE3NGI3NGY5MDg3NTMpOwogICAgICAgIAoKICAgICAgICBjaXJjbGVfbWFya2VyXzJiYWIwYWVmY2M5NTQ5MjVhYjI4OTJkMjBmYTJmNmY2LmJpbmRQb3B1cChwb3B1cF85Mzc0M2E4MmRiMjM0ZDNkODU5Yjg4NTBiOTYwZWJjYikKICAgICAgICA7CgogICAgICAgIAogICAgCiAgICAKICAgICAgICAgICAgdmFyIGNpcmNsZV9tYXJrZXJfYTE3OTEzMjc2ZTQ1NGY3M2EzNGIwNjlmMGU0NWJlOTYgPSBMLmNpcmNsZU1hcmtlcigKICAgICAgICAgICAgICAgIFs0My42Mjg5NDY3LCAtNzkuMzk0NDE5OV0sCiAgICAgICAgICAgICAgICB7ImJ1YmJsaW5nTW91c2VFdmVudHMiOiB0cnVlLCAiY29sb3IiOiAicmVkIiwgImRhc2hBcnJheSI6IG51bGwsICJkYXNoT2Zmc2V0IjogbnVsbCwgImZpbGwiOiB0cnVlLCAiZmlsbENvbG9yIjogIiMzMTg2Y2MiLCAiZmlsbE9wYWNpdHkiOiAwLjcsICJmaWxsUnVsZSI6ICJldmVub2RkIiwgImxpbmVDYXAiOiAicm91bmQiLCAibGluZUpvaW4iOiAicm91bmQiLCAib3BhY2l0eSI6IDEuMCwgInJhZGl1cyI6IDQsICJzdHJva2UiOiB0cnVlLCAid2VpZ2h0IjogM30KICAgICAgICAgICAgKS5hZGRUbyhtYXBfYzIxZmExNjEzN2QxNDdkYmE1OWZmZWIyMTE5OWM3N2YpOwogICAgICAgIAogICAgCiAgICAgICAgdmFyIHBvcHVwXzYyMGMxMDFhYTdiYzQwYWVhZTUxNjgzYjExZjk3ZjZlID0gTC5wb3B1cCh7Im1heFdpZHRoIjogIjEwMCUifSk7CgogICAgICAgIAogICAgICAgICAgICB2YXIgaHRtbF8wZjc2YzllNDZhZTk0ZjI3YTUwYWVmZjIxMjRiNzNhNyA9ICQoYDxkaXYgaWQ9Imh0bWxfMGY3NmM5ZTQ2YWU5NGYyN2E1MGFlZmYyMTI0YjczYTciIHN0eWxlPSJ3aWR0aDogMTAwLjAlOyBoZWlnaHQ6IDEwMC4wJTsiPkRvd250b3duIFRvcm9udG8sIE01ViwgQ04gVG93ZXIgLyBLaW5nIGFuZCBTcGFkaW5hIC8gUmFpbHdheSBMYW5kcyAvIEhhcmJvdXJmcm9udCBXZXN0IC8gQmF0aHVyc3QgUXVheSAvIFNvdXRoIE5pYWdhcmEgLyBJc2xhbmQgYWlycG9ydDwvZGl2PmApWzBdOwogICAgICAgICAgICBwb3B1cF82MjBjMTAxYWE3YmM0MGFlYWU1MTY4M2IxMWY5N2Y2ZS5zZXRDb250ZW50KGh0bWxfMGY3NmM5ZTQ2YWU5NGYyN2E1MGFlZmYyMTI0YjczYTcpOwogICAgICAgIAoKICAgICAgICBjaXJjbGVfbWFya2VyX2ExNzkxMzI3NmU0NTRmNzNhMzRiMDY5ZjBlNDViZTk2LmJpbmRQb3B1cChwb3B1cF82MjBjMTAxYWE3YmM0MGFlYWU1MTY4M2IxMWY5N2Y2ZSkKICAgICAgICA7CgogICAgICAgIAogICAgCiAgICAKICAgICAgICAgICAgdmFyIGNpcmNsZV9tYXJrZXJfYjUyNjc2ZGZlNzQ3NGEwZjhkMjY3MjM0ZmY4YmNmOGQgPSBMLmNpcmNsZU1hcmtlcigKICAgICAgICAgICAgICAgIFs0My42MDU2NDY2LCAtNzkuNTAxMzIwNzAwMDAwMDFdLAogICAgICAgICAgICAgICAgeyJidWJibGluZ01vdXNlRXZlbnRzIjogdHJ1ZSwgImNvbG9yIjogInJlZCIsICJkYXNoQXJyYXkiOiBudWxsLCAiZGFzaE9mZnNldCI6IG51bGwsICJmaWxsIjogdHJ1ZSwgImZpbGxDb2xvciI6ICIjMzE4NmNjIiwgImZpbGxPcGFjaXR5IjogMC43LCAiZmlsbFJ1bGUiOiAiZXZlbm9kZCIsICJsaW5lQ2FwIjogInJvdW5kIiwgImxpbmVKb2luIjogInJvdW5kIiwgIm9wYWNpdHkiOiAxLjAsICJyYWRpdXMiOiA0LCAic3Ryb2tlIjogdHJ1ZSwgIndlaWdodCI6IDN9CiAgICAgICAgICAgICkuYWRkVG8obWFwX2MyMWZhMTYxMzdkMTQ3ZGJhNTlmZmViMjExOTljNzdmKTsKICAgICAgICAKICAgIAogICAgICAgIHZhciBwb3B1cF9hYTFkMTEyYmFkYjg0NDc5YjVhZjk3Njk4OWRjNTQyNCA9IEwucG9wdXAoeyJtYXhXaWR0aCI6ICIxMDAlIn0pOwoKICAgICAgICAKICAgICAgICAgICAgdmFyIGh0bWxfYTNhMWUzNmVmM2JjNDBmNzg4MTRmNTkwYTcyNzVmZGYgPSAkKGA8ZGl2IGlkPSJodG1sX2EzYTFlMzZlZjNiYzQwZjc4ODE0ZjU5MGE3Mjc1ZmRmIiBzdHlsZT0id2lkdGg6IDEwMC4wJTsgaGVpZ2h0OiAxMDAuMCU7Ij5FdG9iaWNva2UsIE04ViwgTmV3IFRvcm9udG8gLyBNaW1pY28gU291dGggLyBIdW1iZXIgQmF5IFNob3JlczwvZGl2PmApWzBdOwogICAgICAgICAgICBwb3B1cF9hYTFkMTEyYmFkYjg0NDc5YjVhZjk3Njk4OWRjNTQyNC5zZXRDb250ZW50KGh0bWxfYTNhMWUzNmVmM2JjNDBmNzg4MTRmNTkwYTcyNzVmZGYpOwogICAgICAgIAoKICAgICAgICBjaXJjbGVfbWFya2VyX2I1MjY3NmRmZTc0NzRhMGY4ZDI2NzIzNGZmOGJjZjhkLmJpbmRQb3B1cChwb3B1cF9hYTFkMTEyYmFkYjg0NDc5YjVhZjk3Njk4OWRjNTQyNCkKICAgICAgICA7CgogICAgICAgIAogICAgCiAgICAKICAgICAgICAgICAgdmFyIGNpcmNsZV9tYXJrZXJfMGIwNTYwZTQyNDU0NGY3ZTgwOTUwNTQ5ZjMxYmEyMTAgPSBMLmNpcmNsZU1hcmtlcigKICAgICAgICAgICAgICAgIFs0My43Mzk0MTYzOTk5OTk5OTYsIC03OS41ODg0MzY5XSwKICAgICAgICAgICAgICAgIHsiYnViYmxpbmdNb3VzZUV2ZW50cyI6IHRydWUsICJjb2xvciI6ICJyZWQiLCAiZGFzaEFycmF5IjogbnVsbCwgImRhc2hPZmZzZXQiOiBudWxsLCAiZmlsbCI6IHRydWUsICJmaWxsQ29sb3IiOiAiIzMxODZjYyIsICJmaWxsT3BhY2l0eSI6IDAuNywgImZpbGxSdWxlIjogImV2ZW5vZGQiLCAibGluZUNhcCI6ICJyb3VuZCIsICJsaW5lSm9pbiI6ICJyb3VuZCIsICJvcGFjaXR5IjogMS4wLCAicmFkaXVzIjogNCwgInN0cm9rZSI6IHRydWUsICJ3ZWlnaHQiOiAzfQogICAgICAgICAgICApLmFkZFRvKG1hcF9jMjFmYTE2MTM3ZDE0N2RiYTU5ZmZlYjIxMTk5Yzc3Zik7CiAgICAgICAgCiAgICAKICAgICAgICB2YXIgcG9wdXBfNjVkZDYxMmYwMTA5NGEwZjk0MGNlOWYwZDk2MTc0Y2EgPSBMLnBvcHVwKHsibWF4V2lkdGgiOiAiMTAwJSJ9KTsKCiAgICAgICAgCiAgICAgICAgICAgIHZhciBodG1sX2Y0YjZlNzBkYjBmODQ4MmI4ZDM2ZmQ4M2RhMDgyMTgyID0gJChgPGRpdiBpZD0iaHRtbF9mNGI2ZTcwZGIwZjg0ODJiOGQzNmZkODNkYTA4MjE4MiIgc3R5bGU9IndpZHRoOiAxMDAuMCU7IGhlaWdodDogMTAwLjAlOyI+RXRvYmljb2tlLCBNOVYsIFNvdXRoIFN0ZWVsZXMgLyBTaWx2ZXJzdG9uZSAvIEh1bWJlcmdhdGUgLyBKYW1lc3Rvd24gLyBNb3VudCBPbGl2ZSAvIEJlYXVtb25kIEhlaWdodHMgLyBUaGlzdGxldG93biAvIEFsYmlvbiBHYXJkZW5zPC9kaXY+YClbMF07CiAgICAgICAgICAgIHBvcHVwXzY1ZGQ2MTJmMDEwOTRhMGY5NDBjZTlmMGQ5NjE3NGNhLnNldENvbnRlbnQoaHRtbF9mNGI2ZTcwZGIwZjg0ODJiOGQzNmZkODNkYTA4MjE4Mik7CiAgICAgICAgCgogICAgICAgIGNpcmNsZV9tYXJrZXJfMGIwNTYwZTQyNDU0NGY3ZTgwOTUwNTQ5ZjMxYmEyMTAuYmluZFBvcHVwKHBvcHVwXzY1ZGQ2MTJmMDEwOTRhMGY5NDBjZTlmMGQ5NjE3NGNhKQogICAgICAgIDsKCiAgICAgICAgCiAgICAKICAgIAogICAgICAgICAgICB2YXIgY2lyY2xlX21hcmtlcl9jOTA1MzU0MWY3OTU0MWY4OTBmZTQ2MmYwODM3N2NmMSA9IEwuY2lyY2xlTWFya2VyKAogICAgICAgICAgICAgICAgWzQzLjc5OTUyNTIwMDAwMDAwNSwgLTc5LjMxODM4ODddLAogICAgICAgICAgICAgICAgeyJidWJibGluZ01vdXNlRXZlbnRzIjogdHJ1ZSwgImNvbG9yIjogInJlZCIsICJkYXNoQXJyYXkiOiBudWxsLCAiZGFzaE9mZnNldCI6IG51bGwsICJmaWxsIjogdHJ1ZSwgImZpbGxDb2xvciI6ICIjMzE4NmNjIiwgImZpbGxPcGFjaXR5IjogMC43LCAiZmlsbFJ1bGUiOiAiZXZlbm9kZCIsICJsaW5lQ2FwIjogInJvdW5kIiwgImxpbmVKb2luIjogInJvdW5kIiwgIm9wYWNpdHkiOiAxLjAsICJyYWRpdXMiOiA0LCAic3Ryb2tlIjogdHJ1ZSwgIndlaWdodCI6IDN9CiAgICAgICAgICAgICkuYWRkVG8obWFwX2MyMWZhMTYxMzdkMTQ3ZGJhNTlmZmViMjExOTljNzdmKTsKICAgICAgICAKICAgIAogICAgICAgIHZhciBwb3B1cF9iZjM4MmRlMWNjNjQ0NGU0OWNiZWNlNTYzNDBjYzM4NiA9IEwucG9wdXAoeyJtYXhXaWR0aCI6ICIxMDAlIn0pOwoKICAgICAgICAKICAgICAgICAgICAgdmFyIGh0bWxfNDhhOTcxZTUxN2MxNDE4ZmJmNTIyMDg2MDA2N2I1MjYgPSAkKGA8ZGl2IGlkPSJodG1sXzQ4YTk3MWU1MTdjMTQxOGZiZjUyMjA4NjAwNjdiNTI2IiBzdHlsZT0id2lkdGg6IDEwMC4wJTsgaGVpZ2h0OiAxMDAuMCU7Ij5TY2FyYm9yb3VnaCwgTTFXLCBTdGVlbGVzIFdlc3QgLyBMJiMzOTtBbW9yZWF1eCBXZXN0PC9kaXY+YClbMF07CiAgICAgICAgICAgIHBvcHVwX2JmMzgyZGUxY2M2NDQ0ZTQ5Y2JlY2U1NjM0MGNjMzg2LnNldENvbnRlbnQoaHRtbF80OGE5NzFlNTE3YzE0MThmYmY1MjIwODYwMDY3YjUyNik7CiAgICAgICAgCgogICAgICAgIGNpcmNsZV9tYXJrZXJfYzkwNTM1NDFmNzk1NDFmODkwZmU0NjJmMDgzNzdjZjEuYmluZFBvcHVwKHBvcHVwX2JmMzgyZGUxY2M2NDQ0ZTQ5Y2JlY2U1NjM0MGNjMzg2KQogICAgICAgIDsKCiAgICAgICAgCiAgICAKICAgIAogICAgICAgICAgICB2YXIgY2lyY2xlX21hcmtlcl8yZjcyZWU1N2NjNmU0ZjczYjRhNGZjOTFhOGU4NjMyYiA9IEwuY2lyY2xlTWFya2VyKAogICAgICAgICAgICAgICAgWzQzLjY3OTU2MjYsIC03OS4zNzc1Mjk0MDAwMDAwMV0sCiAgICAgICAgICAgICAgICB7ImJ1YmJsaW5nTW91c2VFdmVudHMiOiB0cnVlLCAiY29sb3IiOiAicmVkIiwgImRhc2hBcnJheSI6IG51bGwsICJkYXNoT2Zmc2V0IjogbnVsbCwgImZpbGwiOiB0cnVlLCAiZmlsbENvbG9yIjogIiMzMTg2Y2MiLCAiZmlsbE9wYWNpdHkiOiAwLjcsICJmaWxsUnVsZSI6ICJldmVub2RkIiwgImxpbmVDYXAiOiAicm91bmQiLCAibGluZUpvaW4iOiAicm91bmQiLCAib3BhY2l0eSI6IDEuMCwgInJhZGl1cyI6IDQsICJzdHJva2UiOiB0cnVlLCAid2VpZ2h0IjogM30KICAgICAgICAgICAgKS5hZGRUbyhtYXBfYzIxZmExNjEzN2QxNDdkYmE1OWZmZWIyMTE5OWM3N2YpOwogICAgICAgIAogICAgCiAgICAgICAgdmFyIHBvcHVwXzEyMjUzMDU5MzdlNjQxNTA5YjliNTI5ZDE5MTgxM2EzID0gTC5wb3B1cCh7Im1heFdpZHRoIjogIjEwMCUifSk7CgogICAgICAgIAogICAgICAgICAgICB2YXIgaHRtbF9jYzY2NjA4NjIyNDE0MWE3OWFiZjA2ZWIxYWU5NzFjNyA9ICQoYDxkaXYgaWQ9Imh0bWxfY2M2NjYwODYyMjQxNDFhNzlhYmYwNmViMWFlOTcxYzciIHN0eWxlPSJ3aWR0aDogMTAwLjAlOyBoZWlnaHQ6IDEwMC4wJTsiPkRvd250b3duIFRvcm9udG8sIE00VywgUm9zZWRhbGU8L2Rpdj5gKVswXTsKICAgICAgICAgICAgcG9wdXBfMTIyNTMwNTkzN2U2NDE1MDliOWI1MjlkMTkxODEzYTMuc2V0Q29udGVudChodG1sX2NjNjY2MDg2MjI0MTQxYTc5YWJmMDZlYjFhZTk3MWM3KTsKICAgICAgICAKCiAgICAgICAgY2lyY2xlX21hcmtlcl8yZjcyZWU1N2NjNmU0ZjczYjRhNGZjOTFhOGU4NjMyYi5iaW5kUG9wdXAocG9wdXBfMTIyNTMwNTkzN2U2NDE1MDliOWI1MjlkMTkxODEzYTMpCiAgICAgICAgOwoKICAgICAgICAKICAgIAogICAgCiAgICAgICAgICAgIHZhciBjaXJjbGVfbWFya2VyXzk1ODIzN2NkYTZlMzQzN2U4NTI4NzZmN2RiMDVkYzQyID0gTC5jaXJjbGVNYXJrZXIoCiAgICAgICAgICAgICAgICBbNDMuNjQ2NDM1MiwgLTc5LjM3NDg0NTk5OTk5OTk5XSwKICAgICAgICAgICAgICAgIHsiYnViYmxpbmdNb3VzZUV2ZW50cyI6IHRydWUsICJjb2xvciI6ICJyZWQiLCAiZGFzaEFycmF5IjogbnVsbCwgImRhc2hPZmZzZXQiOiBudWxsLCAiZmlsbCI6IHRydWUsICJmaWxsQ29sb3IiOiAiIzMxODZjYyIsICJmaWxsT3BhY2l0eSI6IDAuNywgImZpbGxSdWxlIjogImV2ZW5vZGQiLCAibGluZUNhcCI6ICJyb3VuZCIsICJsaW5lSm9pbiI6ICJyb3VuZCIsICJvcGFjaXR5IjogMS4wLCAicmFkaXVzIjogNCwgInN0cm9rZSI6IHRydWUsICJ3ZWlnaHQiOiAzfQogICAgICAgICAgICApLmFkZFRvKG1hcF9jMjFmYTE2MTM3ZDE0N2RiYTU5ZmZlYjIxMTk5Yzc3Zik7CiAgICAgICAgCiAgICAKICAgICAgICB2YXIgcG9wdXBfMDc2ZGQxNjQyMzc0NDViZGE3YTgxOWE3NjYxYWNmNTEgPSBMLnBvcHVwKHsibWF4V2lkdGgiOiAiMTAwJSJ9KTsKCiAgICAgICAgCiAgICAgICAgICAgIHZhciBodG1sXzExYzVhNzc2OWRiYjQ4YzM5OTZlYTI1YTRiZjFkNDg5ID0gJChgPGRpdiBpZD0iaHRtbF8xMWM1YTc3NjlkYmI0OGMzOTk2ZWEyNWE0YmYxZDQ4OSIgc3R5bGU9IndpZHRoOiAxMDAuMCU7IGhlaWdodDogMTAwLjAlOyI+RG93bnRvd24gVG9yb250bywgTTVXLCBTdG4gQSBQTyBCb3hlczwvZGl2PmApWzBdOwogICAgICAgICAgICBwb3B1cF8wNzZkZDE2NDIzNzQ0NWJkYTdhODE5YTc2NjFhY2Y1MS5zZXRDb250ZW50KGh0bWxfMTFjNWE3NzY5ZGJiNDhjMzk5NmVhMjVhNGJmMWQ0ODkpOwogICAgICAgIAoKICAgICAgICBjaXJjbGVfbWFya2VyXzk1ODIzN2NkYTZlMzQzN2U4NTI4NzZmN2RiMDVkYzQyLmJpbmRQb3B1cChwb3B1cF8wNzZkZDE2NDIzNzQ0NWJkYTdhODE5YTc2NjFhY2Y1MSkKICAgICAgICA7CgogICAgICAgIAogICAgCiAgICAKICAgICAgICAgICAgdmFyIGNpcmNsZV9tYXJrZXJfNjhhN2YyZGQwMTU5NGJjNDgzMmE2Mjg1ZDMzZGE2MGIgPSBMLmNpcmNsZU1hcmtlcigKICAgICAgICAgICAgICAgIFs0My42MDI0MTM3MDAwMDAwMSwgLTc5LjU0MzQ4NDA5OTk5OTk5XSwKICAgICAgICAgICAgICAgIHsiYnViYmxpbmdNb3VzZUV2ZW50cyI6IHRydWUsICJjb2xvciI6ICJyZWQiLCAiZGFzaEFycmF5IjogbnVsbCwgImRhc2hPZmZzZXQiOiBudWxsLCAiZmlsbCI6IHRydWUsICJmaWxsQ29sb3IiOiAiIzMxODZjYyIsICJmaWxsT3BhY2l0eSI6IDAuNywgImZpbGxSdWxlIjogImV2ZW5vZGQiLCAibGluZUNhcCI6ICJyb3VuZCIsICJsaW5lSm9pbiI6ICJyb3VuZCIsICJvcGFjaXR5IjogMS4wLCAicmFkaXVzIjogNCwgInN0cm9rZSI6IHRydWUsICJ3ZWlnaHQiOiAzfQogICAgICAgICAgICApLmFkZFRvKG1hcF9jMjFmYTE2MTM3ZDE0N2RiYTU5ZmZlYjIxMTk5Yzc3Zik7CiAgICAgICAgCiAgICAKICAgICAgICB2YXIgcG9wdXBfZmM2Y2E2NDZlMzFmNDcxZDk5YTUzOWJiNDIzY2Y4MmUgPSBMLnBvcHVwKHsibWF4V2lkdGgiOiAiMTAwJSJ9KTsKCiAgICAgICAgCiAgICAgICAgICAgIHZhciBodG1sXzNmNDg5ZTZmN2JmODQxNjM4OTdiZmY4Y2UxZTM2NDdmID0gJChgPGRpdiBpZD0iaHRtbF8zZjQ4OWU2ZjdiZjg0MTYzODk3YmZmOGNlMWUzNjQ3ZiIgc3R5bGU9IndpZHRoOiAxMDAuMCU7IGhlaWdodDogMTAwLjAlOyI+RXRvYmljb2tlLCBNOFcsIEFsZGVyd29vZCAvIExvbmcgQnJhbmNoPC9kaXY+YClbMF07CiAgICAgICAgICAgIHBvcHVwX2ZjNmNhNjQ2ZTMxZjQ3MWQ5OWE1MzliYjQyM2NmODJlLnNldENvbnRlbnQoaHRtbF8zZjQ4OWU2ZjdiZjg0MTYzODk3YmZmOGNlMWUzNjQ3Zik7CiAgICAgICAgCgogICAgICAgIGNpcmNsZV9tYXJrZXJfNjhhN2YyZGQwMTU5NGJjNDgzMmE2Mjg1ZDMzZGE2MGIuYmluZFBvcHVwKHBvcHVwX2ZjNmNhNjQ2ZTMxZjQ3MWQ5OWE1MzliYjQyM2NmODJlKQogICAgICAgIDsKCiAgICAgICAgCiAgICAKICAgIAogICAgICAgICAgICB2YXIgY2lyY2xlX21hcmtlcl8wMDJiNzk0NmYzYTk0NDAwYjc2MzJkYmJiMmRjOGJkYiA9IEwuY2lyY2xlTWFya2VyKAogICAgICAgICAgICAgICAgWzQzLjcwNjc0ODI5OTk5OTk5NCwgLTc5LjU5NDA1NDRdLAogICAgICAgICAgICAgICAgeyJidWJibGluZ01vdXNlRXZlbnRzIjogdHJ1ZSwgImNvbG9yIjogInJlZCIsICJkYXNoQXJyYXkiOiBudWxsLCAiZGFzaE9mZnNldCI6IG51bGwsICJmaWxsIjogdHJ1ZSwgImZpbGxDb2xvciI6ICIjMzE4NmNjIiwgImZpbGxPcGFjaXR5IjogMC43LCAiZmlsbFJ1bGUiOiAiZXZlbm9kZCIsICJsaW5lQ2FwIjogInJvdW5kIiwgImxpbmVKb2luIjogInJvdW5kIiwgIm9wYWNpdHkiOiAxLjAsICJyYWRpdXMiOiA0LCAic3Ryb2tlIjogdHJ1ZSwgIndlaWdodCI6IDN9CiAgICAgICAgICAgICkuYWRkVG8obWFwX2MyMWZhMTYxMzdkMTQ3ZGJhNTlmZmViMjExOTljNzdmKTsKICAgICAgICAKICAgIAogICAgICAgIHZhciBwb3B1cF8yMjlhNTYxYmEyYTU0MTFiOWFmZGQ4NDUxMmJhMGZhNSA9IEwucG9wdXAoeyJtYXhXaWR0aCI6ICIxMDAlIn0pOwoKICAgICAgICAKICAgICAgICAgICAgdmFyIGh0bWxfMjdjMzE2YzQ0YzQ3NGQ3Y2I2MjI4MGJkZjQxYjEyY2EgPSAkKGA8ZGl2IGlkPSJodG1sXzI3YzMxNmM0NGM0NzRkN2NiNjIyODBiZGY0MWIxMmNhIiBzdHlsZT0id2lkdGg6IDEwMC4wJTsgaGVpZ2h0OiAxMDAuMCU7Ij5FdG9iaWNva2UsIE05VywgTm9ydGh3ZXN0PC9kaXY+YClbMF07CiAgICAgICAgICAgIHBvcHVwXzIyOWE1NjFiYTJhNTQxMWI5YWZkZDg0NTEyYmEwZmE1LnNldENvbnRlbnQoaHRtbF8yN2MzMTZjNDRjNDc0ZDdjYjYyMjgwYmRmNDFiMTJjYSk7CiAgICAgICAgCgogICAgICAgIGNpcmNsZV9tYXJrZXJfMDAyYjc5NDZmM2E5NDQwMGI3NjMyZGJiYjJkYzhiZGIuYmluZFBvcHVwKHBvcHVwXzIyOWE1NjFiYTJhNTQxMWI5YWZkZDg0NTEyYmEwZmE1KQogICAgICAgIDsKCiAgICAgICAgCiAgICAKICAgIAogICAgICAgICAgICB2YXIgY2lyY2xlX21hcmtlcl9mNDgwZTNhZGRkM2U0ZjM2YWY0ZTA4Nzc2NjExMTU0MiA9IEwuY2lyY2xlTWFya2VyKAogICAgICAgICAgICAgICAgWzQzLjgzNjEyNDcwMDAwMDAwNiwgLTc5LjIwNTYzNjA5OTk5OTk5XSwKICAgICAgICAgICAgICAgIHsiYnViYmxpbmdNb3VzZUV2ZW50cyI6IHRydWUsICJjb2xvciI6ICJyZWQiLCAiZGFzaEFycmF5IjogbnVsbCwgImRhc2hPZmZzZXQiOiBudWxsLCAiZmlsbCI6IHRydWUsICJmaWxsQ29sb3IiOiAiIzMxODZjYyIsICJmaWxsT3BhY2l0eSI6IDAuNywgImZpbGxSdWxlIjogImV2ZW5vZGQiLCAibGluZUNhcCI6ICJyb3VuZCIsICJsaW5lSm9pbiI6ICJyb3VuZCIsICJvcGFjaXR5IjogMS4wLCAicmFkaXVzIjogNCwgInN0cm9rZSI6IHRydWUsICJ3ZWlnaHQiOiAzfQogICAgICAgICAgICApLmFkZFRvKG1hcF9jMjFmYTE2MTM3ZDE0N2RiYTU5ZmZlYjIxMTk5Yzc3Zik7CiAgICAgICAgCiAgICAKICAgICAgICB2YXIgcG9wdXBfNGFiODgyNzkzODNkNGU3ZWFmMzI4MDBiOTg0ZDg2YzkgPSBMLnBvcHVwKHsibWF4V2lkdGgiOiAiMTAwJSJ9KTsKCiAgICAgICAgCiAgICAgICAgICAgIHZhciBodG1sXzAxMTdhMmFjMGYwMzRkMWY4MGVlYjk0OWNkZjlkZDJiID0gJChgPGRpdiBpZD0iaHRtbF8wMTE3YTJhYzBmMDM0ZDFmODBlZWI5NDljZGY5ZGQyYiIgc3R5bGU9IndpZHRoOiAxMDAuMCU7IGhlaWdodDogMTAwLjAlOyI+U2NhcmJvcm91Z2gsIE0xWCwgVXBwZXIgUm91Z2U8L2Rpdj5gKVswXTsKICAgICAgICAgICAgcG9wdXBfNGFiODgyNzkzODNkNGU3ZWFmMzI4MDBiOTg0ZDg2Yzkuc2V0Q29udGVudChodG1sXzAxMTdhMmFjMGYwMzRkMWY4MGVlYjk0OWNkZjlkZDJiKTsKICAgICAgICAKCiAgICAgICAgY2lyY2xlX21hcmtlcl9mNDgwZTNhZGRkM2U0ZjM2YWY0ZTA4Nzc2NjExMTU0Mi5iaW5kUG9wdXAocG9wdXBfNGFiODgyNzkzODNkNGU3ZWFmMzI4MDBiOTg0ZDg2YzkpCiAgICAgICAgOwoKICAgICAgICAKICAgIAogICAgCiAgICAgICAgICAgIHZhciBjaXJjbGVfbWFya2VyXzViZjg5MTg5Y2JmYTRmY2M4ODU5OTI5NWY1NjIxZmM4ID0gTC5jaXJjbGVNYXJrZXIoCiAgICAgICAgICAgICAgICBbNDMuNjY3OTY3LCAtNzkuMzY3Njc1M10sCiAgICAgICAgICAgICAgICB7ImJ1YmJsaW5nTW91c2VFdmVudHMiOiB0cnVlLCAiY29sb3IiOiAicmVkIiwgImRhc2hBcnJheSI6IG51bGwsICJkYXNoT2Zmc2V0IjogbnVsbCwgImZpbGwiOiB0cnVlLCAiZmlsbENvbG9yIjogIiMzMTg2Y2MiLCAiZmlsbE9wYWNpdHkiOiAwLjcsICJmaWxsUnVsZSI6ICJldmVub2RkIiwgImxpbmVDYXAiOiAicm91bmQiLCAibGluZUpvaW4iOiAicm91bmQiLCAib3BhY2l0eSI6IDEuMCwgInJhZGl1cyI6IDQsICJzdHJva2UiOiB0cnVlLCAid2VpZ2h0IjogM30KICAgICAgICAgICAgKS5hZGRUbyhtYXBfYzIxZmExNjEzN2QxNDdkYmE1OWZmZWIyMTE5OWM3N2YpOwogICAgICAgIAogICAgCiAgICAgICAgdmFyIHBvcHVwXzRhZWYyYzJlMmI1MTRjMGE5MDE4Mzc4YTc0ZmU2NGQ4ID0gTC5wb3B1cCh7Im1heFdpZHRoIjogIjEwMCUifSk7CgogICAgICAgIAogICAgICAgICAgICB2YXIgaHRtbF8zNDMxNDA1MzhkZTU0YTZhYmMyOGNjOGNkYjFkNmZjYSA9ICQoYDxkaXYgaWQ9Imh0bWxfMzQzMTQwNTM4ZGU1NGE2YWJjMjhjYzhjZGIxZDZmY2EiIHN0eWxlPSJ3aWR0aDogMTAwLjAlOyBoZWlnaHQ6IDEwMC4wJTsiPkRvd250b3duIFRvcm9udG8sIE00WCwgU3QuIEphbWVzIFRvd24gLyBDYWJiYWdldG93bjwvZGl2PmApWzBdOwogICAgICAgICAgICBwb3B1cF80YWVmMmMyZTJiNTE0YzBhOTAxODM3OGE3NGZlNjRkOC5zZXRDb250ZW50KGh0bWxfMzQzMTQwNTM4ZGU1NGE2YWJjMjhjYzhjZGIxZDZmY2EpOwogICAgICAgIAoKICAgICAgICBjaXJjbGVfbWFya2VyXzViZjg5MTg5Y2JmYTRmY2M4ODU5OTI5NWY1NjIxZmM4LmJpbmRQb3B1cChwb3B1cF80YWVmMmMyZTJiNTE0YzBhOTAxODM3OGE3NGZlNjRkOCkKICAgICAgICA7CgogICAgICAgIAogICAgCiAgICAKICAgICAgICAgICAgdmFyIGNpcmNsZV9tYXJrZXJfZGNjYzExYmNiOGExNDQxOGExZjM1ZWNiMmM2NDg3NDcgPSBMLmNpcmNsZU1hcmtlcigKICAgICAgICAgICAgICAgIFs0My42NDg0MjkyLCAtNzkuMzgyMjgwMl0sCiAgICAgICAgICAgICAgICB7ImJ1YmJsaW5nTW91c2VFdmVudHMiOiB0cnVlLCAiY29sb3IiOiAicmVkIiwgImRhc2hBcnJheSI6IG51bGwsICJkYXNoT2Zmc2V0IjogbnVsbCwgImZpbGwiOiB0cnVlLCAiZmlsbENvbG9yIjogIiMzMTg2Y2MiLCAiZmlsbE9wYWNpdHkiOiAwLjcsICJmaWxsUnVsZSI6ICJldmVub2RkIiwgImxpbmVDYXAiOiAicm91bmQiLCAibGluZUpvaW4iOiAicm91bmQiLCAib3BhY2l0eSI6IDEuMCwgInJhZGl1cyI6IDQsICJzdHJva2UiOiB0cnVlLCAid2VpZ2h0IjogM30KICAgICAgICAgICAgKS5hZGRUbyhtYXBfYzIxZmExNjEzN2QxNDdkYmE1OWZmZWIyMTE5OWM3N2YpOwogICAgICAgIAogICAgCiAgICAgICAgdmFyIHBvcHVwXzA2ZDIyMmM4ZjZlNjQ1Zjc4MjgxZDQwMDZlZDljNjE5ID0gTC5wb3B1cCh7Im1heFdpZHRoIjogIjEwMCUifSk7CgogICAgICAgIAogICAgICAgICAgICB2YXIgaHRtbF8zY2FiYWI5NjU2YTc0YTgxYmYyNzcxY2Y4ZWViY2E1YiA9ICQoYDxkaXYgaWQ9Imh0bWxfM2NhYmFiOTY1NmE3NGE4MWJmMjc3MWNmOGVlYmNhNWIiIHN0eWxlPSJ3aWR0aDogMTAwLjAlOyBoZWlnaHQ6IDEwMC4wJTsiPkRvd250b3duIFRvcm9udG8sIE01WCwgRmlyc3QgQ2FuYWRpYW4gUGxhY2UgLyBVbmRlcmdyb3VuZCBjaXR5PC9kaXY+YClbMF07CiAgICAgICAgICAgIHBvcHVwXzA2ZDIyMmM4ZjZlNjQ1Zjc4MjgxZDQwMDZlZDljNjE5LnNldENvbnRlbnQoaHRtbF8zY2FiYWI5NjU2YTc0YTgxYmYyNzcxY2Y4ZWViY2E1Yik7CiAgICAgICAgCgogICAgICAgIGNpcmNsZV9tYXJrZXJfZGNjYzExYmNiOGExNDQxOGExZjM1ZWNiMmM2NDg3NDcuYmluZFBvcHVwKHBvcHVwXzA2ZDIyMmM4ZjZlNjQ1Zjc4MjgxZDQwMDZlZDljNjE5KQogICAgICAgIDsKCiAgICAgICAgCiAgICAKICAgIAogICAgICAgICAgICB2YXIgY2lyY2xlX21hcmtlcl9jOTUxMTQyNzZlZGQ0OWU0ODBmNjdiNDgzY2ZmNDQyMCA9IEwuY2lyY2xlTWFya2VyKAogICAgICAgICAgICAgICAgWzQzLjY1MzY1MzYwMDAwMDAwNSwgLTc5LjUwNjk0MzZdLAogICAgICAgICAgICAgICAgeyJidWJibGluZ01vdXNlRXZlbnRzIjogdHJ1ZSwgImNvbG9yIjogInJlZCIsICJkYXNoQXJyYXkiOiBudWxsLCAiZGFzaE9mZnNldCI6IG51bGwsICJmaWxsIjogdHJ1ZSwgImZpbGxDb2xvciI6ICIjMzE4NmNjIiwgImZpbGxPcGFjaXR5IjogMC43LCAiZmlsbFJ1bGUiOiAiZXZlbm9kZCIsICJsaW5lQ2FwIjogInJvdW5kIiwgImxpbmVKb2luIjogInJvdW5kIiwgIm9wYWNpdHkiOiAxLjAsICJyYWRpdXMiOiA0LCAic3Ryb2tlIjogdHJ1ZSwgIndlaWdodCI6IDN9CiAgICAgICAgICAgICkuYWRkVG8obWFwX2MyMWZhMTYxMzdkMTQ3ZGJhNTlmZmViMjExOTljNzdmKTsKICAgICAgICAKICAgIAogICAgICAgIHZhciBwb3B1cF9mMGNiMTE2YjcxOWI0ZTdmOGEzYWRjY2NmZjA1YWNhYyA9IEwucG9wdXAoeyJtYXhXaWR0aCI6ICIxMDAlIn0pOwoKICAgICAgICAKICAgICAgICAgICAgdmFyIGh0bWxfYmE1MDMyZjBkMTY5NDZiMWI2NTM0NzhkNjYyOWRlYmEgPSAkKGA8ZGl2IGlkPSJodG1sX2JhNTAzMmYwZDE2OTQ2YjFiNjUzNDc4ZDY2MjlkZWJhIiBzdHlsZT0id2lkdGg6IDEwMC4wJTsgaGVpZ2h0OiAxMDAuMCU7Ij5FdG9iaWNva2UsIE04WCwgVGhlIEtpbmdzd2F5IC8gTW9udGdvbWVyeSBSb2FkIC8gT2xkIE1pbGwgTm9ydGg8L2Rpdj5gKVswXTsKICAgICAgICAgICAgcG9wdXBfZjBjYjExNmI3MTliNGU3ZjhhM2FkY2NjZmYwNWFjYWMuc2V0Q29udGVudChodG1sX2JhNTAzMmYwZDE2OTQ2YjFiNjUzNDc4ZDY2MjlkZWJhKTsKICAgICAgICAKCiAgICAgICAgY2lyY2xlX21hcmtlcl9jOTUxMTQyNzZlZGQ0OWU0ODBmNjdiNDgzY2ZmNDQyMC5iaW5kUG9wdXAocG9wdXBfZjBjYjExNmI3MTliNGU3ZjhhM2FkY2NjZmYwNWFjYWMpCiAgICAgICAgOwoKICAgICAgICAKICAgIAogICAgCiAgICAgICAgICAgIHZhciBjaXJjbGVfbWFya2VyXzRlYzI1OWRkMjgzMDRkNDg5YzkzODNlYTgyNDQwMDM0ID0gTC5jaXJjbGVNYXJrZXIoCiAgICAgICAgICAgICAgICBbNDMuNjY1ODU5OSwgLTc5LjM4MzE1OTkwMDAwMDAxXSwKICAgICAgICAgICAgICAgIHsiYnViYmxpbmdNb3VzZUV2ZW50cyI6IHRydWUsICJjb2xvciI6ICJyZWQiLCAiZGFzaEFycmF5IjogbnVsbCwgImRhc2hPZmZzZXQiOiBudWxsLCAiZmlsbCI6IHRydWUsICJmaWxsQ29sb3IiOiAiIzMxODZjYyIsICJmaWxsT3BhY2l0eSI6IDAuNywgImZpbGxSdWxlIjogImV2ZW5vZGQiLCAibGluZUNhcCI6ICJyb3VuZCIsICJsaW5lSm9pbiI6ICJyb3VuZCIsICJvcGFjaXR5IjogMS4wLCAicmFkaXVzIjogNCwgInN0cm9rZSI6IHRydWUsICJ3ZWlnaHQiOiAzfQogICAgICAgICAgICApLmFkZFRvKG1hcF9jMjFmYTE2MTM3ZDE0N2RiYTU5ZmZlYjIxMTk5Yzc3Zik7CiAgICAgICAgCiAgICAKICAgICAgICB2YXIgcG9wdXBfOTc0Yjk2M2NhZTk3NDQwYTgwMTRhNTBhNzUwY2ZjYzAgPSBMLnBvcHVwKHsibWF4V2lkdGgiOiAiMTAwJSJ9KTsKCiAgICAgICAgCiAgICAgICAgICAgIHZhciBodG1sXzI4ZTc5ZjczYzU1ZjQ5NDc5MGY2MDkyZDI4ODNlYjIxID0gJChgPGRpdiBpZD0iaHRtbF8yOGU3OWY3M2M1NWY0OTQ3OTBmNjA5MmQyODgzZWIyMSIgc3R5bGU9IndpZHRoOiAxMDAuMCU7IGhlaWdodDogMTAwLjAlOyI+RG93bnRvd24gVG9yb250bywgTTRZLCBDaHVyY2ggYW5kIFdlbGxlc2xleTwvZGl2PmApWzBdOwogICAgICAgICAgICBwb3B1cF85NzRiOTYzY2FlOTc0NDBhODAxNGE1MGE3NTBjZmNjMC5zZXRDb250ZW50KGh0bWxfMjhlNzlmNzNjNTVmNDk0NzkwZjYwOTJkMjg4M2ViMjEpOwogICAgICAgIAoKICAgICAgICBjaXJjbGVfbWFya2VyXzRlYzI1OWRkMjgzMDRkNDg5YzkzODNlYTgyNDQwMDM0LmJpbmRQb3B1cChwb3B1cF85NzRiOTYzY2FlOTc0NDBhODAxNGE1MGE3NTBjZmNjMCkKICAgICAgICA7CgogICAgICAgIAogICAgCiAgICAKICAgICAgICAgICAgdmFyIGNpcmNsZV9tYXJrZXJfODI1NjYyNTNjN2Q1NDIxN2IyNDQ1NzcyMzIzOTU4MTkgPSBMLmNpcmNsZU1hcmtlcigKICAgICAgICAgICAgICAgIFs0My42NjI3NDM5LCAtNzkuMzIxNTU4XSwKICAgICAgICAgICAgICAgIHsiYnViYmxpbmdNb3VzZUV2ZW50cyI6IHRydWUsICJjb2xvciI6ICJyZWQiLCAiZGFzaEFycmF5IjogbnVsbCwgImRhc2hPZmZzZXQiOiBudWxsLCAiZmlsbCI6IHRydWUsICJmaWxsQ29sb3IiOiAiIzMxODZjYyIsICJmaWxsT3BhY2l0eSI6IDAuNywgImZpbGxSdWxlIjogImV2ZW5vZGQiLCAibGluZUNhcCI6ICJyb3VuZCIsICJsaW5lSm9pbiI6ICJyb3VuZCIsICJvcGFjaXR5IjogMS4wLCAicmFkaXVzIjogNCwgInN0cm9rZSI6IHRydWUsICJ3ZWlnaHQiOiAzfQogICAgICAgICAgICApLmFkZFRvKG1hcF9jMjFmYTE2MTM3ZDE0N2RiYTU5ZmZlYjIxMTk5Yzc3Zik7CiAgICAgICAgCiAgICAKICAgICAgICB2YXIgcG9wdXBfYzFhNGRiYjA0NzA5NDY4YmFkYjdhMTgwNjlkMTdhY2QgPSBMLnBvcHVwKHsibWF4V2lkdGgiOiAiMTAwJSJ9KTsKCiAgICAgICAgCiAgICAgICAgICAgIHZhciBodG1sXzM5YzkzYWIxNjY0MjQ3ODE4NTEwMTE0NjlkZWRmNzljID0gJChgPGRpdiBpZD0iaHRtbF8zOWM5M2FiMTY2NDI0NzgxODUxMDExNDY5ZGVkZjc5YyIgc3R5bGU9IndpZHRoOiAxMDAuMCU7IGhlaWdodDogMTAwLjAlOyI+RWFzdCBUb3JvbnRvLCBNN1ksIEJ1c2luZXNzIHJlcGx5IG1haWwgUHJvY2Vzc2luZyBDZW50ckU8L2Rpdj5gKVswXTsKICAgICAgICAgICAgcG9wdXBfYzFhNGRiYjA0NzA5NDY4YmFkYjdhMTgwNjlkMTdhY2Quc2V0Q29udGVudChodG1sXzM5YzkzYWIxNjY0MjQ3ODE4NTEwMTE0NjlkZWRmNzljKTsKICAgICAgICAKCiAgICAgICAgY2lyY2xlX21hcmtlcl84MjU2NjI1M2M3ZDU0MjE3YjI0NDU3NzIzMjM5NTgxOS5iaW5kUG9wdXAocG9wdXBfYzFhNGRiYjA0NzA5NDY4YmFkYjdhMTgwNjlkMTdhY2QpCiAgICAgICAgOwoKICAgICAgICAKICAgIAogICAgCiAgICAgICAgICAgIHZhciBjaXJjbGVfbWFya2VyXzc0YTUyYTg4YjFlODQ2MzJiNmYzMmYzY2UwMGIyMWMwID0gTC5jaXJjbGVNYXJrZXIoCiAgICAgICAgICAgICAgICBbNDMuNjM2MjU3OSwgLTc5LjQ5ODUwOTA5OTk5OTk5XSwKICAgICAgICAgICAgICAgIHsiYnViYmxpbmdNb3VzZUV2ZW50cyI6IHRydWUsICJjb2xvciI6ICJyZWQiLCAiZGFzaEFycmF5IjogbnVsbCwgImRhc2hPZmZzZXQiOiBudWxsLCAiZmlsbCI6IHRydWUsICJmaWxsQ29sb3IiOiAiIzMxODZjYyIsICJmaWxsT3BhY2l0eSI6IDAuNywgImZpbGxSdWxlIjogImV2ZW5vZGQiLCAibGluZUNhcCI6ICJyb3VuZCIsICJsaW5lSm9pbiI6ICJyb3VuZCIsICJvcGFjaXR5IjogMS4wLCAicmFkaXVzIjogNCwgInN0cm9rZSI6IHRydWUsICJ3ZWlnaHQiOiAzfQogICAgICAgICAgICApLmFkZFRvKG1hcF9jMjFmYTE2MTM3ZDE0N2RiYTU5ZmZlYjIxMTk5Yzc3Zik7CiAgICAgICAgCiAgICAKICAgICAgICB2YXIgcG9wdXBfYmQ2Y2YwNWVhNTIzNDM3ODk1MjY1ZmU0MWRiNDgzZGYgPSBMLnBvcHVwKHsibWF4V2lkdGgiOiAiMTAwJSJ9KTsKCiAgICAgICAgCiAgICAgICAgICAgIHZhciBodG1sXzE5NmEzNTlmZjk3ODRhODE5Y2Q2OTFhMzJiZjcxZDQzID0gJChgPGRpdiBpZD0iaHRtbF8xOTZhMzU5ZmY5Nzg0YTgxOWNkNjkxYTMyYmY3MWQ0MyIgc3R5bGU9IndpZHRoOiAxMDAuMCU7IGhlaWdodDogMTAwLjAlOyI+RXRvYmljb2tlLCBNOFksIE9sZCBNaWxsIFNvdXRoIC8gS2luZyYjMzk7cyBNaWxsIFBhcmsgLyBTdW5ueWxlYSAvIEh1bWJlciBCYXkgLyBNaW1pY28gTkUgLyBUaGUgUXVlZW5zd2F5IEVhc3QgLyBSb3lhbCBZb3JrIFNvdXRoIEVhc3QgLyBLaW5nc3dheSBQYXJrIFNvdXRoIEVhc3Q8L2Rpdj5gKVswXTsKICAgICAgICAgICAgcG9wdXBfYmQ2Y2YwNWVhNTIzNDM3ODk1MjY1ZmU0MWRiNDgzZGYuc2V0Q29udGVudChodG1sXzE5NmEzNTlmZjk3ODRhODE5Y2Q2OTFhMzJiZjcxZDQzKTsKICAgICAgICAKCiAgICAgICAgY2lyY2xlX21hcmtlcl83NGE1MmE4OGIxZTg0NjMyYjZmMzJmM2NlMDBiMjFjMC5iaW5kUG9wdXAocG9wdXBfYmQ2Y2YwNWVhNTIzNDM3ODk1MjY1ZmU0MWRiNDgzZGYpCiAgICAgICAgOwoKICAgICAgICAKICAgIAogICAgCiAgICAgICAgICAgIHZhciBjaXJjbGVfbWFya2VyX2M4OGFjMDc4YThlOTQ5ZTI5Yzg4MDA3YTc0NTVmMDgwID0gTC5jaXJjbGVNYXJrZXIoCiAgICAgICAgICAgICAgICBbNDMuNjI4ODQwOCwgLTc5LjUyMDk5OTQwMDAwMDAxXSwKICAgICAgICAgICAgICAgIHsiYnViYmxpbmdNb3VzZUV2ZW50cyI6IHRydWUsICJjb2xvciI6ICJyZWQiLCAiZGFzaEFycmF5IjogbnVsbCwgImRhc2hPZmZzZXQiOiBudWxsLCAiZmlsbCI6IHRydWUsICJmaWxsQ29sb3IiOiAiIzMxODZjYyIsICJmaWxsT3BhY2l0eSI6IDAuNywgImZpbGxSdWxlIjogImV2ZW5vZGQiLCAibGluZUNhcCI6ICJyb3VuZCIsICJsaW5lSm9pbiI6ICJyb3VuZCIsICJvcGFjaXR5IjogMS4wLCAicmFkaXVzIjogNCwgInN0cm9rZSI6IHRydWUsICJ3ZWlnaHQiOiAzfQogICAgICAgICAgICApLmFkZFRvKG1hcF9jMjFmYTE2MTM3ZDE0N2RiYTU5ZmZlYjIxMTk5Yzc3Zik7CiAgICAgICAgCiAgICAKICAgICAgICB2YXIgcG9wdXBfNjU2M2E5OWRhYzc2NGYyYzk1NDc4OTU4MDkzYTg4ZmUgPSBMLnBvcHVwKHsibWF4V2lkdGgiOiAiMTAwJSJ9KTsKCiAgICAgICAgCiAgICAgICAgICAgIHZhciBodG1sXzVhNmU4MGE4OGE5MjQ3YjM4NzVkMGUxYjEwZjFlZDIyID0gJChgPGRpdiBpZD0iaHRtbF81YTZlODBhODhhOTI0N2IzODc1ZDBlMWIxMGYxZWQyMiIgc3R5bGU9IndpZHRoOiAxMDAuMCU7IGhlaWdodDogMTAwLjAlOyI+RXRvYmljb2tlLCBNOFosIE1pbWljbyBOVyAvIFRoZSBRdWVlbnN3YXkgV2VzdCAvIFNvdXRoIG9mIEJsb29yIC8gS2luZ3N3YXkgUGFyayBTb3V0aCBXZXN0IC8gUm95YWwgWW9yayBTb3V0aCBXZXN0PC9kaXY+YClbMF07CiAgICAgICAgICAgIHBvcHVwXzY1NjNhOTlkYWM3NjRmMmM5NTQ3ODk1ODA5M2E4OGZlLnNldENvbnRlbnQoaHRtbF81YTZlODBhODhhOTI0N2IzODc1ZDBlMWIxMGYxZWQyMik7CiAgICAgICAgCgogICAgICAgIGNpcmNsZV9tYXJrZXJfYzg4YWMwNzhhOGU5NDllMjljODgwMDdhNzQ1NWYwODAuYmluZFBvcHVwKHBvcHVwXzY1NjNhOTlkYWM3NjRmMmM5NTQ3ODk1ODA5M2E4OGZlKQogICAgICAgIDsKCiAgICAgICAgCiAgICAKPC9zY3JpcHQ+ onload=\"this.contentDocument.open();this.contentDocument.write(atob(this.getAttribute('data-html')));this.contentDocument.close();\" allowfullscreen webkitallowfullscreen mozallowfullscreen></iframe></div></div>"
      ],
      "text/plain": [
       "<folium.folium.Map at 0x2315b144da0>"
      ]
     },
     "execution_count": 48,
     "metadata": {},
     "output_type": "execute_result"
    }
   ],
   "source": [
    "# create map of New York using latitude and longitude values\n",
    "map_toronto = folium.Map(location=[latitude, longitude], zoom_start=10)\n",
    "\n",
    "# add markers to map\n",
    "for lat, lng, borough, postal_code, neighborhoods in zip(toronto_postal_latlng_df['Latitude'],\n",
    "                                                         toronto_postal_latlng_df['Longitude'],\n",
    "                                                         toronto_postal_latlng_df['Borough'],\n",
    "                                                         toronto_postal_latlng_df['Postal Code'],\n",
    "                                                         toronto_postal_latlng_df['Neighborhood']):\n",
    "    label = '{}, {}, {}'.format(borough, postal_code, neighborhoods)\n",
    "    label = folium.Popup(label, parse_html=True)\n",
    "    folium.CircleMarker(\n",
    "        [lat, lng],\n",
    "        radius=4,\n",
    "        popup=label,\n",
    "        color='red',\n",
    "        fill=True,\n",
    "        fill_color='#3186cc',\n",
    "        fill_opacity=0.7,\n",
    "        parse_html=False\n",
    "    ).add_to(map_toronto)\n",
    "    \n",
    "map_toronto"
   ]
  },
  {
   "cell_type": "markdown",
   "metadata": {},
   "source": [
    "### 3. Explore Neighborhoods (Postal Codes) in Toronto"
   ]
  },
  {
   "cell_type": "code",
   "execution_count": 37,
   "metadata": {},
   "outputs": [],
   "source": [
    "# Foursquare credentials and version\n",
    "CLIENT_ID = 'DHBE22VPGL02ZITFEVU31JVYCV0SZJ3EGFHIUMRTKRTE4VIJ' # your Foursquare ID\n",
    "CLIENT_SECRET = 'MCUC5VDGQMKFR40MMXYOWRDRGYUCPCA4MHIKRMGYW2DX0VGZ' # your Foursquare Secret\n",
    "VERSION = '20190425' # Foursquare API version\n",
    "\n",
    "radius = 500\n",
    "LIMIT = 100"
   ]
  },
  {
   "cell_type": "code",
   "execution_count": 46,
   "metadata": {},
   "outputs": [],
   "source": [
    "def getNearbyVenues(postal_codes, neighborhoods, latitudes, longitudes, radius=500):\n",
    "    \n",
    "    venues_list=[]\n",
    "    for postal_code, neighborhood, lat, lng in zip(postal_codes, neighborhoods, latitudes, longitudes):\n",
    "#         print(name)\n",
    "            \n",
    "        # create the API request URL\n",
    "        url = 'https://api.foursquare.com/v2/venues/explore?&client_id={}&client_secret={}&v={}&ll={},{}&radius={}&limit={}'.format(\n",
    "            CLIENT_ID, \n",
    "            CLIENT_SECRET, \n",
    "            VERSION, \n",
    "            lat, \n",
    "            lng, \n",
    "            radius, \n",
    "            LIMIT)\n",
    "            \n",
    "        # make the GET request\n",
    "        results = requests.get(url).json()[\"response\"]['groups'][0]['items']\n",
    "        \n",
    "        \n",
    "        # return only relevant information for each nearby venue\n",
    "        venues_list.append([(\n",
    "            postal_code,\n",
    "            neighborhood,\n",
    "            lat, \n",
    "            lng, \n",
    "            v['venue']['name'], \n",
    "            v['venue']['location']['lat'], \n",
    "            v['venue']['location']['lng'],  \n",
    "            v['venue']['categories'][0]['name']) for v in results])\n",
    "\n",
    "    nearby_venues = pd.DataFrame([item for venue_list in venues_list for item in venue_list])\n",
    "    nearby_venues.columns = ['PostalCode',\n",
    "                  'Neighborhood',\n",
    "                  'Postal Code Latitude', \n",
    "                  'Postal Code Longitude', \n",
    "                  'Venue', \n",
    "                  'Venue Latitude', \n",
    "                  'Venue Longitude', \n",
    "                  'Venue Category']\n",
    "    \n",
    "    return(nearby_venues)"
   ]
  },
  {
   "cell_type": "markdown",
   "metadata": {},
   "source": [
    "* Run the above function on each postal code and create a new dataframe called toronto_venues"
   ]
  },
  {
   "cell_type": "code",
   "execution_count": 47,
   "metadata": {},
   "outputs": [
    {
     "ename": "KeyError",
     "evalue": "'groups'",
     "output_type": "error",
     "traceback": [
      "\u001b[1;31m---------------------------------------------------------------------------\u001b[0m",
      "\u001b[1;31mKeyError\u001b[0m                                  Traceback (most recent call last)",
      "\u001b[1;32m<ipython-input-47-1567ed25aa1a>\u001b[0m in \u001b[0;36m<module>\u001b[1;34m\u001b[0m\n\u001b[0;32m      2\u001b[0m                                  \u001b[0mneighborhoods\u001b[0m\u001b[1;33m=\u001b[0m\u001b[0mtoronto_postal_latlng_df\u001b[0m\u001b[1;33m[\u001b[0m\u001b[1;34m'Neighborhood'\u001b[0m\u001b[1;33m]\u001b[0m\u001b[1;33m,\u001b[0m\u001b[1;33m\u001b[0m\u001b[1;33m\u001b[0m\u001b[0m\n\u001b[0;32m      3\u001b[0m                                  \u001b[0mlatitudes\u001b[0m\u001b[1;33m=\u001b[0m\u001b[0mtoronto_postal_latlng_df\u001b[0m\u001b[1;33m[\u001b[0m\u001b[1;34m'Latitude'\u001b[0m\u001b[1;33m]\u001b[0m\u001b[1;33m,\u001b[0m\u001b[1;33m\u001b[0m\u001b[1;33m\u001b[0m\u001b[0m\n\u001b[1;32m----> 4\u001b[1;33m                                  longitudes=toronto_postal_latlng_df['Longitude'])\n\u001b[0m",
      "\u001b[1;32m<ipython-input-46-dee8ac322261>\u001b[0m in \u001b[0;36mgetNearbyVenues\u001b[1;34m(postal_codes, neighborhoods, latitudes, longitudes, radius)\u001b[0m\n\u001b[0;32m     16\u001b[0m \u001b[1;33m\u001b[0m\u001b[0m\n\u001b[0;32m     17\u001b[0m         \u001b[1;31m# make the GET request\u001b[0m\u001b[1;33m\u001b[0m\u001b[1;33m\u001b[0m\u001b[1;33m\u001b[0m\u001b[0m\n\u001b[1;32m---> 18\u001b[1;33m         \u001b[0mresults\u001b[0m \u001b[1;33m=\u001b[0m \u001b[0mrequests\u001b[0m\u001b[1;33m.\u001b[0m\u001b[0mget\u001b[0m\u001b[1;33m(\u001b[0m\u001b[0murl\u001b[0m\u001b[1;33m)\u001b[0m\u001b[1;33m.\u001b[0m\u001b[0mjson\u001b[0m\u001b[1;33m(\u001b[0m\u001b[1;33m)\u001b[0m\u001b[1;33m[\u001b[0m\u001b[1;34m\"response\"\u001b[0m\u001b[1;33m]\u001b[0m\u001b[1;33m[\u001b[0m\u001b[1;34m'groups'\u001b[0m\u001b[1;33m]\u001b[0m\u001b[1;33m[\u001b[0m\u001b[1;36m0\u001b[0m\u001b[1;33m]\u001b[0m\u001b[1;33m[\u001b[0m\u001b[1;34m'items'\u001b[0m\u001b[1;33m]\u001b[0m\u001b[1;33m\u001b[0m\u001b[1;33m\u001b[0m\u001b[0m\n\u001b[0m\u001b[0;32m     19\u001b[0m \u001b[1;33m\u001b[0m\u001b[0m\n\u001b[0;32m     20\u001b[0m \u001b[1;33m\u001b[0m\u001b[0m\n",
      "\u001b[1;31mKeyError\u001b[0m: 'groups'"
     ]
    }
   ],
   "source": [
    "toronto_venues = getNearbyVenues(postal_codes=toronto_postal_latlng_df['Postal Code'],\n",
    "                                 neighborhoods=toronto_postal_latlng_df['Neighborhood'],\n",
    "                                 latitudes=toronto_postal_latlng_df['Latitude'],\n",
    "                                 longitudes=toronto_postal_latlng_df['Longitude'])"
   ]
  },
  {
   "cell_type": "code",
   "execution_count": null,
   "metadata": {},
   "outputs": [],
   "source": [
    "print(toronto_venues.shape)\n",
    "toronto_venues.head(10)"
   ]
  },
  {
   "cell_type": "code",
   "execution_count": null,
   "metadata": {},
   "outputs": [],
   "source": []
  },
  {
   "cell_type": "code",
   "execution_count": null,
   "metadata": {},
   "outputs": [],
   "source": []
  }
 ],
 "metadata": {
  "kernelspec": {
   "display_name": "Python 3",
   "language": "python",
   "name": "python3"
  },
  "language_info": {
   "codemirror_mode": {
    "name": "ipython",
    "version": 3
   },
   "file_extension": ".py",
   "mimetype": "text/x-python",
   "name": "python",
   "nbconvert_exporter": "python",
   "pygments_lexer": "ipython3",
   "version": "3.7.3"
  }
 },
 "nbformat": 4,
 "nbformat_minor": 2
}
